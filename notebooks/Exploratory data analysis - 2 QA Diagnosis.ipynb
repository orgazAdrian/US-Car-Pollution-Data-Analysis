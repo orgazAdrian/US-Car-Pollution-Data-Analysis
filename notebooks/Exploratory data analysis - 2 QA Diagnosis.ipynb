{
 "cells": [
  {
   "cell_type": "code",
   "execution_count": 2,
   "id": "virgin-inclusion",
   "metadata": {},
   "outputs": [],
   "source": [
    "import pandas as pd"
   ]
  },
  {
   "cell_type": "code",
   "execution_count": 3,
   "id": "literary-bookmark",
   "metadata": {},
   "outputs": [],
   "source": [
    "vehicles = pd.read_csv(\"../data/vehiculos_original.csv\")"
   ]
  },
  {
   "cell_type": "code",
   "execution_count": 4,
   "id": "agreed-notification",
   "metadata": {},
   "outputs": [
    {
     "data": {
      "text/plain": [
       "make               object\n",
       "model              object\n",
       "year                int64\n",
       "displ             float64\n",
       "cylinders         float64\n",
       "trany              object\n",
       "drive              object\n",
       "VClass             object\n",
       "fuelType           object\n",
       "comb08              int64\n",
       "co2TailpipeGpm    float64\n",
       "dtype: object"
      ]
     },
     "execution_count": 4,
     "metadata": {},
     "output_type": "execute_result"
    }
   ],
   "source": [
    "vehicles.dtypes"
   ]
  },
  {
   "cell_type": "code",
   "execution_count": 5,
   "id": "mathematical-ordinary",
   "metadata": {},
   "outputs": [
    {
     "data": {
      "text/html": [
       "<div>\n",
       "<style scoped>\n",
       "    .dataframe tbody tr th:only-of-type {\n",
       "        vertical-align: middle;\n",
       "    }\n",
       "\n",
       "    .dataframe tbody tr th {\n",
       "        vertical-align: top;\n",
       "    }\n",
       "\n",
       "    .dataframe thead th {\n",
       "        text-align: right;\n",
       "    }\n",
       "</style>\n",
       "<table border=\"1\" class=\"dataframe\">\n",
       "  <thead>\n",
       "    <tr style=\"text-align: right;\">\n",
       "      <th></th>\n",
       "      <th>make</th>\n",
       "      <th>model</th>\n",
       "      <th>year</th>\n",
       "      <th>displ</th>\n",
       "      <th>cylinders</th>\n",
       "      <th>trany</th>\n",
       "      <th>drive</th>\n",
       "      <th>VClass</th>\n",
       "      <th>fuelType</th>\n",
       "      <th>comb08</th>\n",
       "      <th>co2TailpipeGpm</th>\n",
       "    </tr>\n",
       "  </thead>\n",
       "  <tbody>\n",
       "    <tr>\n",
       "      <th>0</th>\n",
       "      <td>AM General</td>\n",
       "      <td>DJ Po Vehicle 2WD</td>\n",
       "      <td>1984</td>\n",
       "      <td>2.5</td>\n",
       "      <td>4.0</td>\n",
       "      <td>Automatic 3-spd</td>\n",
       "      <td>2-Wheel Drive</td>\n",
       "      <td>Special Purpose Vehicle 2WD</td>\n",
       "      <td>Regular</td>\n",
       "      <td>17</td>\n",
       "      <td>522.764706</td>\n",
       "    </tr>\n",
       "    <tr>\n",
       "      <th>1</th>\n",
       "      <td>AM General</td>\n",
       "      <td>DJ Po Vehicle 2WD</td>\n",
       "      <td>1984</td>\n",
       "      <td>2.5</td>\n",
       "      <td>4.0</td>\n",
       "      <td>Automatic 3-spd</td>\n",
       "      <td>2-Wheel Drive</td>\n",
       "      <td>Special Purpose Vehicle 2WD</td>\n",
       "      <td>Regular</td>\n",
       "      <td>17</td>\n",
       "      <td>522.764706</td>\n",
       "    </tr>\n",
       "    <tr>\n",
       "      <th>2</th>\n",
       "      <td>AM General</td>\n",
       "      <td>FJ8c Post Office</td>\n",
       "      <td>1984</td>\n",
       "      <td>4.2</td>\n",
       "      <td>6.0</td>\n",
       "      <td>Automatic 3-spd</td>\n",
       "      <td>2-Wheel Drive</td>\n",
       "      <td>Special Purpose Vehicle 2WD</td>\n",
       "      <td>Regular</td>\n",
       "      <td>13</td>\n",
       "      <td>683.615385</td>\n",
       "    </tr>\n",
       "    <tr>\n",
       "      <th>3</th>\n",
       "      <td>AM General</td>\n",
       "      <td>FJ8c Post Office</td>\n",
       "      <td>1984</td>\n",
       "      <td>4.2</td>\n",
       "      <td>6.0</td>\n",
       "      <td>Automatic 3-spd</td>\n",
       "      <td>2-Wheel Drive</td>\n",
       "      <td>Special Purpose Vehicle 2WD</td>\n",
       "      <td>Regular</td>\n",
       "      <td>13</td>\n",
       "      <td>683.615385</td>\n",
       "    </tr>\n",
       "    <tr>\n",
       "      <th>4</th>\n",
       "      <td>AM General</td>\n",
       "      <td>Post Office DJ5 2WD</td>\n",
       "      <td>1985</td>\n",
       "      <td>2.5</td>\n",
       "      <td>4.0</td>\n",
       "      <td>Automatic 3-spd</td>\n",
       "      <td>Rear-Wheel Drive</td>\n",
       "      <td>Special Purpose Vehicle 2WD</td>\n",
       "      <td>Regular</td>\n",
       "      <td>16</td>\n",
       "      <td>555.437500</td>\n",
       "    </tr>\n",
       "  </tbody>\n",
       "</table>\n",
       "</div>"
      ],
      "text/plain": [
       "         make                model  year  displ  cylinders            trany  \\\n",
       "0  AM General    DJ Po Vehicle 2WD  1984    2.5        4.0  Automatic 3-spd   \n",
       "1  AM General    DJ Po Vehicle 2WD  1984    2.5        4.0  Automatic 3-spd   \n",
       "2  AM General     FJ8c Post Office  1984    4.2        6.0  Automatic 3-spd   \n",
       "3  AM General     FJ8c Post Office  1984    4.2        6.0  Automatic 3-spd   \n",
       "4  AM General  Post Office DJ5 2WD  1985    2.5        4.0  Automatic 3-spd   \n",
       "\n",
       "              drive                       VClass fuelType  comb08  \\\n",
       "0     2-Wheel Drive  Special Purpose Vehicle 2WD  Regular      17   \n",
       "1     2-Wheel Drive  Special Purpose Vehicle 2WD  Regular      17   \n",
       "2     2-Wheel Drive  Special Purpose Vehicle 2WD  Regular      13   \n",
       "3     2-Wheel Drive  Special Purpose Vehicle 2WD  Regular      13   \n",
       "4  Rear-Wheel Drive  Special Purpose Vehicle 2WD  Regular      16   \n",
       "\n",
       "   co2TailpipeGpm  \n",
       "0      522.764706  \n",
       "1      522.764706  \n",
       "2      683.615385  \n",
       "3      683.615385  \n",
       "4      555.437500  "
      ]
     },
     "execution_count": 5,
     "metadata": {},
     "output_type": "execute_result"
    }
   ],
   "source": [
    "vehicles.head()"
   ]
  },
  {
   "cell_type": "code",
   "execution_count": 6,
   "id": "sustained-butter",
   "metadata": {
    "scrolled": true
   },
   "outputs": [
    {
     "data": {
      "text/html": [
       "<div>\n",
       "<style scoped>\n",
       "    .dataframe tbody tr th:only-of-type {\n",
       "        vertical-align: middle;\n",
       "    }\n",
       "\n",
       "    .dataframe tbody tr th {\n",
       "        vertical-align: top;\n",
       "    }\n",
       "\n",
       "    .dataframe thead th {\n",
       "        text-align: right;\n",
       "    }\n",
       "</style>\n",
       "<table border=\"1\" class=\"dataframe\">\n",
       "  <thead>\n",
       "    <tr style=\"text-align: right;\">\n",
       "      <th></th>\n",
       "      <th>manufacturer</th>\n",
       "      <th>model</th>\n",
       "      <th>year</th>\n",
       "      <th>displ</th>\n",
       "      <th>cylinders</th>\n",
       "      <th>transmission</th>\n",
       "      <th>drive_wheels</th>\n",
       "      <th>Class</th>\n",
       "      <th>fuelType</th>\n",
       "      <th>consumption</th>\n",
       "      <th>CO2_emissions</th>\n",
       "    </tr>\n",
       "  </thead>\n",
       "  <tbody>\n",
       "    <tr>\n",
       "      <th>0</th>\n",
       "      <td>AM General</td>\n",
       "      <td>DJ Po Vehicle 2WD</td>\n",
       "      <td>1984</td>\n",
       "      <td>2.5</td>\n",
       "      <td>4.0</td>\n",
       "      <td>Automatic 3-spd</td>\n",
       "      <td>2-Wheel Drive</td>\n",
       "      <td>Special Purpose Vehicle 2WD</td>\n",
       "      <td>Regular</td>\n",
       "      <td>17</td>\n",
       "      <td>522.764706</td>\n",
       "    </tr>\n",
       "    <tr>\n",
       "      <th>1</th>\n",
       "      <td>AM General</td>\n",
       "      <td>DJ Po Vehicle 2WD</td>\n",
       "      <td>1984</td>\n",
       "      <td>2.5</td>\n",
       "      <td>4.0</td>\n",
       "      <td>Automatic 3-spd</td>\n",
       "      <td>2-Wheel Drive</td>\n",
       "      <td>Special Purpose Vehicle 2WD</td>\n",
       "      <td>Regular</td>\n",
       "      <td>17</td>\n",
       "      <td>522.764706</td>\n",
       "    </tr>\n",
       "    <tr>\n",
       "      <th>2</th>\n",
       "      <td>AM General</td>\n",
       "      <td>FJ8c Post Office</td>\n",
       "      <td>1984</td>\n",
       "      <td>4.2</td>\n",
       "      <td>6.0</td>\n",
       "      <td>Automatic 3-spd</td>\n",
       "      <td>2-Wheel Drive</td>\n",
       "      <td>Special Purpose Vehicle 2WD</td>\n",
       "      <td>Regular</td>\n",
       "      <td>13</td>\n",
       "      <td>683.615385</td>\n",
       "    </tr>\n",
       "    <tr>\n",
       "      <th>3</th>\n",
       "      <td>AM General</td>\n",
       "      <td>FJ8c Post Office</td>\n",
       "      <td>1984</td>\n",
       "      <td>4.2</td>\n",
       "      <td>6.0</td>\n",
       "      <td>Automatic 3-spd</td>\n",
       "      <td>2-Wheel Drive</td>\n",
       "      <td>Special Purpose Vehicle 2WD</td>\n",
       "      <td>Regular</td>\n",
       "      <td>13</td>\n",
       "      <td>683.615385</td>\n",
       "    </tr>\n",
       "    <tr>\n",
       "      <th>4</th>\n",
       "      <td>AM General</td>\n",
       "      <td>Post Office DJ5 2WD</td>\n",
       "      <td>1985</td>\n",
       "      <td>2.5</td>\n",
       "      <td>4.0</td>\n",
       "      <td>Automatic 3-spd</td>\n",
       "      <td>Rear-Wheel Drive</td>\n",
       "      <td>Special Purpose Vehicle 2WD</td>\n",
       "      <td>Regular</td>\n",
       "      <td>16</td>\n",
       "      <td>555.437500</td>\n",
       "    </tr>\n",
       "  </tbody>\n",
       "</table>\n",
       "</div>"
      ],
      "text/plain": [
       "  manufacturer                model  year  displ  cylinders     transmission  \\\n",
       "0   AM General    DJ Po Vehicle 2WD  1984    2.5        4.0  Automatic 3-spd   \n",
       "1   AM General    DJ Po Vehicle 2WD  1984    2.5        4.0  Automatic 3-spd   \n",
       "2   AM General     FJ8c Post Office  1984    4.2        6.0  Automatic 3-spd   \n",
       "3   AM General     FJ8c Post Office  1984    4.2        6.0  Automatic 3-spd   \n",
       "4   AM General  Post Office DJ5 2WD  1985    2.5        4.0  Automatic 3-spd   \n",
       "\n",
       "       drive_wheels                        Class fuelType  consumption  \\\n",
       "0     2-Wheel Drive  Special Purpose Vehicle 2WD  Regular           17   \n",
       "1     2-Wheel Drive  Special Purpose Vehicle 2WD  Regular           17   \n",
       "2     2-Wheel Drive  Special Purpose Vehicle 2WD  Regular           13   \n",
       "3     2-Wheel Drive  Special Purpose Vehicle 2WD  Regular           13   \n",
       "4  Rear-Wheel Drive  Special Purpose Vehicle 2WD  Regular           16   \n",
       "\n",
       "   CO2_emissions  \n",
       "0     522.764706  \n",
       "1     522.764706  \n",
       "2     683.615385  \n",
       "3     683.615385  \n",
       "4     555.437500  "
      ]
     },
     "execution_count": 6,
     "metadata": {},
     "output_type": "execute_result"
    }
   ],
   "source": [
    "dict = {'make': 'manufacturer',\n",
    "        'model': 'model',\n",
    "        'year': 'year',\n",
    "       'displ': 'displ',\n",
    "       'cylinders':'cylinders',\n",
    "       'trany':'transmission',\n",
    "       'drive':'drive_wheels',\n",
    "       'VClass': 'Class',\n",
    "       'fuelType':'fuelType',\n",
    "       'comb08':'consumption',\n",
    "       'co2TailpipeGpm': 'CO2_emissions'}\n",
    "             \n",
    "vehicles.rename(columns=dict,\n",
    "          inplace=True)\n",
    "vehicles.head()"
   ]
  },
  {
   "cell_type": "code",
   "execution_count": 7,
   "id": "occasional-smooth",
   "metadata": {},
   "outputs": [
    {
     "data": {
      "text/html": [
       "<div>\n",
       "<style scoped>\n",
       "    .dataframe tbody tr th:only-of-type {\n",
       "        vertical-align: middle;\n",
       "    }\n",
       "\n",
       "    .dataframe tbody tr th {\n",
       "        vertical-align: top;\n",
       "    }\n",
       "\n",
       "    .dataframe thead th {\n",
       "        text-align: right;\n",
       "    }\n",
       "</style>\n",
       "<table border=\"1\" class=\"dataframe\">\n",
       "  <thead>\n",
       "    <tr style=\"text-align: right;\">\n",
       "      <th></th>\n",
       "      <th>manufacturer</th>\n",
       "      <th>model</th>\n",
       "      <th>year</th>\n",
       "      <th>displ</th>\n",
       "      <th>cylinders</th>\n",
       "      <th>transmission</th>\n",
       "      <th>drive_wheels</th>\n",
       "      <th>Class</th>\n",
       "      <th>fuelType</th>\n",
       "      <th>consumption</th>\n",
       "      <th>CO2_emissions</th>\n",
       "    </tr>\n",
       "  </thead>\n",
       "  <tbody>\n",
       "    <tr>\n",
       "      <th>0</th>\n",
       "      <td>AM General</td>\n",
       "      <td>DJ Po Vehicle 2WD</td>\n",
       "      <td>1984</td>\n",
       "      <td>2.5</td>\n",
       "      <td>4.0</td>\n",
       "      <td>Automatic 3-spd</td>\n",
       "      <td>2-Wheel Drive</td>\n",
       "      <td>Special Purpose Vehicle 2WD</td>\n",
       "      <td>Regular</td>\n",
       "      <td>17</td>\n",
       "      <td>522.764706</td>\n",
       "    </tr>\n",
       "    <tr>\n",
       "      <th>1</th>\n",
       "      <td>AM General</td>\n",
       "      <td>DJ Po Vehicle 2WD</td>\n",
       "      <td>1984</td>\n",
       "      <td>2.5</td>\n",
       "      <td>4.0</td>\n",
       "      <td>Automatic 3-spd</td>\n",
       "      <td>2-Wheel Drive</td>\n",
       "      <td>Special Purpose Vehicle 2WD</td>\n",
       "      <td>Regular</td>\n",
       "      <td>17</td>\n",
       "      <td>522.764706</td>\n",
       "    </tr>\n",
       "    <tr>\n",
       "      <th>2</th>\n",
       "      <td>AM General</td>\n",
       "      <td>FJ8c Post Office</td>\n",
       "      <td>1984</td>\n",
       "      <td>4.2</td>\n",
       "      <td>6.0</td>\n",
       "      <td>Automatic 3-spd</td>\n",
       "      <td>2-Wheel Drive</td>\n",
       "      <td>Special Purpose Vehicle 2WD</td>\n",
       "      <td>Regular</td>\n",
       "      <td>13</td>\n",
       "      <td>683.615385</td>\n",
       "    </tr>\n",
       "    <tr>\n",
       "      <th>3</th>\n",
       "      <td>AM General</td>\n",
       "      <td>FJ8c Post Office</td>\n",
       "      <td>1984</td>\n",
       "      <td>4.2</td>\n",
       "      <td>6.0</td>\n",
       "      <td>Automatic 3-spd</td>\n",
       "      <td>2-Wheel Drive</td>\n",
       "      <td>Special Purpose Vehicle 2WD</td>\n",
       "      <td>Regular</td>\n",
       "      <td>13</td>\n",
       "      <td>683.615385</td>\n",
       "    </tr>\n",
       "    <tr>\n",
       "      <th>4</th>\n",
       "      <td>AM General</td>\n",
       "      <td>Post Office DJ5 2WD</td>\n",
       "      <td>1985</td>\n",
       "      <td>2.5</td>\n",
       "      <td>4.0</td>\n",
       "      <td>Automatic 3-spd</td>\n",
       "      <td>Rear-Wheel Drive</td>\n",
       "      <td>Special Purpose Vehicle 2WD</td>\n",
       "      <td>Regular</td>\n",
       "      <td>16</td>\n",
       "      <td>555.437500</td>\n",
       "    </tr>\n",
       "  </tbody>\n",
       "</table>\n",
       "</div>"
      ],
      "text/plain": [
       "  manufacturer                model  year  displ  cylinders     transmission  \\\n",
       "0   AM General    DJ Po Vehicle 2WD  1984    2.5        4.0  Automatic 3-spd   \n",
       "1   AM General    DJ Po Vehicle 2WD  1984    2.5        4.0  Automatic 3-spd   \n",
       "2   AM General     FJ8c Post Office  1984    4.2        6.0  Automatic 3-spd   \n",
       "3   AM General     FJ8c Post Office  1984    4.2        6.0  Automatic 3-spd   \n",
       "4   AM General  Post Office DJ5 2WD  1985    2.5        4.0  Automatic 3-spd   \n",
       "\n",
       "       drive_wheels                        Class fuelType  consumption  \\\n",
       "0     2-Wheel Drive  Special Purpose Vehicle 2WD  Regular           17   \n",
       "1     2-Wheel Drive  Special Purpose Vehicle 2WD  Regular           17   \n",
       "2     2-Wheel Drive  Special Purpose Vehicle 2WD  Regular           13   \n",
       "3     2-Wheel Drive  Special Purpose Vehicle 2WD  Regular           13   \n",
       "4  Rear-Wheel Drive  Special Purpose Vehicle 2WD  Regular           16   \n",
       "\n",
       "   CO2_emissions  \n",
       "0     522.764706  \n",
       "1     522.764706  \n",
       "2     683.615385  \n",
       "3     683.615385  \n",
       "4     555.437500  "
      ]
     },
     "execution_count": 7,
     "metadata": {},
     "output_type": "execute_result"
    }
   ],
   "source": [
    "vehicles.rename({'CO2 emmissions':'CO2 emissions'}, inplace=True)\n",
    "vehicles.head()"
   ]
  },
  {
   "cell_type": "markdown",
   "id": "outside-indonesia",
   "metadata": {},
   "source": [
    "## Description of entities\n",
    "\n",
    "### manufacturer\n",
    "### manufacturer+model\n",
    "### manufacturer+model+year\n",
    "### manufacturer+year\n"
   ]
  },
  {
   "cell_type": "code",
   "execution_count": 12,
   "id": "amateur-command",
   "metadata": {},
   "outputs": [],
   "source": [
    "vehicles.to_csv(\"../data/vehicles.1.procesado_inicial_csv\", index=False)"
   ]
  },
  {
   "cell_type": "markdown",
   "id": "solid-uzbekistan",
   "metadata": {},
   "source": [
    "# QA of the dataset"
   ]
  },
  {
   "cell_type": "code",
   "execution_count": 13,
   "id": "biological-algeria",
   "metadata": {},
   "outputs": [],
   "source": [
    "%matplotlib inline\n",
    "import matplotlib.pyplot as plt\n",
    "\n",
    "plt.rcParams['figure.figsize'] = (12,12) #10 inch wide-lenght for all plots "
   ]
  },
  {
   "cell_type": "markdown",
   "id": "prescription-clause",
   "metadata": {},
   "source": [
    "## Duplicates\n",
    "#### At this point, we will try to distinguish:\n",
    "    · Assure the data consists on those which should be non-duplicated values, are efectively, non-duplicates\n",
    "    · To check whether the rows coinstains a high number of duplicated values, since they do not provide valuable information\n",
    "    \n",
    "Our entities were at the beginning:\n",
    "\n",
    "    manufacturer\n",
    "    manufacturer+model\n",
    "    manufacturer+model+year\n",
    "    manufacturer+year\n",
    "From these entities, it should not repet those indicates specified cars(i.e. manufacturer+model+year) "
   ]
  },
  {
   "cell_type": "code",
   "execution_count": 14,
   "id": "persistent-vaccine",
   "metadata": {},
   "outputs": [],
   "source": [
    "vehicles['unic_model'] = vehicles.manufacturer.str.cat([vehicles.model, vehicles.year.apply(str)], sep='-')"
   ]
  },
  {
   "cell_type": "code",
   "execution_count": 15,
   "id": "south-outreach",
   "metadata": {},
   "outputs": [
    {
     "data": {
      "text/plain": [
       "Jeep-Cherokee/Wagoneer-1985        24\n",
       "Chevrolet-C10 Pickup 2WD-1984      19\n",
       "Ford-F150 Pickup 2WD-1984          19\n",
       "GMC-C15 Pickup 2WD-1984            19\n",
       "Chevrolet-C10 Pickup 2WD-1985      18\n",
       "                                   ..\n",
       "Mercedes-Benz-ML430-2000            1\n",
       "Spyker-C8 Double 12 Spyder-2007     1\n",
       "smart-fortwo coupe-2014             1\n",
       "Mercedes-Benz-CLK500-2006           1\n",
       "Volkswagen-Tiguan-2018              1\n",
       "Name: unic_model, Length: 17448, dtype: int64"
      ]
     },
     "execution_count": 15,
     "metadata": {},
     "output_type": "execute_result"
    }
   ],
   "source": [
    "vehicles.unic_model.value_counts()"
   ]
  },
  {
   "cell_type": "markdown",
   "id": "central-confirmation",
   "metadata": {},
   "source": [
    "For this case as example [Chevrolet-C1500 Pickup 2WD-1991] we can appreciate variations on its gear, ciliders, etc. So they are not pure duplicates for us and should be considered in such way.  "
   ]
  },
  {
   "cell_type": "code",
   "execution_count": 16,
   "id": "intellectual-facial",
   "metadata": {},
   "outputs": [
    {
     "data": {
      "text/html": [
       "<div>\n",
       "<style scoped>\n",
       "    .dataframe tbody tr th:only-of-type {\n",
       "        vertical-align: middle;\n",
       "    }\n",
       "\n",
       "    .dataframe tbody tr th {\n",
       "        vertical-align: top;\n",
       "    }\n",
       "\n",
       "    .dataframe thead th {\n",
       "        text-align: right;\n",
       "    }\n",
       "</style>\n",
       "<table border=\"1\" class=\"dataframe\">\n",
       "  <thead>\n",
       "    <tr style=\"text-align: right;\">\n",
       "      <th></th>\n",
       "      <th>manufacturer</th>\n",
       "      <th>model</th>\n",
       "      <th>year</th>\n",
       "      <th>displ</th>\n",
       "      <th>cylinders</th>\n",
       "      <th>transmission</th>\n",
       "      <th>drive_wheels</th>\n",
       "      <th>Class</th>\n",
       "      <th>fuelType</th>\n",
       "      <th>consumption</th>\n",
       "      <th>CO2_emissions</th>\n",
       "      <th>unic_model</th>\n",
       "    </tr>\n",
       "  </thead>\n",
       "  <tbody>\n",
       "    <tr>\n",
       "      <th>4957</th>\n",
       "      <td>Chevrolet</td>\n",
       "      <td>C1500 Pickup 2WD</td>\n",
       "      <td>1991</td>\n",
       "      <td>4.3</td>\n",
       "      <td>6.0</td>\n",
       "      <td>Automatic 4-spd</td>\n",
       "      <td>Rear-Wheel Drive</td>\n",
       "      <td>Standard Pickup Trucks</td>\n",
       "      <td>Regular</td>\n",
       "      <td>17</td>\n",
       "      <td>522.764706</td>\n",
       "      <td>Chevrolet-C1500 Pickup 2WD-1991</td>\n",
       "    </tr>\n",
       "    <tr>\n",
       "      <th>4958</th>\n",
       "      <td>Chevrolet</td>\n",
       "      <td>C1500 Pickup 2WD</td>\n",
       "      <td>1991</td>\n",
       "      <td>4.3</td>\n",
       "      <td>6.0</td>\n",
       "      <td>Manual 4-spd</td>\n",
       "      <td>Rear-Wheel Drive</td>\n",
       "      <td>Standard Pickup Trucks</td>\n",
       "      <td>Regular</td>\n",
       "      <td>17</td>\n",
       "      <td>522.764706</td>\n",
       "      <td>Chevrolet-C1500 Pickup 2WD-1991</td>\n",
       "    </tr>\n",
       "    <tr>\n",
       "      <th>4959</th>\n",
       "      <td>Chevrolet</td>\n",
       "      <td>C1500 Pickup 2WD</td>\n",
       "      <td>1991</td>\n",
       "      <td>4.3</td>\n",
       "      <td>6.0</td>\n",
       "      <td>Manual 5-spd</td>\n",
       "      <td>Rear-Wheel Drive</td>\n",
       "      <td>Standard Pickup Trucks</td>\n",
       "      <td>Regular</td>\n",
       "      <td>17</td>\n",
       "      <td>522.764706</td>\n",
       "      <td>Chevrolet-C1500 Pickup 2WD-1991</td>\n",
       "    </tr>\n",
       "    <tr>\n",
       "      <th>4960</th>\n",
       "      <td>Chevrolet</td>\n",
       "      <td>C1500 Pickup 2WD</td>\n",
       "      <td>1991</td>\n",
       "      <td>4.3</td>\n",
       "      <td>6.0</td>\n",
       "      <td>Manual 5-spd</td>\n",
       "      <td>Rear-Wheel Drive</td>\n",
       "      <td>Standard Pickup Trucks</td>\n",
       "      <td>Regular</td>\n",
       "      <td>17</td>\n",
       "      <td>522.764706</td>\n",
       "      <td>Chevrolet-C1500 Pickup 2WD-1991</td>\n",
       "    </tr>\n",
       "    <tr>\n",
       "      <th>4961</th>\n",
       "      <td>Chevrolet</td>\n",
       "      <td>C1500 Pickup 2WD</td>\n",
       "      <td>1991</td>\n",
       "      <td>5.0</td>\n",
       "      <td>8.0</td>\n",
       "      <td>Automatic 4-spd</td>\n",
       "      <td>Rear-Wheel Drive</td>\n",
       "      <td>Standard Pickup Trucks</td>\n",
       "      <td>Regular</td>\n",
       "      <td>15</td>\n",
       "      <td>592.466667</td>\n",
       "      <td>Chevrolet-C1500 Pickup 2WD-1991</td>\n",
       "    </tr>\n",
       "  </tbody>\n",
       "</table>\n",
       "</div>"
      ],
      "text/plain": [
       "     manufacturer             model  year  displ  cylinders     transmission  \\\n",
       "4957    Chevrolet  C1500 Pickup 2WD  1991    4.3        6.0  Automatic 4-spd   \n",
       "4958    Chevrolet  C1500 Pickup 2WD  1991    4.3        6.0     Manual 4-spd   \n",
       "4959    Chevrolet  C1500 Pickup 2WD  1991    4.3        6.0     Manual 5-spd   \n",
       "4960    Chevrolet  C1500 Pickup 2WD  1991    4.3        6.0     Manual 5-spd   \n",
       "4961    Chevrolet  C1500 Pickup 2WD  1991    5.0        8.0  Automatic 4-spd   \n",
       "\n",
       "          drive_wheels                   Class fuelType  consumption  \\\n",
       "4957  Rear-Wheel Drive  Standard Pickup Trucks  Regular           17   \n",
       "4958  Rear-Wheel Drive  Standard Pickup Trucks  Regular           17   \n",
       "4959  Rear-Wheel Drive  Standard Pickup Trucks  Regular           17   \n",
       "4960  Rear-Wheel Drive  Standard Pickup Trucks  Regular           17   \n",
       "4961  Rear-Wheel Drive  Standard Pickup Trucks  Regular           15   \n",
       "\n",
       "      CO2_emissions                       unic_model  \n",
       "4957     522.764706  Chevrolet-C1500 Pickup 2WD-1991  \n",
       "4958     522.764706  Chevrolet-C1500 Pickup 2WD-1991  \n",
       "4959     522.764706  Chevrolet-C1500 Pickup 2WD-1991  \n",
       "4960     522.764706  Chevrolet-C1500 Pickup 2WD-1991  \n",
       "4961     592.466667  Chevrolet-C1500 Pickup 2WD-1991  "
      ]
     },
     "execution_count": 16,
     "metadata": {},
     "output_type": "execute_result"
    }
   ],
   "source": [
    "vehicles[vehicles.unic_model== 'Chevrolet-C1500 Pickup 2WD-1991'].head()"
   ]
  },
  {
   "cell_type": "markdown",
   "id": "gorgeous-alabama",
   "metadata": {},
   "source": [
    "Thus, we will only consider as duplicates, those records whose all columns are identical"
   ]
  },
  {
   "cell_type": "code",
   "execution_count": 17,
   "id": "curious-salad",
   "metadata": {},
   "outputs": [
    {
     "data": {
      "text/plain": [
       "(1506, 12)"
      ]
     },
     "execution_count": 17,
     "metadata": {},
     "output_type": "execute_result"
    }
   ],
   "source": [
    "vehicles[vehicles.duplicated()].shape"
   ]
  },
  {
   "cell_type": "code",
   "execution_count": 18,
   "id": "anticipated-cursor",
   "metadata": {},
   "outputs": [
    {
     "data": {
      "text/plain": [
       "(36930, 12)"
      ]
     },
     "execution_count": 18,
     "metadata": {},
     "output_type": "execute_result"
    }
   ],
   "source": [
    "vehicles = vehicles.drop_duplicates()\n",
    "vehicles.shape"
   ]
  },
  {
   "cell_type": "code",
   "execution_count": 19,
   "id": "square-publication",
   "metadata": {},
   "outputs": [],
   "source": [
    "del vehicles['unic_model']"
   ]
  },
  {
   "cell_type": "code",
   "execution_count": 20,
   "id": "collect-coverage",
   "metadata": {},
   "outputs": [
    {
     "name": "stdout",
     "output_type": "stream",
     "text": [
      "manufacturer | 0.1-0.0 | object\n",
      "model | 0.005-0.0 | object\n",
      "year | 0.038-0.007 | int64\n",
      "displ | 0.095-0.0 | float64\n",
      "cylinders | 0.38-0.0 | float64\n",
      "transmission | 0.287-0.0 | object\n",
      "drive_wheels | 0.353-0.005 | object\n",
      "Class | 0.145-0.0 | object\n",
      "fuelType | 0.652-0.0 | object\n",
      "consumption | 0.097-0.0 | int64\n",
      "CO2_emissions | 0.084-0.0 | float64\n"
     ]
    }
   ],
   "source": [
    "n_records = len(vehicles)\n",
    "def duplicated_values_col(df):\n",
    "    for column in df:\n",
    "        n_by_value = df[column].value_counts()\n",
    "        most_common = n_by_value.iloc[0]\n",
    "        less_common = n_by_value.iloc[-1]\n",
    "        print(\"{} | {}-{} | {}\".format(\n",
    "            df[column].name,\n",
    "            round(most_common / (1.0*n_records),3),\n",
    "            round(less_common / (1.0*n_records),3),\n",
    "            df[column].dtype\n",
    "        ))\n",
    "duplicated_values_col(vehicles)"
   ]
  },
  {
   "cell_type": "markdown",
   "id": "exotic-jerusalem",
   "metadata": {},
   "source": [
    "#### The previous data gives us some guidances:\n",
    "cylinders | 0.38-0.0 | float64 ---> \"The 38% of the dataset has the same number of cylinders. And the dtype is a float\""
   ]
  },
  {
   "cell_type": "code",
   "execution_count": 21,
   "id": "varied-prince",
   "metadata": {},
   "outputs": [
    {
     "data": {
      "text/plain": [
       "<AxesSubplot:>"
      ]
     },
     "execution_count": 21,
     "metadata": {},
     "output_type": "execute_result"
    },
    {
     "data": {
      "image/png": "[encoded data removed]",
      "text/plain": [
       "<Figure size 864x864 with 1 Axes>"
      ]
     },
     "metadata": {
      "needs_background": "light"
     },
     "output_type": "display_data"
    }
   ],
   "source": [
    "vehicles.transmission.value_counts(normalize=True).plot.barh()"
   ]
  },
  {
   "cell_type": "markdown",
   "id": "infinite-honduras",
   "metadata": {},
   "source": [
    "#### There exist two major classes of trany: 4 speed automatic and 5 speed manual "
   ]
  },
  {
   "cell_type": "code",
   "execution_count": 22,
   "id": "possible-smell",
   "metadata": {},
   "outputs": [
    {
     "data": {
      "text/plain": [
       "<AxesSubplot:>"
      ]
     },
     "execution_count": 22,
     "metadata": {},
     "output_type": "execute_result"
    },
    {
     "data": {
      "image/png": "[encoded data removed]",
      "text/plain": [
       "<Figure size 864x864 with 1 Axes>"
      ]
     },
     "metadata": {
      "needs_background": "light"
     },
     "output_type": "display_data"
    }
   ],
   "source": [
    "vehicles.cylinders.hist()"
   ]
  },
  {
   "cell_type": "markdown",
   "id": "acting-works",
   "metadata": {},
   "source": [
    "#### We can assume there are not major errors within the dataset since the most common values regarding cylinders are 4, 6 and 8"
   ]
  },
  {
   "cell_type": "code",
   "execution_count": 23,
   "id": "immediate-valentine",
   "metadata": {},
   "outputs": [
    {
     "data": {
      "image/png": "[encoded data removed]",
      "text/plain": [
       "<Figure size 864x864 with 1 Axes>"
      ]
     },
     "metadata": {
      "needs_background": "light"
     },
     "output_type": "display_data"
    }
   ],
   "source": [
    "vehicles.fuelType.value_counts(normalize=True).plot.barh();"
   ]
  },
  {
   "cell_type": "markdown",
   "id": "cognitive-integrity",
   "metadata": {},
   "source": [
    "#### Predictable values for type of fuel, since petrol or gasoline it is widely used. On the contrary, if this dataset was based on Spain, we will appreciate a much higher percentage for diesel   "
   ]
  },
  {
   "cell_type": "markdown",
   "id": "outer-exhaust",
   "metadata": {},
   "source": [
    "## Missing Values\n",
    "\n",
    "### We shall distinguish the validity of null values:\n",
    "       a - null values which does not exist (i.e: middlename for US names against Spanish names)\n",
    "       \n",
    "         b - null values which are from an error (which has been generated from an error in the dataset)"
   ]
  },
  {
   "cell_type": "code",
   "execution_count": 24,
   "id": "interested-audience",
   "metadata": {},
   "outputs": [
    {
     "name": "stdout",
     "output_type": "stream",
     "text": [
      "manufacturer | 0.0 | object \n",
      "model | 0.0 | object \n",
      "year | 0.0 | int64 \n",
      "displ | 0.0037909558624424585 | float64 \n",
      "cylinders | 0.003845112374763065 | float64 \n",
      "transmission | 0.00029786081776333605 | object \n",
      "drive_wheels | 0.02158137015976171 | object \n",
      "Class | 0.0 | object \n",
      "fuelType | 0.0 | object \n",
      "consumption | 0.0 | int64 \n",
      "CO2_emissions | 0.0 | float64 \n"
     ]
    }
   ],
   "source": [
    "n_records = len(vehicles)\n",
    "def missing_values_col(df):\n",
    "    for column in df:\n",
    "        print(\"{} | {} | {} \".format(\n",
    "        df[column].name, len(df[df[column].isnull()]) / (1.0*n_records), df[column].dtype\n",
    "        ))\n",
    "missing_values_col(vehicles)"
   ]
  },
  {
   "cell_type": "markdown",
   "id": "finite-clarity",
   "metadata": {},
   "source": [
    "## Outliers\n",
    "\n",
    "#### We will use the Z score (values higher than 3 are outliers). These values are apread 3 times the standard deviation"
   ]
  },
  {
   "cell_type": "code",
   "execution_count": 25,
   "id": "crazy-paintball",
   "metadata": {},
   "outputs": [
    {
     "name": "stdout",
     "output_type": "stream",
     "text": [
      "Requirement already satisfied: scipy in /usr/local/Cellar/jupyterlab/3.0.12/libexec/lib/python3.9/site-packages (1.6.2)\r\n",
      "Requirement already satisfied: numpy<1.23.0,>=1.16.5 in /usr/local/Cellar/jupyterlab/3.0.12/libexec/lib/python3.9/site-packages (from scipy) (1.20.2)\r\n"
     ]
    }
   ],
   "source": [
    "import sys\n",
    "!{sys.executable} -m pip install scipy"
   ]
  },
  {
   "cell_type": "code",
   "execution_count": 26,
   "id": "descending-discipline",
   "metadata": {},
   "outputs": [
    {
     "name": "stdout",
     "output_type": "stream",
     "text": [
      "year | 0 | int64\n",
      "displ | 0 | float64\n",
      "cylinders | 0 | float64\n",
      "consumption | 233 | int64\n",
      "CO2_emissions | 358 | float64\n"
     ]
    }
   ],
   "source": [
    "from scipy import stats\n",
    "import numpy as np\n",
    "\n",
    "def outliers_col(df):\n",
    "    for column in df:\n",
    "        if vehicles[column].dtype != object:\n",
    "            n_outliers = len(vehicles[np.abs(stats.zscore(vehicles[column])) > 3])\n",
    "            print(\"{} | {} | {}\".format(\n",
    "            df[column].name,\n",
    "            n_outliers,\n",
    "            df[column].dtype\n",
    "        ))\n",
    "outliers_col(vehicles)"
   ]
  },
  {
   "cell_type": "markdown",
   "id": "automatic-relaxation",
   "metadata": {},
   "source": [
    "### We are going to check the outliers \n",
    "    comb08 | 233 | -> \"There are 233 outliers in regards to fuel consumption\"\n",
    "    BoxPlots: The diagram shows an square (bottom line = first quartile, upper line = third quartile, the green line is the median)"
   ]
  },
  {
   "cell_type": "code",
   "execution_count": 27,
   "id": "powered-exhibition",
   "metadata": {},
   "outputs": [
    {
     "data": {
      "image/png": "[encoded data removed]",
      "text/plain": [
       "<Figure size 864x864 with 1 Axes>"
      ]
     },
     "metadata": {
      "needs_background": "light"
     },
     "output_type": "display_data"
    }
   ],
   "source": [
    "vehicles.boxplot(column=\"consumption\");"
   ]
  },
  {
   "cell_type": "code",
   "execution_count": 29,
   "id": "frank-cyprus",
   "metadata": {},
   "outputs": [
    {
     "data": {
      "image/png": "[encoded data removed]",
      "text/plain": [
       "<Figure size 864x864 with 1 Axes>"
      ]
     },
     "metadata": {
      "needs_background": "light"
     },
     "output_type": "display_data"
    }
   ],
   "source": [
    "vehicles.boxplot(column=\"CO2_emissions\");"
   ]
  },
  {
   "cell_type": "markdown",
   "id": "excessive-blackjack",
   "metadata": {},
   "source": [
    "#### As we are analyzing the CO2 consumption we will discard the electrical vehicles "
   ]
  },
  {
   "cell_type": "code",
   "execution_count": 30,
   "id": "unknown-sunglasses",
   "metadata": {},
   "outputs": [
    {
     "data": {
      "text/plain": [
       "array([], dtype=object)"
      ]
     },
     "execution_count": 30,
     "metadata": {},
     "output_type": "execute_result"
    }
   ],
   "source": [
    "vehicles[vehicles.consumption==0].fuelType.unique()"
   ]
  },
  {
   "cell_type": "code",
   "execution_count": 31,
   "id": "useful-vietnamese",
   "metadata": {},
   "outputs": [
    {
     "data": {
      "text/plain": [
       "array(['Regular', 'Premium', 'Diesel', 'Premium and Electricity',\n",
       "       'Premium or E85', 'Electricity', 'Premium Gas or Electricity',\n",
       "       'Gasoline or E85', 'Gasoline or natural gas', 'CNG',\n",
       "       'Regular Gas or Electricity', 'Midgrade',\n",
       "       'Regular Gas and Electricity', 'Gasoline or propane'], dtype=object)"
      ]
     },
     "execution_count": 31,
     "metadata": {},
     "output_type": "execute_result"
    }
   ],
   "source": [
    "vehicles.fuelType.unique()"
   ]
  },
  {
   "cell_type": "code",
   "execution_count": 32,
   "id": "referenced-brunswick",
   "metadata": {},
   "outputs": [],
   "source": [
    "vehicles_non_electrical = vehicles[vehicles.consumption>0]"
   ]
  },
  {
   "cell_type": "code",
   "execution_count": 33,
   "id": "laden-perception",
   "metadata": {},
   "outputs": [
    {
     "name": "stdout",
     "output_type": "stream",
     "text": [
      "year | 0 | int64\n",
      "displ | 0 | float64\n",
      "cylinders | 0 | float64\n",
      "consumption | 233 | int64\n",
      "CO2_emissions | 358 | float64\n"
     ]
    }
   ],
   "source": [
    "outliers_col(vehicles_non_electrical)"
   ]
  },
  {
   "cell_type": "code",
   "execution_count": 34,
   "id": "empty-jurisdiction",
   "metadata": {},
   "outputs": [
    {
     "name": "stdout",
     "output_type": "stream",
     "text": [
      "manufacturer | 0.1-0.0 | object\n",
      "model | 0.005-0.0 | object\n",
      "year | 0.038-0.007 | int64\n",
      "displ | 0.095-0.0 | float64\n",
      "cylinders | 0.38-0.0 | float64\n",
      "transmission | 0.287-0.0 | object\n",
      "drive_wheels | 0.353-0.005 | object\n",
      "Class | 0.145-0.0 | object\n",
      "fuelType | 0.652-0.0 | object\n",
      "consumption | 0.097-0.0 | int64\n",
      "CO2_emissions | 0.084-0.0 | float64\n"
     ]
    }
   ],
   "source": [
    "duplicated_values_col(vehicles_non_electrical)"
   ]
  },
  {
   "cell_type": "markdown",
   "id": "based-prescription",
   "metadata": {},
   "source": [
    "#### Conclusion\n",
    "    · There exist 1506 records duplicated  (we have removed them)\n",
    "    · The displ, cylinders, trany and drive variables have null values\n",
    "    · The fuelType variable  has a predominant class (65% of cars use Regular)\n",
    "    · There is an outlier with year variable for the period of 2018\n",
    "    · Electrical cars have been removed since they do not contribute to polution emissions"
   ]
  },
  {
   "cell_type": "markdown",
   "id": "higher-european",
   "metadata": {},
   "source": [
    "### Exporting the dataset"
   ]
  },
  {
   "cell_type": "code",
   "execution_count": 35,
   "id": "smooth-makeup",
   "metadata": {},
   "outputs": [],
   "source": [
    "typo = vehicles['CO2_emissions']\n",
    "vehicles['CO2_emissions'] = typo\n",
    "vehicles.rename({'CO2_emissions':'CO2_emissions'}, inplace=True)"
   ]
  },
  {
   "cell_type": "code",
   "execution_count": 36,
   "id": "spread-abuse",
   "metadata": {},
   "outputs": [
    {
     "data": {
      "text/html": [
       "<div>\n",
       "<style scoped>\n",
       "    .dataframe tbody tr th:only-of-type {\n",
       "        vertical-align: middle;\n",
       "    }\n",
       "\n",
       "    .dataframe tbody tr th {\n",
       "        vertical-align: top;\n",
       "    }\n",
       "\n",
       "    .dataframe thead th {\n",
       "        text-align: right;\n",
       "    }\n",
       "</style>\n",
       "<table border=\"1\" class=\"dataframe\">\n",
       "  <thead>\n",
       "    <tr style=\"text-align: right;\">\n",
       "      <th></th>\n",
       "      <th>manufacturer</th>\n",
       "      <th>model</th>\n",
       "      <th>year</th>\n",
       "      <th>displ</th>\n",
       "      <th>cylinders</th>\n",
       "      <th>transmission</th>\n",
       "      <th>drive_wheels</th>\n",
       "      <th>Class</th>\n",
       "      <th>fuelType</th>\n",
       "      <th>consumption</th>\n",
       "      <th>CO2_emissions</th>\n",
       "    </tr>\n",
       "  </thead>\n",
       "  <tbody>\n",
       "    <tr>\n",
       "      <th>0</th>\n",
       "      <td>AM General</td>\n",
       "      <td>DJ Po Vehicle 2WD</td>\n",
       "      <td>1984</td>\n",
       "      <td>2.5</td>\n",
       "      <td>4.0</td>\n",
       "      <td>Automatic 3-spd</td>\n",
       "      <td>2-Wheel Drive</td>\n",
       "      <td>Special Purpose Vehicle 2WD</td>\n",
       "      <td>Regular</td>\n",
       "      <td>17</td>\n",
       "      <td>522.764706</td>\n",
       "    </tr>\n",
       "    <tr>\n",
       "      <th>2</th>\n",
       "      <td>AM General</td>\n",
       "      <td>FJ8c Post Office</td>\n",
       "      <td>1984</td>\n",
       "      <td>4.2</td>\n",
       "      <td>6.0</td>\n",
       "      <td>Automatic 3-spd</td>\n",
       "      <td>2-Wheel Drive</td>\n",
       "      <td>Special Purpose Vehicle 2WD</td>\n",
       "      <td>Regular</td>\n",
       "      <td>13</td>\n",
       "      <td>683.615385</td>\n",
       "    </tr>\n",
       "    <tr>\n",
       "      <th>4</th>\n",
       "      <td>AM General</td>\n",
       "      <td>Post Office DJ5 2WD</td>\n",
       "      <td>1985</td>\n",
       "      <td>2.5</td>\n",
       "      <td>4.0</td>\n",
       "      <td>Automatic 3-spd</td>\n",
       "      <td>Rear-Wheel Drive</td>\n",
       "      <td>Special Purpose Vehicle 2WD</td>\n",
       "      <td>Regular</td>\n",
       "      <td>16</td>\n",
       "      <td>555.437500</td>\n",
       "    </tr>\n",
       "    <tr>\n",
       "      <th>5</th>\n",
       "      <td>AM General</td>\n",
       "      <td>Post Office DJ8 2WD</td>\n",
       "      <td>1985</td>\n",
       "      <td>4.2</td>\n",
       "      <td>6.0</td>\n",
       "      <td>Automatic 3-spd</td>\n",
       "      <td>Rear-Wheel Drive</td>\n",
       "      <td>Special Purpose Vehicle 2WD</td>\n",
       "      <td>Regular</td>\n",
       "      <td>13</td>\n",
       "      <td>683.615385</td>\n",
       "    </tr>\n",
       "    <tr>\n",
       "      <th>6</th>\n",
       "      <td>ASC Incorporated</td>\n",
       "      <td>GNX</td>\n",
       "      <td>1987</td>\n",
       "      <td>3.8</td>\n",
       "      <td>6.0</td>\n",
       "      <td>Automatic 4-spd</td>\n",
       "      <td>Rear-Wheel Drive</td>\n",
       "      <td>Midsize Cars</td>\n",
       "      <td>Premium</td>\n",
       "      <td>16</td>\n",
       "      <td>555.437500</td>\n",
       "    </tr>\n",
       "  </tbody>\n",
       "</table>\n",
       "</div>"
      ],
      "text/plain": [
       "       manufacturer                model  year  displ  cylinders  \\\n",
       "0        AM General    DJ Po Vehicle 2WD  1984    2.5        4.0   \n",
       "2        AM General     FJ8c Post Office  1984    4.2        6.0   \n",
       "4        AM General  Post Office DJ5 2WD  1985    2.5        4.0   \n",
       "5        AM General  Post Office DJ8 2WD  1985    4.2        6.0   \n",
       "6  ASC Incorporated                  GNX  1987    3.8        6.0   \n",
       "\n",
       "      transmission      drive_wheels                        Class fuelType  \\\n",
       "0  Automatic 3-spd     2-Wheel Drive  Special Purpose Vehicle 2WD  Regular   \n",
       "2  Automatic 3-spd     2-Wheel Drive  Special Purpose Vehicle 2WD  Regular   \n",
       "4  Automatic 3-spd  Rear-Wheel Drive  Special Purpose Vehicle 2WD  Regular   \n",
       "5  Automatic 3-spd  Rear-Wheel Drive  Special Purpose Vehicle 2WD  Regular   \n",
       "6  Automatic 4-spd  Rear-Wheel Drive                 Midsize Cars  Premium   \n",
       "\n",
       "   consumption  CO2_emissions  \n",
       "0           17     522.764706  \n",
       "2           13     683.615385  \n",
       "4           16     555.437500  \n",
       "5           13     683.615385  \n",
       "6           16     555.437500  "
      ]
     },
     "execution_count": 36,
     "metadata": {},
     "output_type": "execute_result"
    }
   ],
   "source": [
    "vehicles.head()"
   ]
  },
  {
   "cell_type": "code",
   "execution_count": 37,
   "id": "knowing-compatibility",
   "metadata": {},
   "outputs": [],
   "source": [
    "vehicles_non_electrical.to_csv(\"../data/vehicles.2.clean_analysis.csv\", index=False)"
   ]
  },
  {
   "cell_type": "code",
   "execution_count": null,
   "id": "timely-merit",
   "metadata": {},
   "outputs": [],
   "source": []
  },
  {
   "cell_type": "code",
   "execution_count": null,
   "id": "charming-angel",
   "metadata": {},
   "outputs": [],
   "source": []
  }
 ],
 "metadata": {
  "kernelspec": {
   "display_name": "Python 3",
   "language": "python",
   "name": "python3"
  },
  "language_info": {
   "codemirror_mode": {
    "name": "ipython",
    "version": 3
   },
   "file_extension": ".py",
   "mimetype": "text/x-python",
   "name": "python",
   "nbconvert_exporter": "python",
   "pygments_lexer": "ipython3",
   "version": "3.9.2"
  }
 },
 "nbformat": 4,
 "nbformat_minor": 5
}
