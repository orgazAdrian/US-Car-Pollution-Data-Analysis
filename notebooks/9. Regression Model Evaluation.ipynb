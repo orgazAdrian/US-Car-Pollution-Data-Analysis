{
 "cells": [
  {
   "cell_type": "code",
   "execution_count": 1,
   "id": "graduate-dietary",
   "metadata": {},
   "outputs": [
    {
     "name": "stdout",
     "output_type": "stream",
     "text": [
      "Last updated: 2021-05-20T13:36:40.538235+02:00\n",
      "\n",
      "Python implementation: CPython\n",
      "Python version       : 3.9.2\n",
      "IPython version      : 7.21.0\n",
      "\n",
      "Compiler    : Clang 12.0.0 (clang-1200.0.32.29)\n",
      "OS          : Darwin\n",
      "Release     : 20.3.0\n",
      "Machine     : x86_64\n",
      "Processor   : i386\n",
      "CPU cores   : 4\n",
      "Architecture: 64bit\n",
      "\n"
     ]
    }
   ],
   "source": [
    "%load_ext watermark\n",
    "%watermark"
   ]
  },
  {
   "cell_type": "code",
   "execution_count": 2,
   "id": "automotive-belgium",
   "metadata": {},
   "outputs": [],
   "source": [
    "from sklearn import datasets"
   ]
  },
  {
   "cell_type": "code",
   "execution_count": 4,
   "id": "boxed-premiere",
   "metadata": {},
   "outputs": [],
   "source": [
    "boston = datasets.load_boston()"
   ]
  },
  {
   "cell_type": "code",
   "execution_count": 5,
   "id": "unique-liberty",
   "metadata": {},
   "outputs": [],
   "source": [
    "from sklearn.linear_model import LinearRegression"
   ]
  },
  {
   "cell_type": "code",
   "execution_count": 6,
   "id": "executed-conducting",
   "metadata": {},
   "outputs": [],
   "source": [
    "model = LinearRegression()"
   ]
  },
  {
   "cell_type": "code",
   "execution_count": 7,
   "id": "harmful-battery",
   "metadata": {},
   "outputs": [
    {
     "data": {
      "text/plain": [
       "LinearRegression()"
      ]
     },
     "execution_count": 7,
     "metadata": {},
     "output_type": "execute_result"
    }
   ],
   "source": [
    "model.fit(X=boston['data'], y=boston['target'])"
   ]
  },
  {
   "cell_type": "code",
   "execution_count": 8,
   "id": "damaged-clothing",
   "metadata": {},
   "outputs": [],
   "source": [
    "y_target = boston['target']\n",
    "y_pred = model.predict(boston['data'])"
   ]
  },
  {
   "cell_type": "code",
   "execution_count": 9,
   "id": "instructional-suicide",
   "metadata": {},
   "outputs": [],
   "source": [
    "from sklearn import metrics"
   ]
  },
  {
   "cell_type": "markdown",
   "id": "painted-cabin",
   "metadata": {},
   "source": [
    " ## Mean Absolute Error\n",
    " \n",
    " It is defined as the different between the target variable and the absolute value of the predictions. It also could be interpreted as units of the target varibavble (i.e. if the target value is measured in Dollars($), the MAE will also be showed as Dollars)\n",
    " It is a robust metrics which is not deeply affected by outliers in the dataset. "
   ]
  },
  {
   "cell_type": "code",
   "execution_count": 10,
   "id": "fifteen-september",
   "metadata": {},
   "outputs": [],
   "source": [
    "metrics.mean_absolute_error?"
   ]
  },
  {
   "cell_type": "code",
   "execution_count": 11,
   "id": "nutritional-tampa",
   "metadata": {},
   "outputs": [
    {
     "data": {
      "text/plain": [
       "3.270862810900316"
      ]
     },
     "execution_count": 11,
     "metadata": {},
     "output_type": "execute_result"
    }
   ],
   "source": [
    "metrics.mean_absolute_error(y_target, y_pred)"
   ]
  },
  {
   "cell_type": "markdown",
   "id": "stone-determination",
   "metadata": {},
   "source": [
    "The price of the houses are +- $3.000 "
   ]
  },
  {
   "cell_type": "markdown",
   "id": "committed-westminster",
   "metadata": {},
   "source": [
    "## Mean Squared Error (MSE)\n",
    "\n",
    "It is defined as squared units. On our case, is not intuitive (square dollars?).\n",
    "Normally, its square root is used "
   ]
  },
  {
   "cell_type": "markdown",
   "id": "critical-venice",
   "metadata": {},
   "source": [
    "## Root Mean Squared Error (RMSE)\n",
    "\n",
    "The main difference between the MSE and RMSE is the latter can be on the same units as the target variable. \n",
    "However, it gives more importance to larger errors.\n",
    "\n",
    "For these cases, in which we aim to avoid large errors, besides the distribution of the target variable is well disrtributed we can use RMSE instead RME "
   ]
  },
  {
   "cell_type": "code",
   "execution_count": 12,
   "id": "ultimate-belle",
   "metadata": {},
   "outputs": [
    {
     "data": {
      "text/plain": [
       "4.679191295697281"
      ]
     },
     "execution_count": 12,
     "metadata": {},
     "output_type": "execute_result"
    }
   ],
   "source": [
    "import numpy as np\n",
    "\n",
    "np.sqrt(metrics.mean_squared_error(y_target,y_pred))"
   ]
  },
  {
   "cell_type": "markdown",
   "id": "bibliographic-serbia",
   "metadata": {},
   "source": [
    "The diference on housing prices are +- $4.000 "
   ]
  },
  {
   "cell_type": "markdown",
   "id": "retained-yield",
   "metadata": {},
   "source": [
    "## Coefficient of Determination (R2 or R-squared)\n",
    "\n",
    "It measures the portion of the variance for our target variable.\n",
    "Its maximum value is 1 (when the model explains all the variance), although it could shows negative values\n",
    "\n",
    "An important problem is R-squared does not explain whether our model describes the variance due to is overfitted, so a better measure is Arjusted R-Squared"
   ]
  },
  {
   "cell_type": "code",
   "execution_count": 13,
   "id": "divided-eating",
   "metadata": {},
   "outputs": [
    {
     "data": {
      "text/plain": [
       "0.7406426641094095"
      ]
     },
     "execution_count": 13,
     "metadata": {},
     "output_type": "execute_result"
    }
   ],
   "source": [
    "model_r2 = metrics.r2_score(y_target,y_pred)\n",
    "model_r2"
   ]
  },
  {
   "cell_type": "code",
   "execution_count": 14,
   "id": "proper-community",
   "metadata": {},
   "outputs": [
    {
     "data": {
      "text/plain": [
       "array([[1.        , 0.74064266],\n",
       "       [0.74064266, 1.        ]])"
      ]
     },
     "execution_count": 14,
     "metadata": {},
     "output_type": "execute_result"
    }
   ],
   "source": [
    "import numpy\n",
    "np.corrcoef(y_target, y_pred)**2"
   ]
  },
  {
   "cell_type": "code",
   "execution_count": 16,
   "id": "registered-boring",
   "metadata": {},
   "outputs": [
    {
     "data": {
      "text/plain": [
       "13"
      ]
     },
     "execution_count": 16,
     "metadata": {},
     "output_type": "execute_result"
    }
   ],
   "source": [
    "len(model.coef_)"
   ]
  },
  {
   "cell_type": "code",
   "execution_count": 17,
   "id": "christian-sampling",
   "metadata": {},
   "outputs": [
    {
     "data": {
      "text/plain": [
       "0.7411552280143316"
      ]
     },
     "execution_count": 17,
     "metadata": {},
     "output_type": "execute_result"
    }
   ],
   "source": [
    "adjusted_r2 = 1 - (1-model_r2)*(len(boston['target'])-1)/ (len(boston['target']-boston['data'].shape[1]-1))\n",
    "adjusted_r2"
   ]
  },
  {
   "cell_type": "code",
   "execution_count": null,
   "id": "exciting-maldives",
   "metadata": {},
   "outputs": [],
   "source": []
  }
 ],
 "metadata": {
  "kernelspec": {
   "display_name": "Python 3",
   "language": "python",
   "name": "python3"
  },
  "language_info": {
   "codemirror_mode": {
    "name": "ipython",
    "version": 3
   },
   "file_extension": ".py",
   "mimetype": "text/x-python",
   "name": "python",
   "nbconvert_exporter": "python",
   "pygments_lexer": "ipython3",
   "version": "3.9.2"
  }
 },
 "nbformat": 4,
 "nbformat_minor": 5
}
