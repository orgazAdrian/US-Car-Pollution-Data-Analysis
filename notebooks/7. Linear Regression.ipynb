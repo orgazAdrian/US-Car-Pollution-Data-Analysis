{
 "cells": [
  {
   "cell_type": "code",
   "execution_count": 1,
   "id": "initial-ethics",
   "metadata": {},
   "outputs": [
    {
     "name": "stdout",
     "output_type": "stream",
     "text": [
      "Last updated: 2021-05-02T10:49:13.192318+02:00\n",
      "\n",
      "Python implementation: CPython\n",
      "Python version       : 3.9.2\n",
      "IPython version      : 7.21.0\n",
      "\n",
      "Compiler    : Clang 12.0.0 (clang-1200.0.32.29)\n",
      "OS          : Darwin\n",
      "Release     : 20.3.0\n",
      "Machine     : x86_64\n",
      "Processor   : i386\n",
      "CPU cores   : 4\n",
      "Architecture: 64bit\n",
      "\n"
     ]
    }
   ],
   "source": [
    "%load_ext watermark\n",
    "%watermark"
   ]
  },
  {
   "cell_type": "code",
   "execution_count": 2,
   "id": "insured-litigation",
   "metadata": {},
   "outputs": [],
   "source": [
    "import pandas as pd\n",
    "import numpy as np "
   ]
  },
  {
   "cell_type": "code",
   "execution_count": 3,
   "id": "incorporate-topic",
   "metadata": {},
   "outputs": [],
   "source": [
    "%matplotlib inline\n",
    "import matplotlib.pyplot as plt\n",
    "plt.rcParams['figure.figsize'] = (12,12)\n",
    "plt.rcParams['font.size'] = 16"
   ]
  },
  {
   "cell_type": "code",
   "execution_count": 4,
   "id": "chicken-content",
   "metadata": {},
   "outputs": [],
   "source": [
    "vehicles = pd.read_csv(\"../data/vehicles_processed.csv\",\n",
    "                      usecols=[\"consumption\", \"CO2_emissions\",\"cylinders\", \"displ\"])\n",
    "\n",
    "litres_per_galon = 3.78541\n",
    "vehicles[\"consumption_litres_mile\"] = litres_per_galon / vehicles.consumption"
   ]
  },
  {
   "cell_type": "code",
   "execution_count": 5,
   "id": "premium-district",
   "metadata": {},
   "outputs": [
    {
     "data": {
      "text/plain": [
       "(35539, 5)"
      ]
     },
     "execution_count": 5,
     "metadata": {},
     "output_type": "execute_result"
    }
   ],
   "source": [
    "vehicles.shape"
   ]
  },
  {
   "cell_type": "code",
   "execution_count": 6,
   "id": "deadly-measurement",
   "metadata": {},
   "outputs": [
    {
     "data": {
      "text/html": [
       "<div>\n",
       "<style scoped>\n",
       "    .dataframe tbody tr th:only-of-type {\n",
       "        vertical-align: middle;\n",
       "    }\n",
       "\n",
       "    .dataframe tbody tr th {\n",
       "        vertical-align: top;\n",
       "    }\n",
       "\n",
       "    .dataframe thead th {\n",
       "        text-align: right;\n",
       "    }\n",
       "</style>\n",
       "<table border=\"1\" class=\"dataframe\">\n",
       "  <thead>\n",
       "    <tr style=\"text-align: right;\">\n",
       "      <th></th>\n",
       "      <th>displ</th>\n",
       "      <th>cylinders</th>\n",
       "      <th>consumption</th>\n",
       "      <th>CO2_emissions</th>\n",
       "      <th>consumption_litres_mile</th>\n",
       "    </tr>\n",
       "  </thead>\n",
       "  <tbody>\n",
       "    <tr>\n",
       "      <th>0</th>\n",
       "      <td>2.5</td>\n",
       "      <td>4.0</td>\n",
       "      <td>17</td>\n",
       "      <td>522.764706</td>\n",
       "      <td>0.222671</td>\n",
       "    </tr>\n",
       "    <tr>\n",
       "      <th>1</th>\n",
       "      <td>4.2</td>\n",
       "      <td>6.0</td>\n",
       "      <td>13</td>\n",
       "      <td>683.615385</td>\n",
       "      <td>0.291185</td>\n",
       "    </tr>\n",
       "    <tr>\n",
       "      <th>2</th>\n",
       "      <td>2.5</td>\n",
       "      <td>4.0</td>\n",
       "      <td>16</td>\n",
       "      <td>555.437500</td>\n",
       "      <td>0.236588</td>\n",
       "    </tr>\n",
       "    <tr>\n",
       "      <th>3</th>\n",
       "      <td>4.2</td>\n",
       "      <td>6.0</td>\n",
       "      <td>13</td>\n",
       "      <td>683.615385</td>\n",
       "      <td>0.291185</td>\n",
       "    </tr>\n",
       "    <tr>\n",
       "      <th>4</th>\n",
       "      <td>3.8</td>\n",
       "      <td>6.0</td>\n",
       "      <td>16</td>\n",
       "      <td>555.437500</td>\n",
       "      <td>0.236588</td>\n",
       "    </tr>\n",
       "  </tbody>\n",
       "</table>\n",
       "</div>"
      ],
      "text/plain": [
       "   displ  cylinders  consumption  CO2_emissions  consumption_litres_mile\n",
       "0    2.5        4.0           17     522.764706                 0.222671\n",
       "1    4.2        6.0           13     683.615385                 0.291185\n",
       "2    2.5        4.0           16     555.437500                 0.236588\n",
       "3    4.2        6.0           13     683.615385                 0.291185\n",
       "4    3.8        6.0           16     555.437500                 0.236588"
      ]
     },
     "execution_count": 6,
     "metadata": {},
     "output_type": "execute_result"
    }
   ],
   "source": [
    "vehicles.head()"
   ]
  },
  {
   "cell_type": "markdown",
   "id": "collective-input",
   "metadata": {},
   "source": [
    "The model of linear regression OLS we are using will enable to predict a variable 'y'.\n",
    "\n",
    "We specify the percentage of training dataset percentage over the total dataset"
   ]
  },
  {
   "cell_type": "code",
   "execution_count": 7,
   "id": "seventh-edgar",
   "metadata": {},
   "outputs": [],
   "source": [
    "pct_training = 0.8"
   ]
  },
  {
   "cell_type": "code",
   "execution_count": 8,
   "id": "incredible-realtor",
   "metadata": {},
   "outputs": [
    {
     "name": "stdout",
     "output_type": "stream",
     "text": [
      "(28431, 5)\n",
      "(7108, 5)\n"
     ]
    }
   ],
   "source": [
    "vehicles_training = vehicles.sample(frac= pct_training)\n",
    "\n",
    "vehicles_test =  vehicles[~vehicles.index.isin(vehicles_training.index)]\n",
    "\n",
    "print(vehicles_training.shape)\n",
    "print(vehicles_test.shape)"
   ]
  },
  {
   "cell_type": "code",
   "execution_count": 9,
   "id": "precise-fellowship",
   "metadata": {},
   "outputs": [],
   "source": [
    "independent_variables = [\"displ\",\"cylinders\",\"consumption_litres_mile\"]\n",
    "dependent_variable = \"CO2_emissions\"\n",
    "X = vehicles_training[independent_variables].values\n",
    "y = vehicles_training[dependent_variable].values\n",
    "X_T = X.T"
   ]
  },
  {
   "cell_type": "code",
   "execution_count": 10,
   "id": "accepted-cooper",
   "metadata": {},
   "outputs": [
    {
     "data": {
      "text/plain": [
       "array([[2.        , 4.        , 0.1514164 ],\n",
       "       [2.        , 4.        , 0.18025762],\n",
       "       [2.3       , 4.        , 0.16458304],\n",
       "       ...,\n",
       "       [3.2       , 6.        , 0.22267118],\n",
       "       [2.4       , 5.        , 0.17206409],\n",
       "       [1.9       , 4.        , 0.13519321]])"
      ]
     },
     "execution_count": 10,
     "metadata": {},
     "output_type": "execute_result"
    }
   ],
   "source": [
    "X"
   ]
  },
  {
   "cell_type": "code",
   "execution_count": 11,
   "id": "solid-serum",
   "metadata": {},
   "outputs": [
    {
     "data": {
      "text/plain": [
       "(28431, 3)"
      ]
     },
     "execution_count": 11,
     "metadata": {},
     "output_type": "execute_result"
    }
   ],
   "source": [
    "X.shape"
   ]
  },
  {
   "cell_type": "code",
   "execution_count": 12,
   "id": "auburn-franklin",
   "metadata": {},
   "outputs": [
    {
     "data": {
      "text/plain": [
       "array([355.48      , 423.19047619, 386.39130435, ..., 522.76470588,\n",
       "       403.95454545, 317.39285714])"
      ]
     },
     "execution_count": 12,
     "metadata": {},
     "output_type": "execute_result"
    }
   ],
   "source": [
    "y"
   ]
  },
  {
   "cell_type": "code",
   "execution_count": 13,
   "id": "painted-luxembourg",
   "metadata": {},
   "outputs": [
    {
     "data": {
      "text/plain": [
       "array([ 3.71488359e+00, -5.27011629e-01,  2.30476614e+03])"
      ]
     },
     "execution_count": 13,
     "metadata": {},
     "output_type": "execute_result"
    }
   ],
   "source": [
    "betas = np.linalg.inv(X_T @ X) @ X_T @ y\n",
    "betas"
   ]
  },
  {
   "cell_type": "code",
   "execution_count": 14,
   "id": "specific-copper",
   "metadata": {},
   "outputs": [
    {
     "data": {
      "text/plain": [
       "470.0978498287583"
      ]
     },
     "execution_count": 14,
     "metadata": {},
     "output_type": "execute_result"
    }
   ],
   "source": [
    "y.mean()"
   ]
  },
  {
   "cell_type": "code",
   "execution_count": 24,
   "id": "friendly-response",
   "metadata": {},
   "outputs": [
    {
     "data": {
      "text/plain": [
       "0.3748615456070752"
      ]
     },
     "execution_count": 24,
     "metadata": {},
     "output_type": "execute_result"
    }
   ],
   "source": [
    "alpha = y.mean() - np.dot(betas, vehicles_training[independent_variables].mean().values)\n",
    "alpha"
   ]
  },
  {
   "cell_type": "code",
   "execution_count": 25,
   "id": "tamil-holmes",
   "metadata": {},
   "outputs": [],
   "source": [
    "def predict(r):\n",
    "    return alpha + np.dot(betas, r.values)"
   ]
  },
  {
   "cell_type": "code",
   "execution_count": 17,
   "id": "grave-coordinator",
   "metadata": {},
   "outputs": [
    {
     "name": "stderr",
     "output_type": "stream",
     "text": [
      "<ipython-input-17-3966b2e5a8cd>:3: SettingWithCopyWarning: \n",
      "A value is trying to be set on a copy of a slice from a DataFrame.\n",
      "Try using .loc[row_indexer,col_indexer] = value instead\n",
      "\n",
      "See the caveats in the documentation: https://pandas.pydata.org/pandas-docs/stable/user_guide/indexing.html#returning-a-view-versus-a-copy\n",
      "  vehicles_test[\"CO2_pred\"] = vehicles_test[independent_variables].apply(predict, axis=1)\n"
     ]
    }
   ],
   "source": [
    "vehicles_training[\"CO2_pred\"] = vehicles_training[independent_variables].apply(\n",
    "    predict, axis=1)\n",
    "vehicles_test[\"CO2_pred\"] = vehicles_test[independent_variables].apply(predict, axis=1)"
   ]
  },
  {
   "cell_type": "code",
   "execution_count": 18,
   "id": "equipped-honduras",
   "metadata": {},
   "outputs": [
    {
     "data": {
      "text/html": [
       "<div>\n",
       "<style scoped>\n",
       "    .dataframe tbody tr th:only-of-type {\n",
       "        vertical-align: middle;\n",
       "    }\n",
       "\n",
       "    .dataframe tbody tr th {\n",
       "        vertical-align: top;\n",
       "    }\n",
       "\n",
       "    .dataframe thead th {\n",
       "        text-align: right;\n",
       "    }\n",
       "</style>\n",
       "<table border=\"1\" class=\"dataframe\">\n",
       "  <thead>\n",
       "    <tr style=\"text-align: right;\">\n",
       "      <th></th>\n",
       "      <th>CO2_emissions</th>\n",
       "      <th>CO2_pred</th>\n",
       "    </tr>\n",
       "  </thead>\n",
       "  <tbody>\n",
       "    <tr>\n",
       "      <th>20320</th>\n",
       "      <td>355.480000</td>\n",
       "      <td>354.675974</td>\n",
       "    </tr>\n",
       "    <tr>\n",
       "      <th>346</th>\n",
       "      <td>423.190476</td>\n",
       "      <td>421.148240</td>\n",
       "    </tr>\n",
       "    <tr>\n",
       "      <th>31513</th>\n",
       "      <td>386.391304</td>\n",
       "      <td>386.136474</td>\n",
       "    </tr>\n",
       "    <tr>\n",
       "      <th>31897</th>\n",
       "      <td>370.291667</td>\n",
       "      <td>366.616364</td>\n",
       "    </tr>\n",
       "    <tr>\n",
       "      <th>7685</th>\n",
       "      <td>403.954545</td>\n",
       "      <td>402.264073</td>\n",
       "    </tr>\n",
       "  </tbody>\n",
       "</table>\n",
       "</div>"
      ],
      "text/plain": [
       "       CO2_emissions    CO2_pred\n",
       "20320     355.480000  354.675974\n",
       "346       423.190476  421.148240\n",
       "31513     386.391304  386.136474\n",
       "31897     370.291667  366.616364\n",
       "7685      403.954545  402.264073"
      ]
     },
     "execution_count": 18,
     "metadata": {},
     "output_type": "execute_result"
    }
   ],
   "source": [
    "vehicles_training[[\"CO2_emissions\", \"CO2_pred\"]].head()"
   ]
  },
  {
   "cell_type": "code",
   "execution_count": 19,
   "id": "tender-stable",
   "metadata": {},
   "outputs": [
    {
     "data": {
      "text/plain": [
       "displ                      float64\n",
       "cylinders                  float64\n",
       "consumption                  int64\n",
       "CO2_emissions              float64\n",
       "consumption_litres_mile    float64\n",
       "CO2_pred                   float64\n",
       "dtype: object"
      ]
     },
     "execution_count": 19,
     "metadata": {},
     "output_type": "execute_result"
    }
   ],
   "source": [
    "vehicles_training.dtypes"
   ]
  },
  {
   "cell_type": "code",
   "execution_count": 29,
   "id": "english-intensity",
   "metadata": {},
   "outputs": [
    {
     "data": {
      "text/plain": [
       "'y ~ 0.375 + 3.71*displ + -0.53*cylinders + 2304.766*consumption_litres_mile'"
      ]
     },
     "execution_count": 29,
     "metadata": {},
     "output_type": "execute_result"
    }
   ],
   "source": [
    "model_formula = 'y ~ {alpha:.3f} + {beta_1:.2f}*displ + {beta_2:.2f}*cylinders + {beta_3:.3f}*consumption_litres_mile'.format(\n",
    "    alpha=alpha, beta_1= betas[0], beta_2=betas[1], beta_3=betas[2])\n",
    "model_formula"
   ]
  },
  {
   "cell_type": "code",
   "execution_count": 30,
   "id": "electronic-jason",
   "metadata": {},
   "outputs": [
    {
     "data": {
      "text/plain": [
       "<matplotlib.legend.Legend at 0x11d4de310>"
      ]
     },
     "execution_count": 30,
     "metadata": {},
     "output_type": "execute_result"
    },
    {
     "data": {
      "image/png": "[encoded data removed]",
      "text/plain": [
       "<Figure size 864x864 with 1 Axes>"
      ]
     },
     "metadata": {
      "needs_background": "light"
     },
     "output_type": "display_data"
    }
   ],
   "source": [
    "plt.scatter(vehicles_test.consumption_litres_mile, vehicles_test.CO2_emissions, alpha=0.5, label=\"real\")\n",
    "plt.text(0.1, 850, model_formula)\n",
    "plt.plot(vehicles_test.consumption_litres_mile, vehicles_test.CO2_pred, c = \"black\", label=\"prediction\")\n",
    "plt.xlabel(\"Consumption (litres/mile)\")\n",
    "plt.ylabel(\"CO2 emissions (grames/mile)\")\n",
    "plt.legend()"
   ]
  },
  {
   "cell_type": "code",
   "execution_count": 33,
   "id": "identical-bowling",
   "metadata": {},
   "outputs": [],
   "source": [
    "def mean_square_error(y, y_pred):\n",
    "    return np.sum((y-y_pred)**2/len(y))"
   ]
  },
  {
   "cell_type": "code",
   "execution_count": 35,
   "id": "united-texture",
   "metadata": {},
   "outputs": [
    {
     "data": {
      "text/plain": [
       "134.05835431084586"
      ]
     },
     "execution_count": 35,
     "metadata": {},
     "output_type": "execute_result"
    }
   ],
   "source": [
    "training_error = mean_square_error(vehicles_training.CO2_emissions, vehicles_training.CO2_pred)\n",
    "training_error"
   ]
  },
  {
   "cell_type": "code",
   "execution_count": 37,
   "id": "southwest-genre",
   "metadata": {},
   "outputs": [
    {
     "data": {
      "text/plain": [
       "120.36336074509913"
      ]
     },
     "execution_count": 37,
     "metadata": {},
     "output_type": "execute_result"
    }
   ],
   "source": [
    "test_error = mean_square_error(vehicles_test.CO2_emissions, vehicles_test.CO2_pred)\n",
    "test_error"
   ]
  }
 ],
 "metadata": {
  "kernelspec": {
   "display_name": "Python 3 (ipykernel)",
   "language": "python",
   "name": "python3"
  },
  "language_info": {
   "codemirror_mode": {
    "name": "ipython",
    "version": 3
   },
   "file_extension": ".py",
   "mimetype": "text/x-python",
   "name": "python",
   "nbconvert_exporter": "python",
   "pygments_lexer": "ipython3",
   "version": "3.9.8"
  }
 },
 "nbformat": 4,
 "nbformat_minor": 5
}
