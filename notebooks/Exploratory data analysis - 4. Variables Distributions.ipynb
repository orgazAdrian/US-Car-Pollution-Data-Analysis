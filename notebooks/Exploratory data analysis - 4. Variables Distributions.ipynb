{
 "cells": [
  {
   "cell_type": "code",
   "execution_count": 34,
   "id": "corresponding-wings",
   "metadata": {},
   "outputs": [
    {
     "name": "stdout",
     "output_type": "stream",
     "text": [
      "The watermark extension is already loaded. To reload it, use:\n",
      "  %reload_ext watermark\n",
      "Last updated: 2021-04-21T20:39:17.415930+02:00\n",
      "\n",
      "Python implementation: CPython\n",
      "Python version       : 3.9.2\n",
      "IPython version      : 7.21.0\n",
      "\n",
      "Compiler    : Clang 12.0.0 (clang-1200.0.32.29)\n",
      "OS          : Darwin\n",
      "Release     : 20.3.0\n",
      "Machine     : x86_64\n",
      "Processor   : i386\n",
      "CPU cores   : 4\n",
      "Architecture: 64bit\n",
      "\n"
     ]
    }
   ],
   "source": [
    "%load_ext watermark\n",
    "%watermark"
   ]
  },
  {
   "cell_type": "code",
   "execution_count": 36,
   "id": "affecting-cabinet",
   "metadata": {},
   "outputs": [],
   "source": [
    "%matplotlib inline\n",
    "import matplotlib.pyplot as plt\n",
    "import pandas as pd\n",
    "plt.rcParams['figure.figsize'] = (10,10) # 10inch width and height for all plots"
   ]
  },
  {
   "cell_type": "markdown",
   "id": "defensive-albert",
   "metadata": {},
   "source": [
    "### Data Reading"
   ]
  },
  {
   "cell_type": "code",
   "execution_count": 37,
   "id": "cloudy-regard",
   "metadata": {},
   "outputs": [],
   "source": [
    "vehicles = pd.read_pickle(\"../data/vehicles.3.clustered_variables.pkl\")"
   ]
  },
  {
   "cell_type": "code",
   "execution_count": 38,
   "id": "herbal-semiconductor",
   "metadata": {},
   "outputs": [
    {
     "data": {
      "text/plain": [
       "manufacturer                 object\n",
       "model                        object\n",
       "year                          int64\n",
       "displ                       float64\n",
       "cylinders                   float64\n",
       "transmission                 object\n",
       "drive_wheels                 object\n",
       "Class                      category\n",
       "fuelType                     object\n",
       "consumption                   int64\n",
       "CO2_emissions               float64\n",
       "drive                      category\n",
       "types_motor_size           category\n",
       "types_consumption          category\n",
       "co2_type                   category\n",
       "consumption_litres_mile     float64\n",
       "dtype: object"
      ]
     },
     "execution_count": 38,
     "metadata": {},
     "output_type": "execute_result"
    }
   ],
   "source": [
    "vehicles.dtypes"
   ]
  },
  {
   "cell_type": "markdown",
   "id": "casual-cabin",
   "metadata": {},
   "source": [
    "### Distribution numerical variables  "
   ]
  },
  {
   "cell_type": "markdown",
   "id": "straight-legend",
   "metadata": {},
   "source": [
    "We can use histograms to see the distribution of a variable"
   ]
  },
  {
   "cell_type": "code",
   "execution_count": 39,
   "id": "informative-headset",
   "metadata": {},
   "outputs": [
    {
     "data": {
      "text/plain": [
       "Automatic      24934\n",
       "Manual         11851\n",
       "Auto(AM-S6)        1\n",
       "Name: transmission, dtype: int64"
      ]
     },
     "execution_count": 39,
     "metadata": {},
     "output_type": "execute_result"
    }
   ],
   "source": [
    "vehicles['transmission'].value_counts()"
   ]
  },
  {
   "cell_type": "markdown",
   "id": "adult-corruption",
   "metadata": {},
   "source": [
    "Optionally, we can perform a KDE, or Kernel Density Estimate, which performs an estimated function of the distribution of the variable  "
   ]
  },
  {
   "cell_type": "code",
   "execution_count": 40,
   "id": "healthy-wonder",
   "metadata": {},
   "outputs": [
    {
     "data": {
      "image/png": "[encoded data removed]",
      "text/plain": [
       "<Figure size 720x720 with 1 Axes>"
      ]
     },
     "metadata": {
      "needs_background": "light"
     },
     "output_type": "display_data"
    }
   ],
   "source": [
    "vehicles['CO2_emissions'].plot.kde();"
   ]
  },
  {
   "cell_type": "code",
   "execution_count": 41,
   "id": "brown-yahoo",
   "metadata": {},
   "outputs": [],
   "source": [
    "def numerical_variable_distribution(df, col):\n",
    "    df[col].plot.kde()\n",
    "    plt.xlabel('Distribution of the variable {}'.format(col))\n",
    "    plt.show()"
   ]
  },
  {
   "cell_type": "markdown",
   "id": "magnetic-margin",
   "metadata": {},
   "source": [
    "Installing pywidgets will enable to analize the distributions more comfortably. It makes sense to perform such graphics only for numerical variables.\n",
    "The pandas.select_dtypes method returns those columns of a specific type. "
   ]
  },
  {
   "cell_type": "code",
   "execution_count": 42,
   "id": "australian-specific",
   "metadata": {},
   "outputs": [],
   "source": [
    "numerical_columns = vehicles.select_dtypes(['int64', 'float64']).columns"
   ]
  },
  {
   "cell_type": "code",
   "execution_count": 43,
   "id": "together-perry",
   "metadata": {},
   "outputs": [],
   "source": [
    "from ipywidgets import interact, fixed"
   ]
  },
  {
   "cell_type": "code",
   "execution_count": 45,
   "id": "anonymous-tissue",
   "metadata": {},
   "outputs": [
    {
     "data": {
      "application/vnd.jupyter.widget-view+json": {
       "model_id": "39bd2c751ea64a7e9d591b7318a69464",
       "version_major": 2,
       "version_minor": 0
      },
      "text/plain": [
       "interactive(children=(Dropdown(description='col', options=('year', 'displ', 'cylinders', 'consumption', 'CO2_e…"
      ]
     },
     "metadata": {},
     "output_type": "display_data"
    }
   ],
   "source": [
    "interact(numerical_variable_distribution, col=numerical_columns, df=fixed(vehicles));"
   ]
  },
  {
   "cell_type": "markdown",
   "id": "embedded-france",
   "metadata": {},
   "source": [
    "The variable cylinders, despite of being numerical, it does not follow a balanced distribution"
   ]
  },
  {
   "cell_type": "code",
   "execution_count": 46,
   "id": "effective-invite",
   "metadata": {},
   "outputs": [
    {
     "data": {
      "text/plain": [
       "4.0     0.381205\n",
       "6.0     0.350758\n",
       "8.0     0.220328\n",
       "5.0     0.020116\n",
       "12.0    0.015631\n",
       "3.0     0.006252\n",
       "10.0    0.004132\n",
       "2.0     0.001359\n",
       "16.0    0.000217\n",
       "Name: cylinders, dtype: float64"
      ]
     },
     "execution_count": 46,
     "metadata": {},
     "output_type": "execute_result"
    }
   ],
   "source": [
    "vehicles['cylinders'].value_counts(normalize=True)"
   ]
  },
  {
   "cell_type": "code",
   "execution_count": 47,
   "id": "welsh-solution",
   "metadata": {},
   "outputs": [],
   "source": [
    "from scipy import stats "
   ]
  },
  {
   "cell_type": "code",
   "execution_count": 48,
   "id": "bulgarian-miller",
   "metadata": {},
   "outputs": [],
   "source": [
    "def numerical_variable_normality(col):\n",
    "    stats.probplot(vehicles[col], plot=plt)\n",
    "    plt.xlabel('Probability diagram (normal) of the variable {}'.format(col))\n",
    "    plt.show()"
   ]
  },
  {
   "cell_type": "code",
   "execution_count": 49,
   "id": "nominated-space",
   "metadata": {},
   "outputs": [
    {
     "data": {
      "application/vnd.jupyter.widget-view+json": {
       "model_id": "cad635874b574904b53b4596b05c5a97",
       "version_major": 2,
       "version_minor": 0
      },
      "text/plain": [
       "interactive(children=(Dropdown(description='col', options=('year', 'displ', 'cylinders', 'consumption', 'CO2_e…"
      ]
     },
     "metadata": {},
     "output_type": "display_data"
    }
   ],
   "source": [
    "interact(numerical_variable_normality, col=numerical_columns);"
   ]
  },
  {
   "cell_type": "markdown",
   "id": "alert-worst",
   "metadata": {},
   "source": [
    "It seems they follow a normal distribution, but it is recommended to perform a normality test. What we pretend here is, to reject the null hyptohesis which states the variable to be analized has been obtained from a population that follows a normal. For a level of significance of 95%, we will reject the null hypothesis if the p-value is minor than 0.05. In other words, si the P-value obtained is less than 0.05, means the probability of null hypothesis to be true is so low (less than 5%) we can reject it"
   ]
  },
  {
   "cell_type": "code",
   "execution_count": 50,
   "id": "significant-traffic",
   "metadata": {},
   "outputs": [
    {
     "name": "stdout",
     "output_type": "stream",
     "text": [
      "Column: year does not follow a normal distribution\n",
      "Column: displ does not follow a normal distribution\n",
      "Column: cylinders does not follow a normal distribution\n",
      "Column: consumption does not follow a normal distribution\n",
      "Column: CO2_emissions does not follow a normal distribution\n",
      "Column: consumption_litres_mile does not follow a normal distribution\n"
     ]
    }
   ],
   "source": [
    "for num_col in numerical_columns:\n",
    "    _, pval = stats.normaltest(vehicles[num_col])\n",
    "    if(pval < 0.05):\n",
    "        print(\"Column: {} does not follow a normal distribution\".format(num_col))"
   ]
  },
  {
   "cell_type": "markdown",
   "id": "supposed-fisher",
   "metadata": {},
   "source": [
    "So, any variable follows a right normal distribution "
   ]
  },
  {
   "cell_type": "markdown",
   "id": "sudden-british",
   "metadata": {},
   "source": [
    "### Categorical distribution variables"
   ]
  },
  {
   "cell_type": "markdown",
   "id": "complete-welding",
   "metadata": {},
   "source": [
    "The pandas.value_counts function is widely used check how the variables are distributing. The former function returns the number of existent records for each column."
   ]
  },
  {
   "cell_type": "code",
   "execution_count": 51,
   "id": "alive-criterion",
   "metadata": {},
   "outputs": [],
   "source": [
    "def categorical_variable_distribution(col):\n",
    "    vehicles[col].value_counts(ascending=True, normalize=True).tail(20).plot.barh()\n",
    "    plt.show()"
   ]
  },
  {
   "cell_type": "code",
   "execution_count": 52,
   "id": "sized-metro",
   "metadata": {},
   "outputs": [],
   "source": [
    "categorical_columns = vehicles.select_dtypes(['object', 'category']).columns"
   ]
  },
  {
   "cell_type": "code",
   "execution_count": 53,
   "id": "answering-earth",
   "metadata": {},
   "outputs": [
    {
     "data": {
      "application/vnd.jupyter.widget-view+json": {
       "model_id": "692d4ac8c09a4610ae39dd10a13db60e",
       "version_major": 2,
       "version_minor": 0
      },
      "text/plain": [
       "interactive(children=(Dropdown(description='col', options=('manufacturer', 'model', 'transmission', 'drive_whe…"
      ]
     },
     "metadata": {},
     "output_type": "display_data"
    }
   ],
   "source": [
    "interact(categorical_variable_distribution, col=categorical_columns);"
   ]
  },
  {
   "cell_type": "markdown",
   "id": "cardiac-identifier",
   "metadata": {},
   "source": [
    "### Conclusions"
   ]
  },
  {
   "cell_type": "markdown",
   "id": "variable-tactics",
   "metadata": {},
   "source": [
    "· Any variable follows a normal distribution\n",
    "· The numerical variable cylinders has an unbalanced discrete variable (number of cylinders 2, 4 and 8 su ups to 95% of the vehicles). It could be grouped as categorical variable (2,4,8 and other)\n",
    "·Largest manufacturer is Chevrolet (10% of total volume)\n",
    "· 65% vehicles use normal gasoline\n",
    "· 'Motor size' and 'co2' is balance along the whole range\n",
    "· 70% of vehicles are two-wheel drive\n",
    "· Two thirds of the cars has automatic transmission\n",
    "· The most common class of vehicles is 'small cars' with 35% over total\n",
    "· The largest car manufacturers in regards the cars analyzed are from the US. It makes sence since the EPA is the american agency and it will be more interested on the analysis of US cars."
   ]
  },
  {
   "cell_type": "code",
   "execution_count": null,
   "id": "interior-projector",
   "metadata": {},
   "outputs": [],
   "source": []
  }
 ],
 "metadata": {
  "kernelspec": {
   "display_name": "Python 3",
   "language": "python",
   "name": "python3"
  },
  "language_info": {
   "codemirror_mode": {
    "name": "ipython",
    "version": 3
   },
   "file_extension": ".py",
   "mimetype": "text/x-python",
   "name": "python",
   "nbconvert_exporter": "python",
   "pygments_lexer": "ipython3",
   "version": "3.9.2"
  }
 },
 "nbformat": 4,
 "nbformat_minor": 5
}
