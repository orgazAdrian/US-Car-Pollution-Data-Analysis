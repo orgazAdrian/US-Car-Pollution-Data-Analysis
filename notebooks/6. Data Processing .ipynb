{
 "cells": [
  {
   "cell_type": "code",
   "execution_count": 131,
   "id": "quiet-lending",
   "metadata": {
    "scrolled": true
   },
   "outputs": [
    {
     "name": "stdout",
     "output_type": "stream",
     "text": [
      "The watermark extension is already loaded. To reload it, use:\n",
      "  %reload_ext watermark\n",
      "Last updated: 2021-04-22T23:06:22.270565+02:00\n",
      "\n",
      "Python implementation: CPython\n",
      "Python version       : 3.9.2\n",
      "IPython version      : 7.21.0\n",
      "\n",
      "Compiler    : Clang 12.0.0 (clang-1200.0.32.29)\n",
      "OS          : Darwin\n",
      "Release     : 20.3.0\n",
      "Machine     : x86_64\n",
      "Processor   : i386\n",
      "CPU cores   : 4\n",
      "Architecture: 64bit\n",
      "\n"
     ]
    }
   ],
   "source": [
    "%load_ext watermark\n",
    "%watermark"
   ]
  },
  {
   "cell_type": "markdown",
   "id": "superior-manor",
   "metadata": {},
   "source": [
    "On this part, data cleaning allow dataset to be properly build to create predictive models  "
   ]
  },
  {
   "cell_type": "markdown",
   "id": "legislative-aluminum",
   "metadata": {},
   "source": [
    "#### Description"
   ]
  },
  {
   "cell_type": "markdown",
   "id": "equal-mathematics",
   "metadata": {},
   "source": [
    "We are using the same dataset for our Exploratory Data Analysis.\n",
    "\n",
    "The dataset gathers relevant information in regards US vehicles manufactured since 1985. The mentioned information includes technical details (cylinders, displ, transmission) and environmental details\n",
    "(gasoline consumption, CO2 emissions)\n",
    "\n",
    "The original dataset can be found at: https://www.fueleconomy.gov/feg/epadata/vehicles.csv.zip The dataset used is a lighter version of the original (less columns)\n",
    "\n",
    "Original dataset description http://www.fueleconomy.gov/feg/ws/index.shtml#ft7\n",
    "\n",
    "In regards data analysis, we detect the following errors on the original:\n",
    "\n",
    "· 1506 duplicated records\n",
    "· Displ, cylinders, transmission and drive_wheels variables contains non-existent values\n",
    "· There exist an outlier found on the quantity of cars for the year 2018\n",
    "· There exist hybrid cars and electrical cars (the later have been removed because they do not emit pollution)\n",
    "· Consumption variable is defined by miles per galon and CO2_emissions by grames per mile. Since CO2 is the main variable of the dataset, we have created the variable contumption_litres_mile which is defined as liters by miles in order to be able to compare it with CO2\n",
    "\n"
   ]
  },
  {
   "cell_type": "code",
   "execution_count": 132,
   "id": "sophisticated-opening",
   "metadata": {},
   "outputs": [],
   "source": [
    "import pandas as pd\n",
    "import matplotlib.pyplot as plt\n",
    "%matplotlib inline\n",
    "plt.rcParams['figure.figsize'] = (12,12)"
   ]
  },
  {
   "cell_type": "code",
   "execution_count": 133,
   "id": "civilian-dynamics",
   "metadata": {},
   "outputs": [],
   "source": [
    "vehicles = (pd\n",
    "            .read_csv(\"../data/vehiculos_original.csv\")\n",
    "           .rename(columns={\n",
    "               'make': 'manufacturer',\n",
    "               'model': 'model',\n",
    "               'year': 'year',\n",
    "               'displ': 'displ', #Displacement volume of the engine\n",
    "               'cylinders':'cylinders',\n",
    "               'trany':'transmission',\n",
    "               'drive':'drive_wheels',\n",
    "               'VClass': 'Class',\n",
    "               'fuelType':'fuelType',\n",
    "               'comb08':'consumption', #combined Miles per galon for fuelType\n",
    "               'co2TailpipeGpm': 'CO2_emissions', # tailpipe CO2 in grams/mile\n",
    "           })\n",
    "           .query(\"CO2_emissions>0\"))"
   ]
  },
  {
   "cell_type": "code",
   "execution_count": 134,
   "id": "inappropriate-poison",
   "metadata": {},
   "outputs": [
    {
     "data": {
      "text/plain": [
       "(38297, 11)"
      ]
     },
     "execution_count": 134,
     "metadata": {},
     "output_type": "execute_result"
    }
   ],
   "source": [
    "vehicles.shape"
   ]
  },
  {
   "cell_type": "markdown",
   "id": "weekly-newspaper",
   "metadata": {},
   "source": [
    "### Duplicaded records"
   ]
  },
  {
   "cell_type": "markdown",
   "id": "metric-clause",
   "metadata": {},
   "source": [
    "Pandas´ function drop_duplicates remove duplicated records"
   ]
  },
  {
   "cell_type": "code",
   "execution_count": 135,
   "id": "blank-quality",
   "metadata": {},
   "outputs": [],
   "source": [
    "vehicles = vehicles.drop_duplicates()"
   ]
  },
  {
   "cell_type": "code",
   "execution_count": 136,
   "id": "efficient-threat",
   "metadata": {},
   "outputs": [
    {
     "data": {
      "text/plain": [
       "(36791, 11)"
      ]
     },
     "execution_count": 136,
     "metadata": {},
     "output_type": "execute_result"
    }
   ],
   "source": [
    "vehicles.shape"
   ]
  },
  {
   "cell_type": "markdown",
   "id": "bright-cannon",
   "metadata": {},
   "source": [
    "### Outliers values"
   ]
  },
  {
   "cell_type": "code",
   "execution_count": 137,
   "id": "finite-jacket",
   "metadata": {},
   "outputs": [
    {
     "name": "stdout",
     "output_type": "stream",
     "text": [
      "year | 0 | int64 \n",
      "displ | 0 | float64 \n",
      "cylinders | 0 | float64 \n",
      "consumption | 400 | int64 \n",
      "CO2_emissions | 221 | float64 \n"
     ]
    }
   ],
   "source": [
    "from scipy import stats\n",
    "import numpy as np\n",
    "\n",
    "def outliers_col(df):\n",
    "    for column in df:\n",
    "        if df[column].dtype != object:\n",
    "            n_outliers = len(df[np.abs(stats.zscore(df[column])) > 3])\n",
    "            print(\"{} | {} | {} \".format(\n",
    "                df[column].name,\n",
    "                n_outliers,\n",
    "            df[column].dtype\n",
    "        ))\n",
    "outliers_col(vehicles)            "
   ]
  },
  {
   "cell_type": "code",
   "execution_count": 138,
   "id": "least-international",
   "metadata": {},
   "outputs": [
    {
     "data": {
      "text/html": [
       "<div>\n",
       "<style scoped>\n",
       "    .dataframe tbody tr th:only-of-type {\n",
       "        vertical-align: middle;\n",
       "    }\n",
       "\n",
       "    .dataframe tbody tr th {\n",
       "        vertical-align: top;\n",
       "    }\n",
       "\n",
       "    .dataframe thead th {\n",
       "        text-align: right;\n",
       "    }\n",
       "</style>\n",
       "<table border=\"1\" class=\"dataframe\">\n",
       "  <thead>\n",
       "    <tr style=\"text-align: right;\">\n",
       "      <th></th>\n",
       "      <th>year</th>\n",
       "      <th>displ</th>\n",
       "      <th>cylinders</th>\n",
       "      <th>consumption</th>\n",
       "      <th>CO2_emissions</th>\n",
       "    </tr>\n",
       "  </thead>\n",
       "  <tbody>\n",
       "    <tr>\n",
       "      <th>count</th>\n",
       "      <td>36791.000000</td>\n",
       "      <td>36789.000000</td>\n",
       "      <td>36788.000000</td>\n",
       "      <td>36791.000000</td>\n",
       "      <td>36791.000000</td>\n",
       "    </tr>\n",
       "    <tr>\n",
       "      <th>mean</th>\n",
       "      <td>2000.787421</td>\n",
       "      <td>3.321786</td>\n",
       "      <td>5.746493</td>\n",
       "      <td>20.012068</td>\n",
       "      <td>473.185008</td>\n",
       "    </tr>\n",
       "    <tr>\n",
       "      <th>std</th>\n",
       "      <td>10.374662</td>\n",
       "      <td>1.359945</td>\n",
       "      <td>1.758009</td>\n",
       "      <td>5.109608</td>\n",
       "      <td>118.833905</td>\n",
       "    </tr>\n",
       "    <tr>\n",
       "      <th>min</th>\n",
       "      <td>1984.000000</td>\n",
       "      <td>0.600000</td>\n",
       "      <td>2.000000</td>\n",
       "      <td>7.000000</td>\n",
       "      <td>29.000000</td>\n",
       "    </tr>\n",
       "    <tr>\n",
       "      <th>25%</th>\n",
       "      <td>1991.000000</td>\n",
       "      <td>2.200000</td>\n",
       "      <td>4.000000</td>\n",
       "      <td>17.000000</td>\n",
       "      <td>386.391304</td>\n",
       "    </tr>\n",
       "    <tr>\n",
       "      <th>50%</th>\n",
       "      <td>2002.000000</td>\n",
       "      <td>3.000000</td>\n",
       "      <td>6.000000</td>\n",
       "      <td>19.000000</td>\n",
       "      <td>466.000000</td>\n",
       "    </tr>\n",
       "    <tr>\n",
       "      <th>75%</th>\n",
       "      <td>2010.000000</td>\n",
       "      <td>4.300000</td>\n",
       "      <td>6.000000</td>\n",
       "      <td>23.000000</td>\n",
       "      <td>555.437500</td>\n",
       "    </tr>\n",
       "    <tr>\n",
       "      <th>max</th>\n",
       "      <td>2018.000000</td>\n",
       "      <td>8.400000</td>\n",
       "      <td>16.000000</td>\n",
       "      <td>58.000000</td>\n",
       "      <td>1269.571429</td>\n",
       "    </tr>\n",
       "  </tbody>\n",
       "</table>\n",
       "</div>"
      ],
      "text/plain": [
       "               year         displ     cylinders   consumption  CO2_emissions\n",
       "count  36791.000000  36789.000000  36788.000000  36791.000000   36791.000000\n",
       "mean    2000.787421      3.321786      5.746493     20.012068     473.185008\n",
       "std       10.374662      1.359945      1.758009      5.109608     118.833905\n",
       "min     1984.000000      0.600000      2.000000      7.000000      29.000000\n",
       "25%     1991.000000      2.200000      4.000000     17.000000     386.391304\n",
       "50%     2002.000000      3.000000      6.000000     19.000000     466.000000\n",
       "75%     2010.000000      4.300000      6.000000     23.000000     555.437500\n",
       "max     2018.000000      8.400000     16.000000     58.000000    1269.571429"
      ]
     },
     "execution_count": 138,
     "metadata": {},
     "output_type": "execute_result"
    }
   ],
   "source": [
    "vehicles.describe()"
   ]
  },
  {
   "cell_type": "code",
   "execution_count": 139,
   "id": "compliant-blond",
   "metadata": {},
   "outputs": [
    {
     "name": "stdout",
     "output_type": "stream",
     "text": [
      "4.683245232912929 35.34089110477835\n",
      "116.68329326823994 829.6867227313918\n"
     ]
    }
   ],
   "source": [
    "min_consumption = vehicles.consumption.mean() - 3*vehicles.consumption.std()\n",
    "max_consumption = vehicles.consumption.mean() + 3*vehicles.consumption.std()\n",
    "print(min_consumption, max_consumption)\n",
    "\n",
    "co2_min = vehicles.CO2_emissions.mean() - 3*vehicles.CO2_emissions.std()\n",
    "co2_max = vehicles.CO2_emissions.mean() + 3*vehicles.CO2_emissions.std()\n",
    "print(co2_min, co2_max)\n"
   ]
  },
  {
   "cell_type": "code",
   "execution_count": 140,
   "id": "alike-shape",
   "metadata": {},
   "outputs": [],
   "source": [
    "vehicles = vehicles[\n",
    "    (np.abs(stats.zscore(vehicles.consumption)) < 3) & \\\n",
    "    (np.abs(stats.zscore(vehicles.CO2_emissions)) < 3)\n",
    "]"
   ]
  },
  {
   "cell_type": "code",
   "execution_count": 141,
   "id": "constant-softball",
   "metadata": {},
   "outputs": [
    {
     "data": {
      "text/plain": [
       "(36185, 11)"
      ]
     },
     "execution_count": 141,
     "metadata": {},
     "output_type": "execute_result"
    }
   ],
   "source": [
    "vehicles.shape"
   ]
  },
  {
   "cell_type": "code",
   "execution_count": 142,
   "id": "parliamentary-robinson",
   "metadata": {},
   "outputs": [
    {
     "data": {
      "text/html": [
       "<div>\n",
       "<style scoped>\n",
       "    .dataframe tbody tr th:only-of-type {\n",
       "        vertical-align: middle;\n",
       "    }\n",
       "\n",
       "    .dataframe tbody tr th {\n",
       "        vertical-align: top;\n",
       "    }\n",
       "\n",
       "    .dataframe thead th {\n",
       "        text-align: right;\n",
       "    }\n",
       "</style>\n",
       "<table border=\"1\" class=\"dataframe\">\n",
       "  <thead>\n",
       "    <tr style=\"text-align: right;\">\n",
       "      <th></th>\n",
       "      <th>year</th>\n",
       "      <th>displ</th>\n",
       "      <th>cylinders</th>\n",
       "      <th>consumption</th>\n",
       "      <th>CO2_emissions</th>\n",
       "    </tr>\n",
       "  </thead>\n",
       "  <tbody>\n",
       "    <tr>\n",
       "      <th>count</th>\n",
       "      <td>36185.000000</td>\n",
       "      <td>36183.000000</td>\n",
       "      <td>36182.000000</td>\n",
       "      <td>36185.000000</td>\n",
       "      <td>36185.000000</td>\n",
       "    </tr>\n",
       "    <tr>\n",
       "      <th>mean</th>\n",
       "      <td>2000.799281</td>\n",
       "      <td>3.326051</td>\n",
       "      <td>5.750290</td>\n",
       "      <td>19.842366</td>\n",
       "      <td>473.442286</td>\n",
       "    </tr>\n",
       "    <tr>\n",
       "      <th>std</th>\n",
       "      <td>10.342556</td>\n",
       "      <td>1.340777</td>\n",
       "      <td>1.733438</td>\n",
       "      <td>4.587177</td>\n",
       "      <td>110.906946</td>\n",
       "    </tr>\n",
       "    <tr>\n",
       "      <th>min</th>\n",
       "      <td>1984.000000</td>\n",
       "      <td>0.900000</td>\n",
       "      <td>2.000000</td>\n",
       "      <td>9.000000</td>\n",
       "      <td>144.000000</td>\n",
       "    </tr>\n",
       "    <tr>\n",
       "      <th>25%</th>\n",
       "      <td>1991.000000</td>\n",
       "      <td>2.200000</td>\n",
       "      <td>4.000000</td>\n",
       "      <td>17.000000</td>\n",
       "      <td>394.000000</td>\n",
       "    </tr>\n",
       "    <tr>\n",
       "      <th>50%</th>\n",
       "      <td>2002.000000</td>\n",
       "      <td>3.000000</td>\n",
       "      <td>6.000000</td>\n",
       "      <td>19.000000</td>\n",
       "      <td>467.736842</td>\n",
       "    </tr>\n",
       "    <tr>\n",
       "      <th>75%</th>\n",
       "      <td>2010.000000</td>\n",
       "      <td>4.300000</td>\n",
       "      <td>6.000000</td>\n",
       "      <td>23.000000</td>\n",
       "      <td>552.000000</td>\n",
       "    </tr>\n",
       "    <tr>\n",
       "      <th>max</th>\n",
       "      <td>2018.000000</td>\n",
       "      <td>8.400000</td>\n",
       "      <td>12.000000</td>\n",
       "      <td>35.000000</td>\n",
       "      <td>829.000000</td>\n",
       "    </tr>\n",
       "  </tbody>\n",
       "</table>\n",
       "</div>"
      ],
      "text/plain": [
       "               year         displ     cylinders   consumption  CO2_emissions\n",
       "count  36185.000000  36183.000000  36182.000000  36185.000000   36185.000000\n",
       "mean    2000.799281      3.326051      5.750290     19.842366     473.442286\n",
       "std       10.342556      1.340777      1.733438      4.587177     110.906946\n",
       "min     1984.000000      0.900000      2.000000      9.000000     144.000000\n",
       "25%     1991.000000      2.200000      4.000000     17.000000     394.000000\n",
       "50%     2002.000000      3.000000      6.000000     19.000000     467.736842\n",
       "75%     2010.000000      4.300000      6.000000     23.000000     552.000000\n",
       "max     2018.000000      8.400000     12.000000     35.000000     829.000000"
      ]
     },
     "execution_count": 142,
     "metadata": {},
     "output_type": "execute_result"
    }
   ],
   "source": [
    "vehicles.describe()"
   ]
  },
  {
   "cell_type": "markdown",
   "id": "dynamic-capture",
   "metadata": {},
   "source": [
    "In spite of eliminating outliers, new outliers are generated since the dataset distribution is changed as well. "
   ]
  },
  {
   "cell_type": "code",
   "execution_count": 143,
   "id": "analyzed-hanging",
   "metadata": {},
   "outputs": [
    {
     "name": "stdout",
     "output_type": "stream",
     "text": [
      "year | 0 | int64 \n",
      "displ | 0 | float64 \n",
      "cylinders | 0 | float64 \n",
      "consumption | 213 | int64 \n",
      "CO2_emissions | 424 | float64 \n"
     ]
    }
   ],
   "source": [
    "outliers_col(vehicles)"
   ]
  },
  {
   "cell_type": "markdown",
   "id": "educational-nebraska",
   "metadata": {},
   "source": [
    "In order to eliminate them, we repeat the process until no outliers are left "
   ]
  },
  {
   "cell_type": "code",
   "execution_count": 144,
   "id": "dietary-grass",
   "metadata": {},
   "outputs": [],
   "source": [
    "vehicles = vehicles[\n",
    "    (np.abs(stats.zscore(vehicles.consumption)) < 3) & \\\n",
    "    (np.abs(stats.zscore(vehicles.CO2_emissions)) < 3)\n",
    "]"
   ]
  },
  {
   "cell_type": "code",
   "execution_count": 145,
   "id": "overhead-timothy",
   "metadata": {},
   "outputs": [
    {
     "data": {
      "text/plain": [
       "(35548, 11)"
      ]
     },
     "execution_count": 145,
     "metadata": {},
     "output_type": "execute_result"
    }
   ],
   "source": [
    "vehicles.shape"
   ]
  },
  {
   "cell_type": "code",
   "execution_count": 146,
   "id": "second-seller",
   "metadata": {
    "scrolled": true
   },
   "outputs": [
    {
     "data": {
      "text/html": [
       "<div>\n",
       "<style scoped>\n",
       "    .dataframe tbody tr th:only-of-type {\n",
       "        vertical-align: middle;\n",
       "    }\n",
       "\n",
       "    .dataframe tbody tr th {\n",
       "        vertical-align: top;\n",
       "    }\n",
       "\n",
       "    .dataframe thead th {\n",
       "        text-align: right;\n",
       "    }\n",
       "</style>\n",
       "<table border=\"1\" class=\"dataframe\">\n",
       "  <thead>\n",
       "    <tr style=\"text-align: right;\">\n",
       "      <th></th>\n",
       "      <th>year</th>\n",
       "      <th>displ</th>\n",
       "      <th>cylinders</th>\n",
       "      <th>consumption</th>\n",
       "      <th>CO2_emissions</th>\n",
       "    </tr>\n",
       "  </thead>\n",
       "  <tbody>\n",
       "    <tr>\n",
       "      <th>count</th>\n",
       "      <td>35548.000000</td>\n",
       "      <td>35546.000000</td>\n",
       "      <td>35545.000000</td>\n",
       "      <td>35548.00000</td>\n",
       "      <td>35548.000000</td>\n",
       "    </tr>\n",
       "    <tr>\n",
       "      <th>mean</th>\n",
       "      <td>2000.895578</td>\n",
       "      <td>3.309211</td>\n",
       "      <td>5.728091</td>\n",
       "      <td>19.86123</td>\n",
       "      <td>470.670340</td>\n",
       "    </tr>\n",
       "    <tr>\n",
       "      <th>std</th>\n",
       "      <td>10.308809</td>\n",
       "      <td>1.318826</td>\n",
       "      <td>1.705855</td>\n",
       "      <td>4.38558</td>\n",
       "      <td>104.537771</td>\n",
       "    </tr>\n",
       "    <tr>\n",
       "      <th>min</th>\n",
       "      <td>1984.000000</td>\n",
       "      <td>1.000000</td>\n",
       "      <td>2.000000</td>\n",
       "      <td>9.00000</td>\n",
       "      <td>144.000000</td>\n",
       "    </tr>\n",
       "    <tr>\n",
       "      <th>25%</th>\n",
       "      <td>1991.000000</td>\n",
       "      <td>2.200000</td>\n",
       "      <td>4.000000</td>\n",
       "      <td>17.00000</td>\n",
       "      <td>396.000000</td>\n",
       "    </tr>\n",
       "    <tr>\n",
       "      <th>50%</th>\n",
       "      <td>2002.000000</td>\n",
       "      <td>3.000000</td>\n",
       "      <td>6.000000</td>\n",
       "      <td>19.00000</td>\n",
       "      <td>465.000000</td>\n",
       "    </tr>\n",
       "    <tr>\n",
       "      <th>75%</th>\n",
       "      <td>2010.000000</td>\n",
       "      <td>4.300000</td>\n",
       "      <td>6.000000</td>\n",
       "      <td>23.00000</td>\n",
       "      <td>526.000000</td>\n",
       "    </tr>\n",
       "    <tr>\n",
       "      <th>max</th>\n",
       "      <td>2018.000000</td>\n",
       "      <td>8.400000</td>\n",
       "      <td>12.000000</td>\n",
       "      <td>33.00000</td>\n",
       "      <td>796.000000</td>\n",
       "    </tr>\n",
       "  </tbody>\n",
       "</table>\n",
       "</div>"
      ],
      "text/plain": [
       "               year         displ     cylinders  consumption  CO2_emissions\n",
       "count  35548.000000  35546.000000  35545.000000  35548.00000   35548.000000\n",
       "mean    2000.895578      3.309211      5.728091     19.86123     470.670340\n",
       "std       10.308809      1.318826      1.705855      4.38558     104.537771\n",
       "min     1984.000000      1.000000      2.000000      9.00000     144.000000\n",
       "25%     1991.000000      2.200000      4.000000     17.00000     396.000000\n",
       "50%     2002.000000      3.000000      6.000000     19.00000     465.000000\n",
       "75%     2010.000000      4.300000      6.000000     23.00000     526.000000\n",
       "max     2018.000000      8.400000     12.000000     33.00000     796.000000"
      ]
     },
     "execution_count": 146,
     "metadata": {},
     "output_type": "execute_result"
    }
   ],
   "source": [
    "vehicles.describe()"
   ]
  },
  {
   "cell_type": "code",
   "execution_count": 147,
   "id": "historic-review",
   "metadata": {},
   "outputs": [
    {
     "name": "stdout",
     "output_type": "stream",
     "text": [
      "year | 0 | int64 \n",
      "displ | 0 | float64 \n",
      "cylinders | 0 | float64 \n",
      "consumption | 0 | int64 \n",
      "CO2_emissions | 9 | float64 \n"
     ]
    }
   ],
   "source": [
    "outliers_col(vehicles)"
   ]
  },
  {
   "cell_type": "code",
   "execution_count": 148,
   "id": "separate-princeton",
   "metadata": {},
   "outputs": [
    {
     "name": "stdout",
     "output_type": "stream",
     "text": [
      "year | 0 | int64 \n",
      "displ | 0 | float64 \n",
      "cylinders | 0 | float64 \n",
      "consumption | 0 | int64 \n",
      "CO2_emissions | 0 | float64 \n"
     ]
    },
    {
     "data": {
      "text/plain": [
       "(35539, 11)"
      ]
     },
     "execution_count": 148,
     "metadata": {},
     "output_type": "execute_result"
    }
   ],
   "source": [
    "vehicles = vehicles[\n",
    "    (np.abs(stats.zscore(vehicles.consumption)) < 3) & \\\n",
    "    (np.abs(stats.zscore(vehicles.CO2_emissions)) < 3)\n",
    "]\n",
    "outliers_col(vehicles)\n",
    "vehicles.shape"
   ]
  },
  {
   "cell_type": "markdown",
   "id": "hairy-appointment",
   "metadata": {},
   "source": [
    "### Non existing values"
   ]
  },
  {
   "cell_type": "code",
   "execution_count": 149,
   "id": "amateur-addiction",
   "metadata": {},
   "outputs": [
    {
     "name": "stdout",
     "output_type": "stream",
     "text": [
      "manufacturer | 0.0 | object \n",
      "model | 0.0 | object \n",
      "year | 0.0 | int64 \n",
      "displ | 5.627620360730465e-05 | float64 \n",
      "cylinders | 8.441430541095698e-05 | float64 \n",
      "transmission | 2.8138101803652325e-05 | object \n",
      "drive_wheels | 0.02093474774191733 | object \n",
      "Class | 0.0 | object \n",
      "fuelType | 0.0 | object \n",
      "consumption | 0.0 | int64 \n",
      "CO2_emissions | 0.0 | float64 \n"
     ]
    }
   ],
   "source": [
    "n_records = len(vehicles)\n",
    "def non_existing_values_col(df):\n",
    "    for column in df:\n",
    "        print(\"{} | {} | {} \".format(\n",
    "        df[column].name, len(df[df[column].isnull()]) / (1.0*n_records), df[column].dtype\n",
    "        ))\n",
    "        \n",
    "non_existing_values_col(vehicles)"
   ]
  },
  {
   "cell_type": "markdown",
   "id": "experienced-fighter",
   "metadata": {},
   "source": [
    "Many Machine Learning algorithms requires that the dataset does not integrate non-existing values (or NaN)\n",
    "\n",
    "The techniques used to handle those values are:\n",
    "\n",
    "1. eliminate non existing values"
   ]
  },
  {
   "cell_type": "code",
   "execution_count": 150,
   "id": "statewide-starter",
   "metadata": {},
   "outputs": [
    {
     "data": {
      "text/plain": [
       "(35535, 11)"
      ]
     },
     "execution_count": 150,
     "metadata": {},
     "output_type": "execute_result"
    }
   ],
   "source": [
    "vehicles_without_null = vehicles.dropna(subset=[\"transmission\", \"displ\", \"cylinders\"])\n",
    "\n",
    "vehicles_without_null.shape"
   ]
  },
  {
   "cell_type": "markdown",
   "id": "known-insight",
   "metadata": {},
   "source": [
    "2. Replace these non-existing particular values. For instance 0 or \"null\". It is a simple way but it adds noise (asuming non-existing values are because of a specific reason)"
   ]
  },
  {
   "cell_type": "code",
   "execution_count": 151,
   "id": "sixth-check",
   "metadata": {},
   "outputs": [
    {
     "data": {
      "text/plain": [
       "(35539, 14)"
      ]
     },
     "execution_count": 151,
     "metadata": {},
     "output_type": "execute_result"
    }
   ],
   "source": [
    "vehicles[\"transmission_imp\"] = vehicles.transmission.fillna(\"no transmission\")\n",
    "vehicles[\"displ_imp\"] = vehicles.transmission.fillna(0)\n",
    "vehicles[\"cylinders_imp\"] = vehicles.cylinders.fillna(0)\n",
    "\n",
    "vehicles.shape"
   ]
  },
  {
   "cell_type": "markdown",
   "id": "editorial-czech",
   "metadata": {},
   "source": [
    "3. Data imputation: replace non-existing values for a specific value in particular, but chosen following a criteria. A very common practise of data imputation is replace the non-existing values of a variable with its mean, mode or median   "
   ]
  },
  {
   "cell_type": "code",
   "execution_count": 152,
   "id": "latter-partner",
   "metadata": {},
   "outputs": [],
   "source": [
    "transmission_imp = vehicles.transmission.mode().values[0] # categorical variable: makes sense since 'I do not know the transmission, so the most probably case is '\n",
    "cylinders_imp = vehicles.cylinders.mode().values[0] # ordinal numerical variable\n",
    "displ_imp = vehicles.displ.median()\n",
    "\n",
    "vehicles.transmission = vehicles.transmission.fillna(transmission_imp)\n",
    "vehicles.displ = vehicles.displ.fillna(displ_imp)\n",
    "vehicles.cylinders = vehicles.cylinders.fillna(cylinders_imp)"
   ]
  },
  {
   "cell_type": "code",
   "execution_count": 153,
   "id": "constant-tension",
   "metadata": {},
   "outputs": [
    {
     "data": {
      "text/html": [
       "<div>\n",
       "<style scoped>\n",
       "    .dataframe tbody tr th:only-of-type {\n",
       "        vertical-align: middle;\n",
       "    }\n",
       "\n",
       "    .dataframe tbody tr th {\n",
       "        vertical-align: top;\n",
       "    }\n",
       "\n",
       "    .dataframe thead th {\n",
       "        text-align: right;\n",
       "    }\n",
       "</style>\n",
       "<table border=\"1\" class=\"dataframe\">\n",
       "  <thead>\n",
       "    <tr style=\"text-align: right;\">\n",
       "      <th></th>\n",
       "      <th>manufacturer</th>\n",
       "      <th>model</th>\n",
       "      <th>year</th>\n",
       "      <th>displ</th>\n",
       "      <th>cylinders</th>\n",
       "      <th>transmission</th>\n",
       "      <th>drive_wheels</th>\n",
       "      <th>Class</th>\n",
       "      <th>fuelType</th>\n",
       "      <th>consumption</th>\n",
       "      <th>CO2_emissions</th>\n",
       "      <th>transmission_imp</th>\n",
       "      <th>displ_imp</th>\n",
       "      <th>cylinders_imp</th>\n",
       "    </tr>\n",
       "  </thead>\n",
       "  <tbody>\n",
       "    <tr>\n",
       "      <th>15458</th>\n",
       "      <td>GMC</td>\n",
       "      <td>C25 Pickup 2WD</td>\n",
       "      <td>1984</td>\n",
       "      <td>4.1</td>\n",
       "      <td>6.0</td>\n",
       "      <td>Automatic 4-spd</td>\n",
       "      <td>2-Wheel Drive</td>\n",
       "      <td>Standard Pickup Trucks 2WD</td>\n",
       "      <td>Regular</td>\n",
       "      <td>14</td>\n",
       "      <td>634.785714</td>\n",
       "      <td>no transmission</td>\n",
       "      <td>0</td>\n",
       "      <td>6.0</td>\n",
       "    </tr>\n",
       "  </tbody>\n",
       "</table>\n",
       "</div>"
      ],
      "text/plain": [
       "      manufacturer           model  year  displ  cylinders     transmission  \\\n",
       "15458          GMC  C25 Pickup 2WD  1984    4.1        6.0  Automatic 4-spd   \n",
       "\n",
       "        drive_wheels                       Class fuelType  consumption  \\\n",
       "15458  2-Wheel Drive  Standard Pickup Trucks 2WD  Regular           14   \n",
       "\n",
       "       CO2_emissions transmission_imp displ_imp  cylinders_imp  \n",
       "15458     634.785714  no transmission         0            6.0  "
      ]
     },
     "execution_count": 153,
     "metadata": {},
     "output_type": "execute_result"
    }
   ],
   "source": [
    "vehicles[vehicles.transmission_imp ==\"no transmission\"]"
   ]
  },
  {
   "cell_type": "code",
   "execution_count": 154,
   "id": "harmful-kansas",
   "metadata": {},
   "outputs": [],
   "source": [
    "vehicles = vehicles.drop(['transmission_imp', 'cylinders_imp', 'displ_imp'], axis=1)"
   ]
  },
  {
   "cell_type": "markdown",
   "id": "basic-amino",
   "metadata": {},
   "source": [
    "Other data imputation includes:\n",
    "    · Use a predictive model to predict non-existing values, using as information the records with the complete information\n",
    "    · More sophisticated methods: MICE"
   ]
  },
  {
   "cell_type": "markdown",
   "id": "plain-prince",
   "metadata": {},
   "source": [
    "### Normalization / Standardization of variables"
   ]
  },
  {
   "cell_type": "markdown",
   "id": "republican-insured",
   "metadata": {},
   "source": [
    "There are two ways in which a dataset can be variables needed to be modified although they are not null nor duplicates"
   ]
  },
  {
   "cell_type": "code",
   "execution_count": 155,
   "id": "heated-clearance",
   "metadata": {},
   "outputs": [
    {
     "data": {
      "text/html": [
       "<div>\n",
       "<style scoped>\n",
       "    .dataframe tbody tr th:only-of-type {\n",
       "        vertical-align: middle;\n",
       "    }\n",
       "\n",
       "    .dataframe tbody tr th {\n",
       "        vertical-align: top;\n",
       "    }\n",
       "\n",
       "    .dataframe thead th {\n",
       "        text-align: right;\n",
       "    }\n",
       "</style>\n",
       "<table border=\"1\" class=\"dataframe\">\n",
       "  <thead>\n",
       "    <tr style=\"text-align: right;\">\n",
       "      <th></th>\n",
       "      <th>year</th>\n",
       "      <th>displ</th>\n",
       "      <th>cylinders</th>\n",
       "      <th>consumption</th>\n",
       "      <th>CO2_emissions</th>\n",
       "    </tr>\n",
       "  </thead>\n",
       "  <tbody>\n",
       "    <tr>\n",
       "      <th>count</th>\n",
       "      <td>35539.000000</td>\n",
       "      <td>35539.000000</td>\n",
       "      <td>35539.000000</td>\n",
       "      <td>35539.000000</td>\n",
       "      <td>35539.000000</td>\n",
       "    </tr>\n",
       "    <tr>\n",
       "      <th>mean</th>\n",
       "      <td>2000.893188</td>\n",
       "      <td>3.308585</td>\n",
       "      <td>5.727426</td>\n",
       "      <td>19.863277</td>\n",
       "      <td>470.607342</td>\n",
       "    </tr>\n",
       "    <tr>\n",
       "      <th>std</th>\n",
       "      <td>10.308730</td>\n",
       "      <td>1.318233</td>\n",
       "      <td>1.705600</td>\n",
       "      <td>4.383492</td>\n",
       "      <td>104.425820</td>\n",
       "    </tr>\n",
       "    <tr>\n",
       "      <th>min</th>\n",
       "      <td>1984.000000</td>\n",
       "      <td>1.000000</td>\n",
       "      <td>2.000000</td>\n",
       "      <td>10.000000</td>\n",
       "      <td>169.000000</td>\n",
       "    </tr>\n",
       "    <tr>\n",
       "      <th>25%</th>\n",
       "      <td>1991.000000</td>\n",
       "      <td>2.200000</td>\n",
       "      <td>4.000000</td>\n",
       "      <td>17.000000</td>\n",
       "      <td>396.000000</td>\n",
       "    </tr>\n",
       "    <tr>\n",
       "      <th>50%</th>\n",
       "      <td>2002.000000</td>\n",
       "      <td>3.000000</td>\n",
       "      <td>6.000000</td>\n",
       "      <td>19.000000</td>\n",
       "      <td>465.000000</td>\n",
       "    </tr>\n",
       "    <tr>\n",
       "      <th>75%</th>\n",
       "      <td>2010.000000</td>\n",
       "      <td>4.300000</td>\n",
       "      <td>6.000000</td>\n",
       "      <td>23.000000</td>\n",
       "      <td>525.000000</td>\n",
       "    </tr>\n",
       "    <tr>\n",
       "      <th>max</th>\n",
       "      <td>2018.000000</td>\n",
       "      <td>8.400000</td>\n",
       "      <td>12.000000</td>\n",
       "      <td>33.000000</td>\n",
       "      <td>782.000000</td>\n",
       "    </tr>\n",
       "  </tbody>\n",
       "</table>\n",
       "</div>"
      ],
      "text/plain": [
       "               year         displ     cylinders   consumption  CO2_emissions\n",
       "count  35539.000000  35539.000000  35539.000000  35539.000000   35539.000000\n",
       "mean    2000.893188      3.308585      5.727426     19.863277     470.607342\n",
       "std       10.308730      1.318233      1.705600      4.383492     104.425820\n",
       "min     1984.000000      1.000000      2.000000     10.000000     169.000000\n",
       "25%     1991.000000      2.200000      4.000000     17.000000     396.000000\n",
       "50%     2002.000000      3.000000      6.000000     19.000000     465.000000\n",
       "75%     2010.000000      4.300000      6.000000     23.000000     525.000000\n",
       "max     2018.000000      8.400000     12.000000     33.000000     782.000000"
      ]
     },
     "execution_count": 155,
     "metadata": {},
     "output_type": "execute_result"
    }
   ],
   "source": [
    "vehicles.describe()"
   ]
  },
  {
   "cell_type": "markdown",
   "id": "described-iraqi",
   "metadata": {},
   "source": [
    "For instance, displ variable displays a range of [0,8,4] meanwhile CO2_emissions has a range [0, 1270]. \n",
    "When aplpicating certain models, what will tends to occur is CO2 variable will weight more simply because of values taken are higher"
   ]
  },
  {
   "cell_type": "markdown",
   "id": "overall-pizza",
   "metadata": {},
   "source": [
    "Same way, certain variables where variation of data is large, makes more difficult for certain models to learn consistent rules. For instance, displ variable "
   ]
  },
  {
   "cell_type": "code",
   "execution_count": 156,
   "id": "consolidated-manitoba",
   "metadata": {
    "scrolled": true
   },
   "outputs": [
    {
     "data": {
      "text/plain": [
       "<AxesSubplot:ylabel='Density'>"
      ]
     },
     "execution_count": 156,
     "metadata": {},
     "output_type": "execute_result"
    },
    {
     "data": {
      "image/png": "[encoded data removed]",
      "text/plain": [
       "<Figure size 864x864 with 1 Axes>"
      ]
     },
     "metadata": {
      "needs_background": "light"
     },
     "output_type": "display_data"
    }
   ],
   "source": [
    "vehicles.displ.plot.kde()"
   ]
  },
  {
   "cell_type": "markdown",
   "id": "compound-thing",
   "metadata": {},
   "source": [
    "Displ variable has a positive symmetry coefficient clearly higher left weighted"
   ]
  },
  {
   "cell_type": "code",
   "execution_count": 157,
   "id": "turkish-fight",
   "metadata": {},
   "outputs": [],
   "source": [
    "from scipy import stats"
   ]
  },
  {
   "cell_type": "code",
   "execution_count": 158,
   "id": "fifth-latin",
   "metadata": {},
   "outputs": [
    {
     "data": {
      "text/plain": [
       "0.6267820075196722"
      ]
     },
     "execution_count": 158,
     "metadata": {},
     "output_type": "execute_result"
    }
   ],
   "source": [
    "stats.skew(vehicles.displ)"
   ]
  },
  {
   "cell_type": "markdown",
   "id": "joint-offset",
   "metadata": {},
   "source": [
    "Ther are two ways to correct this kind of problems and make our models better"
   ]
  },
  {
   "cell_type": "markdown",
   "id": "processed-contributor",
   "metadata": {},
   "source": [
    "### Normalising"
   ]
  },
  {
   "cell_type": "markdown",
   "id": "deadly-classic",
   "metadata": {},
   "source": [
    "Also called min-max scalling\n",
    "\n",
    "It converts any numerical variable whatever its range into a range[0,1] (Many deep learning models requires it)"
   ]
  },
  {
   "cell_type": "code",
   "execution_count": 159,
   "id": "identified-explorer",
   "metadata": {},
   "outputs": [
    {
     "data": {
      "text/plain": [
       "<matplotlib.legend.Legend at 0x126370b20>"
      ]
     },
     "execution_count": 159,
     "metadata": {},
     "output_type": "execute_result"
    },
    {
     "data": {
      "image/png": "[encoded data removed]",
      "text/plain": [
       "<Figure size 864x864 with 1 Axes>"
      ]
     },
     "metadata": {
      "needs_background": "light"
     },
     "output_type": "display_data"
    }
   ],
   "source": [
    "displ_x_min = vehicles.displ.min()\n",
    "displ_x_max = vehicles.displ.max()\n",
    "\n",
    "original_displ = vehicles.displ\n",
    "normalized_displ = original_displ.apply(lambda x: (x-displ_x_min) / (displ_x_max - displ_x_min))\n",
    "\n",
    "normalized_displ.plot.hist(label=\"normalized\")\n",
    "original_displ.plot.hist(label=\"original\")\n",
    "plt.legend()\n"
   ]
  },
  {
   "cell_type": "markdown",
   "id": "democratic-justice",
   "metadata": {},
   "source": [
    "### Standardization"
   ]
  },
  {
   "cell_type": "markdown",
   "id": "documentary-seventh",
   "metadata": {},
   "source": [
    "The goal of standardization is to re-scale the variable to a distribution with mean=0 and standard deviation = 1\n",
    "\n",
    "Standardization is performed easily by converting each value to its Z score"
   ]
  },
  {
   "cell_type": "code",
   "execution_count": 160,
   "id": "cosmetic-supply",
   "metadata": {
    "scrolled": true
   },
   "outputs": [
    {
     "data": {
      "text/plain": [
       "<matplotlib.legend.Legend at 0x12a77b130>"
      ]
     },
     "execution_count": 160,
     "metadata": {},
     "output_type": "execute_result"
    },
    {
     "data": {
      "image/png": "[encoded data removed]",
      "text/plain": [
       "<Figure size 864x864 with 1 Axes>"
      ]
     },
     "metadata": {
      "needs_background": "light"
     },
     "output_type": "display_data"
    }
   ],
   "source": [
    "displ_mu = vehicles.displ.mean()\n",
    "displ_sigma = vehicles.displ.std()\n",
    "\n",
    "standardized_displ = normalized_displ.apply(lambda x: (x-displ_mu) / (displ_sigma))\n",
    "\n",
    "\n",
    "standardized_displ.plot.hist(label=\"stadardized\", alpha=0.5)\n",
    "original_displ.plot.hist(label=\"original\", alpha=0.5)\n",
    "plt.legend()"
   ]
  },
  {
   "cell_type": "markdown",
   "id": "smart-nursery",
   "metadata": {},
   "source": [
    "For instance, we are performing a dispersion graph to compare displ and CO2 variables depending on whether they are standardized or normalized"
   ]
  },
  {
   "cell_type": "code",
   "execution_count": 161,
   "id": "first-pennsylvania",
   "metadata": {},
   "outputs": [],
   "source": [
    "consumption_original = vehicles.consumption\n",
    "\n",
    "consumption_mu = vehicles.consumption.mean()\n",
    "consumption_sigma = vehicles.consumption.std()\n",
    "consumption_min = vehicles.consumption.min()\n",
    "consumption_max = vehicles.consumption.max()\n",
    "\n",
    "consumption_standardized = consumption_original.apply(lambda x: (x-consumption_mu)/consumption_sigma)\n",
    "consumption_normalized = consumption_original.apply(lambda x: (x-consumption_min)/ (consumption_max - consumption_min))"
   ]
  },
  {
   "cell_type": "code",
   "execution_count": 162,
   "id": "recreational-spoke",
   "metadata": {},
   "outputs": [
    {
     "data": {
      "text/plain": [
       "Text(0, 0.5, 'displ')"
      ]
     },
     "execution_count": 162,
     "metadata": {},
     "output_type": "execute_result"
    },
    {
     "data": {
      "image/png": "[encoded data removed]",
      "text/plain": [
       "<Figure size 864x864 with 1 Axes>"
      ]
     },
     "metadata": {
      "needs_background": "light"
     },
     "output_type": "display_data"
    }
   ],
   "source": [
    "plt.scatter(x=consumption_original, y=original_displ, label=\"original\")\n",
    "plt.scatter(x=consumption_standardized, y=standardized_displ, label=\"standardized\")\n",
    "plt.scatter(x=consumption_normalized, y=normalized_displ, label=\"normalized\")\n",
    "\n",
    "plt.xlabel(\"consumption\")\n",
    "plt.ylabel(\"displ\")"
   ]
  },
  {
   "cell_type": "code",
   "execution_count": 163,
   "id": "lesser-sweet",
   "metadata": {},
   "outputs": [],
   "source": [
    "vehicles[\"consumption_std\"] = consumption_standardized\n",
    "vehicles[\"displ_std\"] = standardized_displ"
   ]
  },
  {
   "cell_type": "code",
   "execution_count": 164,
   "id": "interracial-republic",
   "metadata": {},
   "outputs": [
    {
     "data": {
      "text/html": [
       "<div>\n",
       "<style scoped>\n",
       "    .dataframe tbody tr th:only-of-type {\n",
       "        vertical-align: middle;\n",
       "    }\n",
       "\n",
       "    .dataframe tbody tr th {\n",
       "        vertical-align: top;\n",
       "    }\n",
       "\n",
       "    .dataframe thead th {\n",
       "        text-align: right;\n",
       "    }\n",
       "</style>\n",
       "<table border=\"1\" class=\"dataframe\">\n",
       "  <thead>\n",
       "    <tr style=\"text-align: right;\">\n",
       "      <th></th>\n",
       "      <th>manufacturer</th>\n",
       "      <th>model</th>\n",
       "      <th>year</th>\n",
       "      <th>displ</th>\n",
       "      <th>cylinders</th>\n",
       "      <th>transmission</th>\n",
       "      <th>drive_wheels</th>\n",
       "      <th>Class</th>\n",
       "      <th>fuelType</th>\n",
       "      <th>consumption</th>\n",
       "      <th>CO2_emissions</th>\n",
       "      <th>consumption_std</th>\n",
       "      <th>displ_std</th>\n",
       "    </tr>\n",
       "  </thead>\n",
       "  <tbody>\n",
       "    <tr>\n",
       "      <th>0</th>\n",
       "      <td>AM General</td>\n",
       "      <td>DJ Po Vehicle 2WD</td>\n",
       "      <td>1984</td>\n",
       "      <td>2.5</td>\n",
       "      <td>4.0</td>\n",
       "      <td>Automatic 3-spd</td>\n",
       "      <td>2-Wheel Drive</td>\n",
       "      <td>Special Purpose Vehicle 2WD</td>\n",
       "      <td>Regular</td>\n",
       "      <td>17</td>\n",
       "      <td>522.764706</td>\n",
       "      <td>-0.653195</td>\n",
       "      <td>-2.356095</td>\n",
       "    </tr>\n",
       "    <tr>\n",
       "      <th>2</th>\n",
       "      <td>AM General</td>\n",
       "      <td>FJ8c Post Office</td>\n",
       "      <td>1984</td>\n",
       "      <td>4.2</td>\n",
       "      <td>6.0</td>\n",
       "      <td>Automatic 3-spd</td>\n",
       "      <td>2-Wheel Drive</td>\n",
       "      <td>Special Purpose Vehicle 2WD</td>\n",
       "      <td>Regular</td>\n",
       "      <td>13</td>\n",
       "      <td>683.615385</td>\n",
       "      <td>-1.565710</td>\n",
       "      <td>-2.181824</td>\n",
       "    </tr>\n",
       "    <tr>\n",
       "      <th>4</th>\n",
       "      <td>AM General</td>\n",
       "      <td>Post Office DJ5 2WD</td>\n",
       "      <td>1985</td>\n",
       "      <td>2.5</td>\n",
       "      <td>4.0</td>\n",
       "      <td>Automatic 3-spd</td>\n",
       "      <td>Rear-Wheel Drive</td>\n",
       "      <td>Special Purpose Vehicle 2WD</td>\n",
       "      <td>Regular</td>\n",
       "      <td>16</td>\n",
       "      <td>555.437500</td>\n",
       "      <td>-0.881324</td>\n",
       "      <td>-2.356095</td>\n",
       "    </tr>\n",
       "    <tr>\n",
       "      <th>5</th>\n",
       "      <td>AM General</td>\n",
       "      <td>Post Office DJ8 2WD</td>\n",
       "      <td>1985</td>\n",
       "      <td>4.2</td>\n",
       "      <td>6.0</td>\n",
       "      <td>Automatic 3-spd</td>\n",
       "      <td>Rear-Wheel Drive</td>\n",
       "      <td>Special Purpose Vehicle 2WD</td>\n",
       "      <td>Regular</td>\n",
       "      <td>13</td>\n",
       "      <td>683.615385</td>\n",
       "      <td>-1.565710</td>\n",
       "      <td>-2.181824</td>\n",
       "    </tr>\n",
       "    <tr>\n",
       "      <th>6</th>\n",
       "      <td>ASC Incorporated</td>\n",
       "      <td>GNX</td>\n",
       "      <td>1987</td>\n",
       "      <td>3.8</td>\n",
       "      <td>6.0</td>\n",
       "      <td>Automatic 4-spd</td>\n",
       "      <td>Rear-Wheel Drive</td>\n",
       "      <td>Midsize Cars</td>\n",
       "      <td>Premium</td>\n",
       "      <td>16</td>\n",
       "      <td>555.437500</td>\n",
       "      <td>-0.881324</td>\n",
       "      <td>-2.222829</td>\n",
       "    </tr>\n",
       "  </tbody>\n",
       "</table>\n",
       "</div>"
      ],
      "text/plain": [
       "       manufacturer                model  year  displ  cylinders  \\\n",
       "0        AM General    DJ Po Vehicle 2WD  1984    2.5        4.0   \n",
       "2        AM General     FJ8c Post Office  1984    4.2        6.0   \n",
       "4        AM General  Post Office DJ5 2WD  1985    2.5        4.0   \n",
       "5        AM General  Post Office DJ8 2WD  1985    4.2        6.0   \n",
       "6  ASC Incorporated                  GNX  1987    3.8        6.0   \n",
       "\n",
       "      transmission      drive_wheels                        Class fuelType  \\\n",
       "0  Automatic 3-spd     2-Wheel Drive  Special Purpose Vehicle 2WD  Regular   \n",
       "2  Automatic 3-spd     2-Wheel Drive  Special Purpose Vehicle 2WD  Regular   \n",
       "4  Automatic 3-spd  Rear-Wheel Drive  Special Purpose Vehicle 2WD  Regular   \n",
       "5  Automatic 3-spd  Rear-Wheel Drive  Special Purpose Vehicle 2WD  Regular   \n",
       "6  Automatic 4-spd  Rear-Wheel Drive                 Midsize Cars  Premium   \n",
       "\n",
       "   consumption  CO2_emissions  consumption_std  displ_std  \n",
       "0           17     522.764706        -0.653195  -2.356095  \n",
       "2           13     683.615385        -1.565710  -2.181824  \n",
       "4           16     555.437500        -0.881324  -2.356095  \n",
       "5           13     683.615385        -1.565710  -2.181824  \n",
       "6           16     555.437500        -0.881324  -2.222829  "
      ]
     },
     "execution_count": 164,
     "metadata": {},
     "output_type": "execute_result"
    }
   ],
   "source": [
    "vehicles.head()"
   ]
  },
  {
   "cell_type": "markdown",
   "id": "marine-access",
   "metadata": {},
   "source": [
    "Finally, we save the clean dataset as csv"
   ]
  },
  {
   "cell_type": "code",
   "execution_count": 165,
   "id": "social-entity",
   "metadata": {},
   "outputs": [],
   "source": [
    "vehicles.to_csv(\"../data/vehicles_processed.csv\")"
   ]
  }
 ],
 "metadata": {
  "kernelspec": {
   "display_name": "Python 3",
   "language": "python",
   "name": "python3"
  },
  "language_info": {
   "codemirror_mode": {
    "name": "ipython",
    "version": 3
   },
   "file_extension": ".py",
   "mimetype": "text/x-python",
   "name": "python",
   "nbconvert_exporter": "python",
   "pygments_lexer": "ipython3",
   "version": "3.9.2"
  }
 },
 "nbformat": 4,
 "nbformat_minor": 5
}
