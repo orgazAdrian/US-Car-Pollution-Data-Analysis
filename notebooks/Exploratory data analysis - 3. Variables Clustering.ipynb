{
 "cells": [
  {
   "cell_type": "code",
   "execution_count": 302,
   "id": "virgin-inclusion",
   "metadata": {},
   "outputs": [
    {
     "name": "stdout",
     "output_type": "stream",
     "text": [
      "The watermark extension is already loaded. To reload it, use:\n",
      "  %reload_ext watermark\n",
      "Last updated: 2021-04-15T00:43:15.160715+02:00\n",
      "\n",
      "Python implementation: CPython\n",
      "Python version       : 3.9.2\n",
      "IPython version      : 7.21.0\n",
      "\n",
      "Compiler    : Clang 12.0.0 (clang-1200.0.32.29)\n",
      "OS          : Darwin\n",
      "Release     : 20.3.0\n",
      "Machine     : x86_64\n",
      "Processor   : i386\n",
      "CPU cores   : 4\n",
      "Architecture: 64bit\n",
      "\n"
     ]
    }
   ],
   "source": [
    "%load_ext watermark\n",
    "%watermark"
   ]
  },
  {
   "cell_type": "code",
   "execution_count": 303,
   "id": "personalized-driving",
   "metadata": {},
   "outputs": [],
   "source": [
    "import pandas as pd"
   ]
  },
  {
   "cell_type": "code",
   "execution_count": 304,
   "id": "sonic-infrared",
   "metadata": {},
   "outputs": [
    {
     "name": "stdout",
     "output_type": "stream",
     "text": [
      "zsh:1: command not found: system.executable\r\n"
     ]
    }
   ],
   "source": [
    "import sys\n",
    "!{system.executable}"
   ]
  },
  {
   "cell_type": "code",
   "execution_count": 305,
   "id": "human-constraint",
   "metadata": {},
   "outputs": [],
   "source": [
    "%matplotlib inline\n",
    "import matplotlib.pyplot as plt\n",
    "\n",
    "plt.rcParams['figure.figsize'] = (12,12) #10 pulgadas de ancho y 10 de alto para todos los plots"
   ]
  },
  {
   "cell_type": "markdown",
   "id": "preliminary-render",
   "metadata": {},
   "source": [
    "### Data Reading"
   ]
  },
  {
   "cell_type": "code",
   "execution_count": 306,
   "id": "literary-bookmark",
   "metadata": {},
   "outputs": [],
   "source": [
    "vehicles = pd.read_csv(\"../data/vehicles.2.clean_analysis.csv\")"
   ]
  },
  {
   "cell_type": "code",
   "execution_count": 307,
   "id": "agreed-notification",
   "metadata": {},
   "outputs": [
    {
     "data": {
      "text/html": [
       "<div>\n",
       "<style scoped>\n",
       "    .dataframe tbody tr th:only-of-type {\n",
       "        vertical-align: middle;\n",
       "    }\n",
       "\n",
       "    .dataframe tbody tr th {\n",
       "        vertical-align: top;\n",
       "    }\n",
       "\n",
       "    .dataframe thead th {\n",
       "        text-align: right;\n",
       "    }\n",
       "</style>\n",
       "<table border=\"1\" class=\"dataframe\">\n",
       "  <thead>\n",
       "    <tr style=\"text-align: right;\">\n",
       "      <th></th>\n",
       "      <th>make</th>\n",
       "      <th>model</th>\n",
       "      <th>year</th>\n",
       "      <th>displ</th>\n",
       "      <th>cylinders</th>\n",
       "      <th>trany</th>\n",
       "      <th>drive</th>\n",
       "      <th>VClass</th>\n",
       "      <th>fuelType</th>\n",
       "      <th>comb08</th>\n",
       "      <th>co2TailpipeGpm</th>\n",
       "    </tr>\n",
       "  </thead>\n",
       "  <tbody>\n",
       "    <tr>\n",
       "      <th>0</th>\n",
       "      <td>AM General</td>\n",
       "      <td>DJ Po Vehicle 2WD</td>\n",
       "      <td>1984</td>\n",
       "      <td>2.5</td>\n",
       "      <td>4.0</td>\n",
       "      <td>Automatic 3-spd</td>\n",
       "      <td>2-Wheel Drive</td>\n",
       "      <td>Special Purpose Vehicle 2WD</td>\n",
       "      <td>Regular</td>\n",
       "      <td>17</td>\n",
       "      <td>522.764706</td>\n",
       "    </tr>\n",
       "    <tr>\n",
       "      <th>1</th>\n",
       "      <td>AM General</td>\n",
       "      <td>FJ8c Post Office</td>\n",
       "      <td>1984</td>\n",
       "      <td>4.2</td>\n",
       "      <td>6.0</td>\n",
       "      <td>Automatic 3-spd</td>\n",
       "      <td>2-Wheel Drive</td>\n",
       "      <td>Special Purpose Vehicle 2WD</td>\n",
       "      <td>Regular</td>\n",
       "      <td>13</td>\n",
       "      <td>683.615385</td>\n",
       "    </tr>\n",
       "    <tr>\n",
       "      <th>2</th>\n",
       "      <td>AM General</td>\n",
       "      <td>Post Office DJ5 2WD</td>\n",
       "      <td>1985</td>\n",
       "      <td>2.5</td>\n",
       "      <td>4.0</td>\n",
       "      <td>Automatic 3-spd</td>\n",
       "      <td>Rear-Wheel Drive</td>\n",
       "      <td>Special Purpose Vehicle 2WD</td>\n",
       "      <td>Regular</td>\n",
       "      <td>16</td>\n",
       "      <td>555.437500</td>\n",
       "    </tr>\n",
       "    <tr>\n",
       "      <th>3</th>\n",
       "      <td>AM General</td>\n",
       "      <td>Post Office DJ8 2WD</td>\n",
       "      <td>1985</td>\n",
       "      <td>4.2</td>\n",
       "      <td>6.0</td>\n",
       "      <td>Automatic 3-spd</td>\n",
       "      <td>Rear-Wheel Drive</td>\n",
       "      <td>Special Purpose Vehicle 2WD</td>\n",
       "      <td>Regular</td>\n",
       "      <td>13</td>\n",
       "      <td>683.615385</td>\n",
       "    </tr>\n",
       "    <tr>\n",
       "      <th>4</th>\n",
       "      <td>ASC Incorporated</td>\n",
       "      <td>GNX</td>\n",
       "      <td>1987</td>\n",
       "      <td>3.8</td>\n",
       "      <td>6.0</td>\n",
       "      <td>Automatic 4-spd</td>\n",
       "      <td>Rear-Wheel Drive</td>\n",
       "      <td>Midsize Cars</td>\n",
       "      <td>Premium</td>\n",
       "      <td>16</td>\n",
       "      <td>555.437500</td>\n",
       "    </tr>\n",
       "  </tbody>\n",
       "</table>\n",
       "</div>"
      ],
      "text/plain": [
       "               make                model  year  displ  cylinders  \\\n",
       "0        AM General    DJ Po Vehicle 2WD  1984    2.5        4.0   \n",
       "1        AM General     FJ8c Post Office  1984    4.2        6.0   \n",
       "2        AM General  Post Office DJ5 2WD  1985    2.5        4.0   \n",
       "3        AM General  Post Office DJ8 2WD  1985    4.2        6.0   \n",
       "4  ASC Incorporated                  GNX  1987    3.8        6.0   \n",
       "\n",
       "             trany             drive                       VClass fuelType  \\\n",
       "0  Automatic 3-spd     2-Wheel Drive  Special Purpose Vehicle 2WD  Regular   \n",
       "1  Automatic 3-spd     2-Wheel Drive  Special Purpose Vehicle 2WD  Regular   \n",
       "2  Automatic 3-spd  Rear-Wheel Drive  Special Purpose Vehicle 2WD  Regular   \n",
       "3  Automatic 3-spd  Rear-Wheel Drive  Special Purpose Vehicle 2WD  Regular   \n",
       "4  Automatic 4-spd  Rear-Wheel Drive                 Midsize Cars  Premium   \n",
       "\n",
       "   comb08  co2TailpipeGpm  \n",
       "0      17      522.764706  \n",
       "1      13      683.615385  \n",
       "2      16      555.437500  \n",
       "3      13      683.615385  \n",
       "4      16      555.437500  "
      ]
     },
     "execution_count": 307,
     "metadata": {},
     "output_type": "execute_result"
    }
   ],
   "source": [
    "vehicles.head()"
   ]
  },
  {
   "cell_type": "markdown",
   "id": "analyzed-testing",
   "metadata": {},
   "source": [
    "In this case, we are going to group those variables which can be gathered into more generic groups. This will help us to analyze the dataset by clusters instead individual elements. \n",
    "\n",
    "To perform this step, we can see the number of different values each categorial variable may have. "
   ]
  },
  {
   "cell_type": "code",
   "execution_count": 308,
   "id": "anticipated-cursor",
   "metadata": {},
   "outputs": [
    {
     "name": "stdout",
     "output_type": "stream",
     "text": [
      "make | 133 | object\n",
      "model | 3791 | object\n",
      "year | 35 | int64\n",
      "displ | 67 | float64\n",
      "cylinders | 10 | float64\n",
      "trany | 38 | object\n",
      "drive | 8 | object\n",
      "VClass | 34 | object\n",
      "fuelType | 14 | object\n",
      "comb08 | 84 | int64\n",
      "co2TailpipeGpm | 597 | float64\n"
     ]
    }
   ],
   "source": [
    "def unique_col_values(df):\n",
    "    for column in df:\n",
    "        print(\"{} | {} | {}\".format(\n",
    "            df[column].name, len(df[column].unique()), df[column].dtype\n",
    "        ))\n",
    "unique_col_values(vehicles)"
   ]
  },
  {
   "cell_type": "markdown",
   "id": "ruled-navigator",
   "metadata": {},
   "source": [
    "### Categorical variables clustering"
   ]
  },
  {
   "cell_type": "markdown",
   "id": "infinite-honduras",
   "metadata": {},
   "source": [
    "#### Model car"
   ]
  },
  {
   "cell_type": "code",
   "execution_count": 309,
   "id": "dense-auckland",
   "metadata": {},
   "outputs": [
    {
     "data": {
      "text/plain": [
       "array(['Special Purpose Vehicle 2WD', 'Midsize Cars', 'Subcompact Cars',\n",
       "       'Compact Cars', 'Sport Utility Vehicle - 4WD',\n",
       "       'Small Sport Utility Vehicle 2WD',\n",
       "       'Small Sport Utility Vehicle 4WD', 'Two Seaters',\n",
       "       'Sport Utility Vehicle - 2WD', 'Special Purpose Vehicles',\n",
       "       'Special Purpose Vehicle 4WD', 'Small Station Wagons',\n",
       "       'Minicompact Cars', 'Midsize-Large Station Wagons',\n",
       "       'Midsize Station Wagons', 'Large Cars',\n",
       "       'Standard Sport Utility Vehicle 4WD',\n",
       "       'Standard Sport Utility Vehicle 2WD', 'Minivan - 4WD',\n",
       "       'Minivan - 2WD', 'Vans', 'Vans, Cargo Type',\n",
       "       'Vans, Passenger Type', 'Standard Pickup Trucks 2WD',\n",
       "       'Standard Pickup Trucks', 'Standard Pickup Trucks/2wd',\n",
       "       'Small Pickup Trucks 2WD', 'Standard Pickup Trucks 4WD',\n",
       "       'Small Pickup Trucks 4WD', 'Small Pickup Trucks', 'Vans Passenger',\n",
       "       'Special Purpose Vehicle', 'Special Purpose Vehicles/2wd',\n",
       "       'Special Purpose Vehicles/4wd'], dtype=object)"
      ]
     },
     "execution_count": 309,
     "metadata": {},
     "output_type": "execute_result"
    }
   ],
   "source": [
    "vehicles.VClass.unique()"
   ]
  },
  {
   "cell_type": "code",
   "execution_count": 310,
   "id": "distant-handle",
   "metadata": {},
   "outputs": [],
   "source": [
    "small = ['Compact Cars', 'Subcompact Cars', 'Two Seaters', 'Minicompact Cars']\n",
    "medium = ['Midsize Cars']\n",
    "large = ['Large Cars']\n",
    "\n",
    "vehicles.loc[vehicles['VClass'].isin(small),\n",
    "            'VClass'] = 'Small Cars'\n",
    "\n",
    "vehicles.loc[vehicles['VClass'].isin(medium),\n",
    "            'VClass'] = 'Medium Cars'\n",
    "\n",
    "vehicles.loc[vehicles['VClass'].isin(large),\n",
    "            'VClass'] = 'Large Cars'\n",
    "\n",
    "vehicles.loc[vehicles['VClass'].str.contains('Truck'),\n",
    "            'VClass'] = 'Trucks'\n",
    "\n",
    "vehicles.loc[vehicles['VClass'].str.contains('Special Purpose'),\n",
    "            'VClass'] = 'Special Vehicles'\n",
    "\n",
    "vehicles.loc[vehicles['VClass'].str.contains('Sports'),\n",
    "            'VClass'] = 'Sport Car'\n",
    "\n",
    "vehicles.loc[vehicles['VClass'].str.contains('Station'), \n",
    "            'VClass'] = 'Station'\n",
    "\n",
    "vehicles.loc[(vehicles['VClass'].str.lower().str.contains('van')),\n",
    "            'VClass'] = 'Van'"
   ]
  },
  {
   "cell_type": "code",
   "execution_count": 311,
   "id": "conditional-ordinance",
   "metadata": {},
   "outputs": [],
   "source": [
    "vehicles.VClass = vehicles.VClass.astype(\"category\")"
   ]
  },
  {
   "cell_type": "code",
   "execution_count": 312,
   "id": "dated-active",
   "metadata": {
    "scrolled": true
   },
   "outputs": [
    {
     "data": {
      "text/plain": [
       "Small Cars                            13055\n",
       "Trucks                                 5446\n",
       "Medium Cars                            4274\n",
       "Station                                2540\n",
       "Special Vehicles                       2216\n",
       "Van                                    2213\n",
       "Sport Utility Vehicle - 4WD            2074\n",
       "Large Cars                             1873\n",
       "Sport Utility Vehicle - 2WD            1621\n",
       "Small Sport Utility Vehicle 4WD         564\n",
       "Standard Sport Utility Vehicle 4WD      445\n",
       "Small Sport Utility Vehicle 2WD         424\n",
       "Standard Sport Utility Vehicle 2WD      185\n",
       "Name: VClass, dtype: int64"
      ]
     },
     "execution_count": 312,
     "metadata": {},
     "output_type": "execute_result"
    }
   ],
   "source": [
    "vehicles.VClass.value_counts()"
   ]
  },
  {
   "cell_type": "markdown",
   "id": "local-television",
   "metadata": {},
   "source": [
    "### Trany type"
   ]
  },
  {
   "cell_type": "code",
   "execution_count": 313,
   "id": "mounted-importance",
   "metadata": {},
   "outputs": [
    {
     "data": {
      "text/plain": [
       "array(['2-Wheel Drive', 'Rear-Wheel Drive', 'Front-Wheel Drive',\n",
       "       '4-Wheel or All-Wheel Drive', 'All-Wheel Drive', nan,\n",
       "       '4-Wheel Drive', 'Part-time 4-Wheel Drive'], dtype=object)"
      ]
     },
     "execution_count": 313,
     "metadata": {},
     "output_type": "execute_result"
    }
   ],
   "source": [
    "vehicles.drive.unique()"
   ]
  },
  {
   "cell_type": "code",
   "execution_count": 314,
   "id": "requested-consultation",
   "metadata": {},
   "outputs": [],
   "source": [
    "vehicles[\"drive\"] = \"two\"\n",
    "vehicles[\"drive\"][vehicles.drive.isin([\n",
    "    \"4-Wheel or All-Wheel Drive\", \"All-Wheel Drive\",\n",
    "       \"4-Wheel Drive\", \"Part-time 4-Wheel Drive\"\n",
    "])] = \"four\""
   ]
  },
  {
   "cell_type": "markdown",
   "id": "weekly-duplicate",
   "metadata": {},
   "source": [
    "This warning is communicating to us we are alterating a copy of vehicles (vehicles_year), not vehicles.\n",
    "To undo it:"
   ]
  },
  {
   "cell_type": "code",
   "execution_count": 315,
   "id": "experienced-leeds",
   "metadata": {},
   "outputs": [],
   "source": [
    "pd.set_option('chained_assignment', None)"
   ]
  },
  {
   "cell_type": "markdown",
   "id": "actual-cardiff",
   "metadata": {},
   "source": [
    "Or simply use loc to asign values on pandas"
   ]
  },
  {
   "cell_type": "code",
   "execution_count": 316,
   "id": "pacific-burlington",
   "metadata": {},
   "outputs": [],
   "source": [
    "vehicles[\"drive\"] = \"two\"\n",
    "vehicles.loc[vehicles.drive.isin([\n",
    "    \"4-Wheel or All-Wheel Drive\", \"All-Wheel Drive\",\n",
    "       \"4-Wheel Drive\", \"Part-time 4-Wheel Drive\"\n",
    "]), \"drive\"] = \"four\""
   ]
  },
  {
   "cell_type": "code",
   "execution_count": 317,
   "id": "noticed-tyler",
   "metadata": {},
   "outputs": [],
   "source": [
    "vehicles.drive = vehicles.drive.astype(\"category\")"
   ]
  },
  {
   "cell_type": "markdown",
   "id": "similar-booth",
   "metadata": {},
   "source": [
    "### Transmission"
   ]
  },
  {
   "cell_type": "code",
   "execution_count": 318,
   "id": "surrounded-socket",
   "metadata": {},
   "outputs": [
    {
     "data": {
      "text/plain": [
       "array(['Automatic 3-spd', 'Automatic 4-spd', 'Manual 5-spd',\n",
       "       'Automatic (S5)', 'Manual 6-spd', 'Automatic 5-spd',\n",
       "       'Automatic (AM8)', 'Automatic (AM-S8)', 'Automatic (AV-S7)',\n",
       "       'Automatic (S6)', 'Automatic (S9)', 'Automatic (AM-S7)',\n",
       "       'Automatic (S4)', 'Automatic (AM-S9)', 'Automatic (S7)',\n",
       "       'Automatic (AM7)', 'Automatic (AM6)', 'Automatic 6-spd',\n",
       "       'Automatic 8-spd', 'Manual 4-spd', 'Automatic (S8)',\n",
       "       'Manual 7-spd', 'Automatic (AM-S6)', 'Auto(AM-S6)',\n",
       "       'Automatic (variable gear ratios)', 'Automatic (AV-S8)',\n",
       "       'Automatic (A1)', 'Automatic (AV-S6)', 'Manual 3-spd',\n",
       "       'Automatic (S10)', 'Automatic 9-spd', 'Manual 4-spd Doubled', nan,\n",
       "       'Automatic (L4)', 'Automatic (L3)', 'Automatic (AV-S10)',\n",
       "       'Automatic 7-spd', 'Automatic (AM5)'], dtype=object)"
      ]
     },
     "execution_count": 318,
     "metadata": {},
     "output_type": "execute_result"
    }
   ],
   "source": [
    "vehicles.trany.unique()"
   ]
  },
  {
   "cell_type": "markdown",
   "id": "tough-halifax",
   "metadata": {},
   "source": [
    "We see that transmissions can be categorized by manual or automatic"
   ]
  },
  {
   "cell_type": "code",
   "execution_count": 319,
   "id": "flying-johns",
   "metadata": {},
   "outputs": [],
   "source": [
    "vehicles['trany'] = \"Automatic\"\n",
    "\n",
    "vehicles.loc[vehicles['trany'].str.startswith('M'),\n",
    "            'trany'] = \"Manual\""
   ]
  },
  {
   "cell_type": "markdown",
   "id": "foreign-girlfriend",
   "metadata": {},
   "source": [
    "In case of an error, we shall check whether exist null values on the category"
   ]
  },
  {
   "cell_type": "code",
   "execution_count": 320,
   "id": "answering-percentage",
   "metadata": {
    "scrolled": true
   },
   "outputs": [
    {
     "data": {
      "text/html": [
       "<div>\n",
       "<style scoped>\n",
       "    .dataframe tbody tr th:only-of-type {\n",
       "        vertical-align: middle;\n",
       "    }\n",
       "\n",
       "    .dataframe tbody tr th {\n",
       "        vertical-align: top;\n",
       "    }\n",
       "\n",
       "    .dataframe thead th {\n",
       "        text-align: right;\n",
       "    }\n",
       "</style>\n",
       "<table border=\"1\" class=\"dataframe\">\n",
       "  <thead>\n",
       "    <tr style=\"text-align: right;\">\n",
       "      <th></th>\n",
       "      <th>make</th>\n",
       "      <th>model</th>\n",
       "      <th>year</th>\n",
       "      <th>displ</th>\n",
       "      <th>cylinders</th>\n",
       "      <th>trany</th>\n",
       "      <th>drive</th>\n",
       "      <th>VClass</th>\n",
       "      <th>fuelType</th>\n",
       "      <th>comb08</th>\n",
       "      <th>co2TailpipeGpm</th>\n",
       "    </tr>\n",
       "  </thead>\n",
       "  <tbody>\n",
       "  </tbody>\n",
       "</table>\n",
       "</div>"
      ],
      "text/plain": [
       "Empty DataFrame\n",
       "Columns: [make, model, year, displ, cylinders, trany, drive, VClass, fuelType, comb08, co2TailpipeGpm]\n",
       "Index: []"
      ]
     },
     "execution_count": 320,
     "metadata": {},
     "output_type": "execute_result"
    }
   ],
   "source": [
    "vehicles[vehicles['trany'].isnull()]"
   ]
  },
  {
   "cell_type": "code",
   "execution_count": 321,
   "id": "reported-genome",
   "metadata": {},
   "outputs": [
    {
     "data": {
      "text/html": [
       "<div>\n",
       "<style scoped>\n",
       "    .dataframe tbody tr th:only-of-type {\n",
       "        vertical-align: middle;\n",
       "    }\n",
       "\n",
       "    .dataframe tbody tr th {\n",
       "        vertical-align: top;\n",
       "    }\n",
       "\n",
       "    .dataframe thead th {\n",
       "        text-align: right;\n",
       "    }\n",
       "</style>\n",
       "<table border=\"1\" class=\"dataframe\">\n",
       "  <thead>\n",
       "    <tr style=\"text-align: right;\">\n",
       "      <th></th>\n",
       "      <th>make</th>\n",
       "      <th>model</th>\n",
       "      <th>year</th>\n",
       "      <th>displ</th>\n",
       "      <th>cylinders</th>\n",
       "      <th>trany</th>\n",
       "      <th>drive</th>\n",
       "      <th>VClass</th>\n",
       "      <th>fuelType</th>\n",
       "      <th>comb08</th>\n",
       "      <th>co2TailpipeGpm</th>\n",
       "    </tr>\n",
       "  </thead>\n",
       "  <tbody>\n",
       "    <tr>\n",
       "      <th>0</th>\n",
       "      <td>AM General</td>\n",
       "      <td>DJ Po Vehicle 2WD</td>\n",
       "      <td>1984</td>\n",
       "      <td>2.5</td>\n",
       "      <td>4.0</td>\n",
       "      <td>Automatic</td>\n",
       "      <td>two</td>\n",
       "      <td>Special Vehicles</td>\n",
       "      <td>Regular</td>\n",
       "      <td>17</td>\n",
       "      <td>522.764706</td>\n",
       "    </tr>\n",
       "    <tr>\n",
       "      <th>1</th>\n",
       "      <td>AM General</td>\n",
       "      <td>FJ8c Post Office</td>\n",
       "      <td>1984</td>\n",
       "      <td>4.2</td>\n",
       "      <td>6.0</td>\n",
       "      <td>Automatic</td>\n",
       "      <td>two</td>\n",
       "      <td>Special Vehicles</td>\n",
       "      <td>Regular</td>\n",
       "      <td>13</td>\n",
       "      <td>683.615385</td>\n",
       "    </tr>\n",
       "    <tr>\n",
       "      <th>2</th>\n",
       "      <td>AM General</td>\n",
       "      <td>Post Office DJ5 2WD</td>\n",
       "      <td>1985</td>\n",
       "      <td>2.5</td>\n",
       "      <td>4.0</td>\n",
       "      <td>Automatic</td>\n",
       "      <td>two</td>\n",
       "      <td>Special Vehicles</td>\n",
       "      <td>Regular</td>\n",
       "      <td>16</td>\n",
       "      <td>555.437500</td>\n",
       "    </tr>\n",
       "    <tr>\n",
       "      <th>3</th>\n",
       "      <td>AM General</td>\n",
       "      <td>Post Office DJ8 2WD</td>\n",
       "      <td>1985</td>\n",
       "      <td>4.2</td>\n",
       "      <td>6.0</td>\n",
       "      <td>Automatic</td>\n",
       "      <td>two</td>\n",
       "      <td>Special Vehicles</td>\n",
       "      <td>Regular</td>\n",
       "      <td>13</td>\n",
       "      <td>683.615385</td>\n",
       "    </tr>\n",
       "    <tr>\n",
       "      <th>4</th>\n",
       "      <td>ASC Incorporated</td>\n",
       "      <td>GNX</td>\n",
       "      <td>1987</td>\n",
       "      <td>3.8</td>\n",
       "      <td>6.0</td>\n",
       "      <td>Automatic</td>\n",
       "      <td>two</td>\n",
       "      <td>Medium Cars</td>\n",
       "      <td>Premium</td>\n",
       "      <td>16</td>\n",
       "      <td>555.437500</td>\n",
       "    </tr>\n",
       "  </tbody>\n",
       "</table>\n",
       "</div>"
      ],
      "text/plain": [
       "               make                model  year  displ  cylinders      trany  \\\n",
       "0        AM General    DJ Po Vehicle 2WD  1984    2.5        4.0  Automatic   \n",
       "1        AM General     FJ8c Post Office  1984    4.2        6.0  Automatic   \n",
       "2        AM General  Post Office DJ5 2WD  1985    2.5        4.0  Automatic   \n",
       "3        AM General  Post Office DJ8 2WD  1985    4.2        6.0  Automatic   \n",
       "4  ASC Incorporated                  GNX  1987    3.8        6.0  Automatic   \n",
       "\n",
       "  drive            VClass fuelType  comb08  co2TailpipeGpm  \n",
       "0   two  Special Vehicles  Regular      17      522.764706  \n",
       "1   two  Special Vehicles  Regular      13      683.615385  \n",
       "2   two  Special Vehicles  Regular      16      555.437500  \n",
       "3   two  Special Vehicles  Regular      13      683.615385  \n",
       "4   two       Medium Cars  Premium      16      555.437500  "
      ]
     },
     "execution_count": 321,
     "metadata": {},
     "output_type": "execute_result"
    }
   ],
   "source": [
    "vehicles.head()"
   ]
  },
  {
   "cell_type": "markdown",
   "id": "animated-manor",
   "metadata": {},
   "source": [
    "### Fuel Type"
   ]
  },
  {
   "cell_type": "code",
   "execution_count": 322,
   "id": "major-finger",
   "metadata": {},
   "outputs": [
    {
     "data": {
      "text/plain": [
       "Regular                        24078\n",
       "Premium                        10206\n",
       "Gasoline or E85                 1215\n",
       "Diesel                           933\n",
       "Electricity                      139\n",
       "Premium or E85                   124\n",
       "Midgrade                          77\n",
       "CNG                               60\n",
       "Premium and Electricity           30\n",
       "Gasoline or natural gas           20\n",
       "Regular Gas and Electricity       20\n",
       "Premium Gas or Electricity        18\n",
       "Gasoline or propane                8\n",
       "Regular Gas or Electricity         2\n",
       "Name: fuelType, dtype: int64"
      ]
     },
     "execution_count": 322,
     "metadata": {},
     "output_type": "execute_result"
    }
   ],
   "source": [
    "vehicles.fuelType.value_counts()"
   ]
  },
  {
   "cell_type": "markdown",
   "id": "lightweight-falls",
   "metadata": {},
   "source": [
    "As we see the distribution of cars by fuelType are concentrated. Thus, we will gather these categories and join them among those which are valid for our study: \"Polution\" "
   ]
  },
  {
   "cell_type": "code",
   "execution_count": 323,
   "id": "failing-district",
   "metadata": {},
   "outputs": [],
   "source": [
    "vehicles.loc[vehicles['fuelType'].str.contains('Regular'),\n",
    "            'fuelType'] = 'Normal'\n",
    "\n",
    "vehicles.loc[vehicles['fuelType'].str.contains('Premium'),\n",
    "            'fuelType'] = 'Premium'\n",
    "\n",
    "vehicles.loc[vehicles['fuelType'].str.contains('Electricity'),\n",
    "            'fuelType'] = 'Hybrid'"
   ]
  },
  {
   "cell_type": "code",
   "execution_count": 324,
   "id": "stock-pepper",
   "metadata": {
    "scrolled": false
   },
   "outputs": [
    {
     "data": {
      "text/plain": [
       "Normal                     24100\n",
       "Premium                    10378\n",
       "Gasoline or E85             1215\n",
       "Diesel                       933\n",
       "Hybrid                       139\n",
       "Midgrade                      77\n",
       "CNG                           60\n",
       "Gasoline or natural gas       20\n",
       "Gasoline or propane            8\n",
       "Name: fuelType, dtype: int64"
      ]
     },
     "execution_count": 324,
     "metadata": {},
     "output_type": "execute_result"
    }
   ],
   "source": [
    "vehicles.fuelType.value_counts()"
   ]
  },
  {
   "cell_type": "code",
   "execution_count": 325,
   "id": "solar-watts",
   "metadata": {},
   "outputs": [],
   "source": [
    "vehicles.loc[vehicles['fuelType'].str.contains('Regular'),\n",
    "            'fuelType'] = 'Normal'\n",
    "\n",
    "vehicles.loc[vehicles['fuelType'].str.contains('Premium'),\n",
    "            'fuelType'] = 'Premium'\n",
    "\n",
    "vehicles.loc[vehicles['fuelType'].str.contains('Electricity'),\n",
    "            'fuelType'] = 'Hybrid'\n",
    "\n",
    "vehicles.loc[vehicles.fuelType.isin([\n",
    "    \"Diesel\", \"Midgrade\",\n",
    "    \"CNG\", \"Gasoline or natural gas\",\n",
    "    \"Gasoline or propane\"\n",
    "]),\"fuelType\" ] = \"Others\""
   ]
  },
  {
   "cell_type": "code",
   "execution_count": 326,
   "id": "sexual-start",
   "metadata": {},
   "outputs": [
    {
     "data": {
      "text/html": [
       "<div>\n",
       "<style scoped>\n",
       "    .dataframe tbody tr th:only-of-type {\n",
       "        vertical-align: middle;\n",
       "    }\n",
       "\n",
       "    .dataframe tbody tr th {\n",
       "        vertical-align: top;\n",
       "    }\n",
       "\n",
       "    .dataframe thead th {\n",
       "        text-align: right;\n",
       "    }\n",
       "</style>\n",
       "<table border=\"1\" class=\"dataframe\">\n",
       "  <thead>\n",
       "    <tr style=\"text-align: right;\">\n",
       "      <th></th>\n",
       "      <th>make</th>\n",
       "      <th>model</th>\n",
       "      <th>year</th>\n",
       "      <th>displ</th>\n",
       "      <th>cylinders</th>\n",
       "      <th>trany</th>\n",
       "      <th>drive</th>\n",
       "      <th>VClass</th>\n",
       "      <th>fuelType</th>\n",
       "      <th>comb08</th>\n",
       "      <th>co2TailpipeGpm</th>\n",
       "    </tr>\n",
       "  </thead>\n",
       "  <tbody>\n",
       "    <tr>\n",
       "      <th>0</th>\n",
       "      <td>AM General</td>\n",
       "      <td>DJ Po Vehicle 2WD</td>\n",
       "      <td>1984</td>\n",
       "      <td>2.5</td>\n",
       "      <td>4.0</td>\n",
       "      <td>Automatic</td>\n",
       "      <td>two</td>\n",
       "      <td>Special Vehicles</td>\n",
       "      <td>Normal</td>\n",
       "      <td>17</td>\n",
       "      <td>522.764706</td>\n",
       "    </tr>\n",
       "    <tr>\n",
       "      <th>1</th>\n",
       "      <td>AM General</td>\n",
       "      <td>FJ8c Post Office</td>\n",
       "      <td>1984</td>\n",
       "      <td>4.2</td>\n",
       "      <td>6.0</td>\n",
       "      <td>Automatic</td>\n",
       "      <td>two</td>\n",
       "      <td>Special Vehicles</td>\n",
       "      <td>Normal</td>\n",
       "      <td>13</td>\n",
       "      <td>683.615385</td>\n",
       "    </tr>\n",
       "    <tr>\n",
       "      <th>2</th>\n",
       "      <td>AM General</td>\n",
       "      <td>Post Office DJ5 2WD</td>\n",
       "      <td>1985</td>\n",
       "      <td>2.5</td>\n",
       "      <td>4.0</td>\n",
       "      <td>Automatic</td>\n",
       "      <td>two</td>\n",
       "      <td>Special Vehicles</td>\n",
       "      <td>Normal</td>\n",
       "      <td>16</td>\n",
       "      <td>555.437500</td>\n",
       "    </tr>\n",
       "    <tr>\n",
       "      <th>3</th>\n",
       "      <td>AM General</td>\n",
       "      <td>Post Office DJ8 2WD</td>\n",
       "      <td>1985</td>\n",
       "      <td>4.2</td>\n",
       "      <td>6.0</td>\n",
       "      <td>Automatic</td>\n",
       "      <td>two</td>\n",
       "      <td>Special Vehicles</td>\n",
       "      <td>Normal</td>\n",
       "      <td>13</td>\n",
       "      <td>683.615385</td>\n",
       "    </tr>\n",
       "    <tr>\n",
       "      <th>4</th>\n",
       "      <td>ASC Incorporated</td>\n",
       "      <td>GNX</td>\n",
       "      <td>1987</td>\n",
       "      <td>3.8</td>\n",
       "      <td>6.0</td>\n",
       "      <td>Automatic</td>\n",
       "      <td>two</td>\n",
       "      <td>Medium Cars</td>\n",
       "      <td>Premium</td>\n",
       "      <td>16</td>\n",
       "      <td>555.437500</td>\n",
       "    </tr>\n",
       "  </tbody>\n",
       "</table>\n",
       "</div>"
      ],
      "text/plain": [
       "               make                model  year  displ  cylinders      trany  \\\n",
       "0        AM General    DJ Po Vehicle 2WD  1984    2.5        4.0  Automatic   \n",
       "1        AM General     FJ8c Post Office  1984    4.2        6.0  Automatic   \n",
       "2        AM General  Post Office DJ5 2WD  1985    2.5        4.0  Automatic   \n",
       "3        AM General  Post Office DJ8 2WD  1985    4.2        6.0  Automatic   \n",
       "4  ASC Incorporated                  GNX  1987    3.8        6.0  Automatic   \n",
       "\n",
       "  drive            VClass fuelType  comb08  co2TailpipeGpm  \n",
       "0   two  Special Vehicles   Normal      17      522.764706  \n",
       "1   two  Special Vehicles   Normal      13      683.615385  \n",
       "2   two  Special Vehicles   Normal      16      555.437500  \n",
       "3   two  Special Vehicles   Normal      13      683.615385  \n",
       "4   two       Medium Cars  Premium      16      555.437500  "
      ]
     },
     "execution_count": 326,
     "metadata": {},
     "output_type": "execute_result"
    }
   ],
   "source": [
    "vehicles.head()"
   ]
  },
  {
   "cell_type": "code",
   "execution_count": 327,
   "id": "solved-orchestra",
   "metadata": {},
   "outputs": [
    {
     "data": {
      "text/plain": [
       "Normal             24100\n",
       "Premium            10378\n",
       "Gasoline or E85     1215\n",
       "Others              1098\n",
       "Hybrid               139\n",
       "Name: fuelType, dtype: int64"
      ]
     },
     "execution_count": 327,
     "metadata": {},
     "output_type": "execute_result"
    }
   ],
   "source": [
    "vehicles.fuelType.value_counts()"
   ]
  },
  {
   "cell_type": "code",
   "execution_count": 328,
   "id": "boolean-terrorist",
   "metadata": {},
   "outputs": [
    {
     "data": {
      "text/html": [
       "<div>\n",
       "<style scoped>\n",
       "    .dataframe tbody tr th:only-of-type {\n",
       "        vertical-align: middle;\n",
       "    }\n",
       "\n",
       "    .dataframe tbody tr th {\n",
       "        vertical-align: top;\n",
       "    }\n",
       "\n",
       "    .dataframe thead th {\n",
       "        text-align: right;\n",
       "    }\n",
       "</style>\n",
       "<table border=\"1\" class=\"dataframe\">\n",
       "  <thead>\n",
       "    <tr style=\"text-align: right;\">\n",
       "      <th></th>\n",
       "      <th>make</th>\n",
       "      <th>model</th>\n",
       "      <th>year</th>\n",
       "      <th>displ</th>\n",
       "      <th>cylinders</th>\n",
       "      <th>trany</th>\n",
       "      <th>drive</th>\n",
       "      <th>VClass</th>\n",
       "      <th>fuelType</th>\n",
       "      <th>comb08</th>\n",
       "      <th>co2TailpipeGpm</th>\n",
       "    </tr>\n",
       "  </thead>\n",
       "  <tbody>\n",
       "    <tr>\n",
       "      <th>0</th>\n",
       "      <td>AM General</td>\n",
       "      <td>DJ Po Vehicle 2WD</td>\n",
       "      <td>1984</td>\n",
       "      <td>2.5</td>\n",
       "      <td>4.0</td>\n",
       "      <td>Automatic</td>\n",
       "      <td>two</td>\n",
       "      <td>Special Vehicles</td>\n",
       "      <td>Normal</td>\n",
       "      <td>17</td>\n",
       "      <td>522.764706</td>\n",
       "    </tr>\n",
       "    <tr>\n",
       "      <th>1</th>\n",
       "      <td>AM General</td>\n",
       "      <td>FJ8c Post Office</td>\n",
       "      <td>1984</td>\n",
       "      <td>4.2</td>\n",
       "      <td>6.0</td>\n",
       "      <td>Automatic</td>\n",
       "      <td>two</td>\n",
       "      <td>Special Vehicles</td>\n",
       "      <td>Normal</td>\n",
       "      <td>13</td>\n",
       "      <td>683.615385</td>\n",
       "    </tr>\n",
       "    <tr>\n",
       "      <th>2</th>\n",
       "      <td>AM General</td>\n",
       "      <td>Post Office DJ5 2WD</td>\n",
       "      <td>1985</td>\n",
       "      <td>2.5</td>\n",
       "      <td>4.0</td>\n",
       "      <td>Automatic</td>\n",
       "      <td>two</td>\n",
       "      <td>Special Vehicles</td>\n",
       "      <td>Normal</td>\n",
       "      <td>16</td>\n",
       "      <td>555.437500</td>\n",
       "    </tr>\n",
       "    <tr>\n",
       "      <th>3</th>\n",
       "      <td>AM General</td>\n",
       "      <td>Post Office DJ8 2WD</td>\n",
       "      <td>1985</td>\n",
       "      <td>4.2</td>\n",
       "      <td>6.0</td>\n",
       "      <td>Automatic</td>\n",
       "      <td>two</td>\n",
       "      <td>Special Vehicles</td>\n",
       "      <td>Normal</td>\n",
       "      <td>13</td>\n",
       "      <td>683.615385</td>\n",
       "    </tr>\n",
       "    <tr>\n",
       "      <th>4</th>\n",
       "      <td>ASC Incorporated</td>\n",
       "      <td>GNX</td>\n",
       "      <td>1987</td>\n",
       "      <td>3.8</td>\n",
       "      <td>6.0</td>\n",
       "      <td>Automatic</td>\n",
       "      <td>two</td>\n",
       "      <td>Medium Cars</td>\n",
       "      <td>Premium</td>\n",
       "      <td>16</td>\n",
       "      <td>555.437500</td>\n",
       "    </tr>\n",
       "  </tbody>\n",
       "</table>\n",
       "</div>"
      ],
      "text/plain": [
       "               make                model  year  displ  cylinders      trany  \\\n",
       "0        AM General    DJ Po Vehicle 2WD  1984    2.5        4.0  Automatic   \n",
       "1        AM General     FJ8c Post Office  1984    4.2        6.0  Automatic   \n",
       "2        AM General  Post Office DJ5 2WD  1985    2.5        4.0  Automatic   \n",
       "3        AM General  Post Office DJ8 2WD  1985    4.2        6.0  Automatic   \n",
       "4  ASC Incorporated                  GNX  1987    3.8        6.0  Automatic   \n",
       "\n",
       "  drive            VClass fuelType  comb08  co2TailpipeGpm  \n",
       "0   two  Special Vehicles   Normal      17      522.764706  \n",
       "1   two  Special Vehicles   Normal      13      683.615385  \n",
       "2   two  Special Vehicles   Normal      16      555.437500  \n",
       "3   two  Special Vehicles   Normal      13      683.615385  \n",
       "4   two       Medium Cars  Premium      16      555.437500  "
      ]
     },
     "execution_count": 328,
     "metadata": {},
     "output_type": "execute_result"
    }
   ],
   "source": [
    "vehicles.head()"
   ]
  },
  {
   "cell_type": "markdown",
   "id": "checked-yesterday",
   "metadata": {},
   "source": [
    "### Continuous variables clustering"
   ]
  },
  {
   "cell_type": "markdown",
   "id": "critical-minneapolis",
   "metadata": {},
   "source": [
    "A simple way to convert continuous variables is by using quintiles"
   ]
  },
  {
   "cell_type": "code",
   "execution_count": 329,
   "id": "satisfactory-natural",
   "metadata": {},
   "outputs": [],
   "source": [
    "types_motor_size = ['very small', 'small', 'medium', 'large', 'very large']\n",
    "\n",
    "vehicles['types_motor_size'] = pd.qcut(vehicles['displ'],\n",
    "                                     5, types_motor_size)"
   ]
  },
  {
   "cell_type": "code",
   "execution_count": 330,
   "id": "ignored-geneva",
   "metadata": {},
   "outputs": [],
   "source": [
    "types_consumption = ['very small', 'small', 'medium' , 'large', 'very large']\n",
    "\n",
    "vehicles['types_consumption'] = pd.qcut(vehicles['comb08'], \n",
    "                                       5, types_consumption)"
   ]
  },
  {
   "cell_type": "code",
   "execution_count": 331,
   "id": "processed-execution",
   "metadata": {},
   "outputs": [],
   "source": [
    "types_co2 = ['very small', 'small', 'medium' , 'large', 'very large']\n",
    "\n",
    "vehicles['co2_type'] = pd.qcut(vehicles['co2TailpipeGpm'],\n",
    "                              5, types_co2)"
   ]
  },
  {
   "cell_type": "code",
   "execution_count": 332,
   "id": "harmful-microwave",
   "metadata": {},
   "outputs": [
    {
     "data": {
      "text/html": [
       "<div>\n",
       "<style scoped>\n",
       "    .dataframe tbody tr th:only-of-type {\n",
       "        vertical-align: middle;\n",
       "    }\n",
       "\n",
       "    .dataframe tbody tr th {\n",
       "        vertical-align: top;\n",
       "    }\n",
       "\n",
       "    .dataframe thead th {\n",
       "        text-align: right;\n",
       "    }\n",
       "</style>\n",
       "<table border=\"1\" class=\"dataframe\">\n",
       "  <thead>\n",
       "    <tr style=\"text-align: right;\">\n",
       "      <th></th>\n",
       "      <th>make</th>\n",
       "      <th>model</th>\n",
       "      <th>year</th>\n",
       "      <th>displ</th>\n",
       "      <th>cylinders</th>\n",
       "      <th>trany</th>\n",
       "      <th>drive</th>\n",
       "      <th>VClass</th>\n",
       "      <th>fuelType</th>\n",
       "      <th>comb08</th>\n",
       "      <th>co2TailpipeGpm</th>\n",
       "      <th>types_motor_size</th>\n",
       "      <th>types_consumption</th>\n",
       "      <th>co2_type</th>\n",
       "    </tr>\n",
       "  </thead>\n",
       "  <tbody>\n",
       "    <tr>\n",
       "      <th>0</th>\n",
       "      <td>AM General</td>\n",
       "      <td>DJ Po Vehicle 2WD</td>\n",
       "      <td>1984</td>\n",
       "      <td>2.5</td>\n",
       "      <td>4.0</td>\n",
       "      <td>Automatic</td>\n",
       "      <td>two</td>\n",
       "      <td>Special Vehicles</td>\n",
       "      <td>Normal</td>\n",
       "      <td>17</td>\n",
       "      <td>522.764706</td>\n",
       "      <td>small</td>\n",
       "      <td>small</td>\n",
       "      <td>large</td>\n",
       "    </tr>\n",
       "    <tr>\n",
       "      <th>1</th>\n",
       "      <td>AM General</td>\n",
       "      <td>FJ8c Post Office</td>\n",
       "      <td>1984</td>\n",
       "      <td>4.2</td>\n",
       "      <td>6.0</td>\n",
       "      <td>Automatic</td>\n",
       "      <td>two</td>\n",
       "      <td>Special Vehicles</td>\n",
       "      <td>Normal</td>\n",
       "      <td>13</td>\n",
       "      <td>683.615385</td>\n",
       "      <td>large</td>\n",
       "      <td>very small</td>\n",
       "      <td>very large</td>\n",
       "    </tr>\n",
       "    <tr>\n",
       "      <th>2</th>\n",
       "      <td>AM General</td>\n",
       "      <td>Post Office DJ5 2WD</td>\n",
       "      <td>1985</td>\n",
       "      <td>2.5</td>\n",
       "      <td>4.0</td>\n",
       "      <td>Automatic</td>\n",
       "      <td>two</td>\n",
       "      <td>Special Vehicles</td>\n",
       "      <td>Normal</td>\n",
       "      <td>16</td>\n",
       "      <td>555.437500</td>\n",
       "      <td>small</td>\n",
       "      <td>very small</td>\n",
       "      <td>large</td>\n",
       "    </tr>\n",
       "    <tr>\n",
       "      <th>3</th>\n",
       "      <td>AM General</td>\n",
       "      <td>Post Office DJ8 2WD</td>\n",
       "      <td>1985</td>\n",
       "      <td>4.2</td>\n",
       "      <td>6.0</td>\n",
       "      <td>Automatic</td>\n",
       "      <td>two</td>\n",
       "      <td>Special Vehicles</td>\n",
       "      <td>Normal</td>\n",
       "      <td>13</td>\n",
       "      <td>683.615385</td>\n",
       "      <td>large</td>\n",
       "      <td>very small</td>\n",
       "      <td>very large</td>\n",
       "    </tr>\n",
       "    <tr>\n",
       "      <th>4</th>\n",
       "      <td>ASC Incorporated</td>\n",
       "      <td>GNX</td>\n",
       "      <td>1987</td>\n",
       "      <td>3.8</td>\n",
       "      <td>6.0</td>\n",
       "      <td>Automatic</td>\n",
       "      <td>two</td>\n",
       "      <td>Medium Cars</td>\n",
       "      <td>Premium</td>\n",
       "      <td>16</td>\n",
       "      <td>555.437500</td>\n",
       "      <td>large</td>\n",
       "      <td>very small</td>\n",
       "      <td>large</td>\n",
       "    </tr>\n",
       "  </tbody>\n",
       "</table>\n",
       "</div>"
      ],
      "text/plain": [
       "               make                model  year  displ  cylinders      trany  \\\n",
       "0        AM General    DJ Po Vehicle 2WD  1984    2.5        4.0  Automatic   \n",
       "1        AM General     FJ8c Post Office  1984    4.2        6.0  Automatic   \n",
       "2        AM General  Post Office DJ5 2WD  1985    2.5        4.0  Automatic   \n",
       "3        AM General  Post Office DJ8 2WD  1985    4.2        6.0  Automatic   \n",
       "4  ASC Incorporated                  GNX  1987    3.8        6.0  Automatic   \n",
       "\n",
       "  drive            VClass fuelType  comb08  co2TailpipeGpm types_motor_size  \\\n",
       "0   two  Special Vehicles   Normal      17      522.764706            small   \n",
       "1   two  Special Vehicles   Normal      13      683.615385            large   \n",
       "2   two  Special Vehicles   Normal      16      555.437500            small   \n",
       "3   two  Special Vehicles   Normal      13      683.615385            large   \n",
       "4   two       Medium Cars  Premium      16      555.437500            large   \n",
       "\n",
       "  types_consumption    co2_type  \n",
       "0             small       large  \n",
       "1        very small  very large  \n",
       "2        very small       large  \n",
       "3        very small  very large  \n",
       "4        very small       large  "
      ]
     },
     "execution_count": 332,
     "metadata": {},
     "output_type": "execute_result"
    }
   ],
   "source": [
    "vehicles.head()"
   ]
  },
  {
   "cell_type": "markdown",
   "id": "solved-intake",
   "metadata": {},
   "source": [
    "When checking the dataset, we noticed there is an error between the comb08 which stands for combined Miles per Galon and co2.\n",
    "Those cars which consume more fuel are, indeed, those that are going to emit more polution.\n",
    "So, we see how the variables relates with each other"
   ]
  },
  {
   "cell_type": "code",
   "execution_count": 333,
   "id": "military-harvest",
   "metadata": {},
   "outputs": [
    {
     "data": {
      "text/plain": [
       "<AxesSubplot:xlabel='comb08', ylabel='co2TailpipeGpm'>"
      ]
     },
     "execution_count": 333,
     "metadata": {},
     "output_type": "execute_result"
    },
    {
     "data": {
      "image/png": "[encoded data removed]",
      "text/plain": [
       "<Figure size 864x864 with 1 Axes>"
      ]
     },
     "metadata": {
      "needs_background": "light"
     },
     "output_type": "display_data"
    }
   ],
   "source": [
    "vehicles.plot.scatter(x=\"comb08\", y=\"co2TailpipeGpm\")"
   ]
  },
  {
   "cell_type": "markdown",
   "id": "daily-blanket",
   "metadata": {},
   "source": [
    "his inverse relation are explained on the documentation of the dataset. CO2 consumption is measured by grams per mile, while the consumption is measured by miles per galon.\n",
    "We need to invert the consumption to galons per mile.\n",
    "\n",
    "Besides, we are going to measure litres per galon.\n"
   ]
  },
  {
   "cell_type": "code",
   "execution_count": 334,
   "id": "protective-retention",
   "metadata": {},
   "outputs": [],
   "source": [
    "litres_per_galon = 3.78541\n",
    "vehicles['consumption_litres_mile'] = litres_per_galon / vehicles.comb08"
   ]
  },
  {
   "cell_type": "code",
   "execution_count": 335,
   "id": "appointed-development",
   "metadata": {},
   "outputs": [
    {
     "data": {
      "text/html": [
       "<div>\n",
       "<style scoped>\n",
       "    .dataframe tbody tr th:only-of-type {\n",
       "        vertical-align: middle;\n",
       "    }\n",
       "\n",
       "    .dataframe tbody tr th {\n",
       "        vertical-align: top;\n",
       "    }\n",
       "\n",
       "    .dataframe thead th {\n",
       "        text-align: right;\n",
       "    }\n",
       "</style>\n",
       "<table border=\"1\" class=\"dataframe\">\n",
       "  <thead>\n",
       "    <tr style=\"text-align: right;\">\n",
       "      <th></th>\n",
       "      <th>make</th>\n",
       "      <th>model</th>\n",
       "      <th>year</th>\n",
       "      <th>displ</th>\n",
       "      <th>cylinders</th>\n",
       "      <th>trany</th>\n",
       "      <th>drive</th>\n",
       "      <th>VClass</th>\n",
       "      <th>fuelType</th>\n",
       "      <th>comb08</th>\n",
       "      <th>co2TailpipeGpm</th>\n",
       "      <th>types_motor_size</th>\n",
       "      <th>types_consumption</th>\n",
       "      <th>co2_type</th>\n",
       "      <th>consumption_litres_mile</th>\n",
       "    </tr>\n",
       "  </thead>\n",
       "  <tbody>\n",
       "    <tr>\n",
       "      <th>0</th>\n",
       "      <td>AM General</td>\n",
       "      <td>DJ Po Vehicle 2WD</td>\n",
       "      <td>1984</td>\n",
       "      <td>2.5</td>\n",
       "      <td>4.0</td>\n",
       "      <td>Automatic</td>\n",
       "      <td>two</td>\n",
       "      <td>Special Vehicles</td>\n",
       "      <td>Normal</td>\n",
       "      <td>17</td>\n",
       "      <td>522.764706</td>\n",
       "      <td>small</td>\n",
       "      <td>small</td>\n",
       "      <td>large</td>\n",
       "      <td>0.222671</td>\n",
       "    </tr>\n",
       "    <tr>\n",
       "      <th>1</th>\n",
       "      <td>AM General</td>\n",
       "      <td>FJ8c Post Office</td>\n",
       "      <td>1984</td>\n",
       "      <td>4.2</td>\n",
       "      <td>6.0</td>\n",
       "      <td>Automatic</td>\n",
       "      <td>two</td>\n",
       "      <td>Special Vehicles</td>\n",
       "      <td>Normal</td>\n",
       "      <td>13</td>\n",
       "      <td>683.615385</td>\n",
       "      <td>large</td>\n",
       "      <td>very small</td>\n",
       "      <td>very large</td>\n",
       "      <td>0.291185</td>\n",
       "    </tr>\n",
       "    <tr>\n",
       "      <th>2</th>\n",
       "      <td>AM General</td>\n",
       "      <td>Post Office DJ5 2WD</td>\n",
       "      <td>1985</td>\n",
       "      <td>2.5</td>\n",
       "      <td>4.0</td>\n",
       "      <td>Automatic</td>\n",
       "      <td>two</td>\n",
       "      <td>Special Vehicles</td>\n",
       "      <td>Normal</td>\n",
       "      <td>16</td>\n",
       "      <td>555.437500</td>\n",
       "      <td>small</td>\n",
       "      <td>very small</td>\n",
       "      <td>large</td>\n",
       "      <td>0.236588</td>\n",
       "    </tr>\n",
       "    <tr>\n",
       "      <th>3</th>\n",
       "      <td>AM General</td>\n",
       "      <td>Post Office DJ8 2WD</td>\n",
       "      <td>1985</td>\n",
       "      <td>4.2</td>\n",
       "      <td>6.0</td>\n",
       "      <td>Automatic</td>\n",
       "      <td>two</td>\n",
       "      <td>Special Vehicles</td>\n",
       "      <td>Normal</td>\n",
       "      <td>13</td>\n",
       "      <td>683.615385</td>\n",
       "      <td>large</td>\n",
       "      <td>very small</td>\n",
       "      <td>very large</td>\n",
       "      <td>0.291185</td>\n",
       "    </tr>\n",
       "    <tr>\n",
       "      <th>4</th>\n",
       "      <td>ASC Incorporated</td>\n",
       "      <td>GNX</td>\n",
       "      <td>1987</td>\n",
       "      <td>3.8</td>\n",
       "      <td>6.0</td>\n",
       "      <td>Automatic</td>\n",
       "      <td>two</td>\n",
       "      <td>Medium Cars</td>\n",
       "      <td>Premium</td>\n",
       "      <td>16</td>\n",
       "      <td>555.437500</td>\n",
       "      <td>large</td>\n",
       "      <td>very small</td>\n",
       "      <td>large</td>\n",
       "      <td>0.236588</td>\n",
       "    </tr>\n",
       "  </tbody>\n",
       "</table>\n",
       "</div>"
      ],
      "text/plain": [
       "               make                model  year  displ  cylinders      trany  \\\n",
       "0        AM General    DJ Po Vehicle 2WD  1984    2.5        4.0  Automatic   \n",
       "1        AM General     FJ8c Post Office  1984    4.2        6.0  Automatic   \n",
       "2        AM General  Post Office DJ5 2WD  1985    2.5        4.0  Automatic   \n",
       "3        AM General  Post Office DJ8 2WD  1985    4.2        6.0  Automatic   \n",
       "4  ASC Incorporated                  GNX  1987    3.8        6.0  Automatic   \n",
       "\n",
       "  drive            VClass fuelType  comb08  co2TailpipeGpm types_motor_size  \\\n",
       "0   two  Special Vehicles   Normal      17      522.764706            small   \n",
       "1   two  Special Vehicles   Normal      13      683.615385            large   \n",
       "2   two  Special Vehicles   Normal      16      555.437500            small   \n",
       "3   two  Special Vehicles   Normal      13      683.615385            large   \n",
       "4   two       Medium Cars  Premium      16      555.437500            large   \n",
       "\n",
       "  types_consumption    co2_type  consumption_litres_mile  \n",
       "0             small       large                 0.222671  \n",
       "1        very small  very large                 0.291185  \n",
       "2        very small       large                 0.236588  \n",
       "3        very small  very large                 0.291185  \n",
       "4        very small       large                 0.236588  "
      ]
     },
     "execution_count": 335,
     "metadata": {},
     "output_type": "execute_result"
    }
   ],
   "source": [
    "vehicles.head()"
   ]
  },
  {
   "cell_type": "code",
   "execution_count": 337,
   "id": "optional-devices",
   "metadata": {},
   "outputs": [
    {
     "ename": "KeyError",
     "evalue": "'comsumption_litres_mile'",
     "output_type": "error",
     "traceback": [
      "\u001b[0;31m---------------------------------------------------------------------------\u001b[0m",
      "\u001b[0;31mKeyError\u001b[0m                                  Traceback (most recent call last)",
      "\u001b[0;32m/usr/local/Cellar/jupyterlab/3.0.12/libexec/lib/python3.9/site-packages/pandas/core/indexes/base.py\u001b[0m in \u001b[0;36mget_loc\u001b[0;34m(self, key, method, tolerance)\u001b[0m\n\u001b[1;32m   3079\u001b[0m             \u001b[0;32mtry\u001b[0m\u001b[0;34m:\u001b[0m\u001b[0;34m\u001b[0m\u001b[0;34m\u001b[0m\u001b[0m\n\u001b[0;32m-> 3080\u001b[0;31m                 \u001b[0;32mreturn\u001b[0m \u001b[0mself\u001b[0m\u001b[0;34m.\u001b[0m\u001b[0m_engine\u001b[0m\u001b[0;34m.\u001b[0m\u001b[0mget_loc\u001b[0m\u001b[0;34m(\u001b[0m\u001b[0mcasted_key\u001b[0m\u001b[0;34m)\u001b[0m\u001b[0;34m\u001b[0m\u001b[0;34m\u001b[0m\u001b[0m\n\u001b[0m\u001b[1;32m   3081\u001b[0m             \u001b[0;32mexcept\u001b[0m \u001b[0mKeyError\u001b[0m \u001b[0;32mas\u001b[0m \u001b[0merr\u001b[0m\u001b[0;34m:\u001b[0m\u001b[0;34m\u001b[0m\u001b[0;34m\u001b[0m\u001b[0m\n",
      "\u001b[0;32mpandas/_libs/index.pyx\u001b[0m in \u001b[0;36mpandas._libs.index.IndexEngine.get_loc\u001b[0;34m()\u001b[0m\n",
      "\u001b[0;32mpandas/_libs/index.pyx\u001b[0m in \u001b[0;36mpandas._libs.index.IndexEngine.get_loc\u001b[0;34m()\u001b[0m\n",
      "\u001b[0;32mpandas/_libs/hashtable_class_helper.pxi\u001b[0m in \u001b[0;36mpandas._libs.hashtable.PyObjectHashTable.get_item\u001b[0;34m()\u001b[0m\n",
      "\u001b[0;32mpandas/_libs/hashtable_class_helper.pxi\u001b[0m in \u001b[0;36mpandas._libs.hashtable.PyObjectHashTable.get_item\u001b[0;34m()\u001b[0m\n",
      "\u001b[0;31mKeyError\u001b[0m: 'comsumption_litres_mile'",
      "\nThe above exception was the direct cause of the following exception:\n",
      "\u001b[0;31mKeyError\u001b[0m                                  Traceback (most recent call last)",
      "\u001b[0;32m<ipython-input-337-4ad7d968e1d6>\u001b[0m in \u001b[0;36m<module>\u001b[0;34m\u001b[0m\n\u001b[0;32m----> 1\u001b[0;31m \u001b[0mvehicles\u001b[0m\u001b[0;34m.\u001b[0m\u001b[0mplot\u001b[0m\u001b[0;34m.\u001b[0m\u001b[0mscatter\u001b[0m\u001b[0;34m(\u001b[0m\u001b[0mx\u001b[0m\u001b[0;34m=\u001b[0m\u001b[0;34m\"comsumption_litres_mile\"\u001b[0m\u001b[0;34m,\u001b[0m \u001b[0my\u001b[0m\u001b[0;34m=\u001b[0m\u001b[0;34m\"co2TailpipeGpm\"\u001b[0m\u001b[0;34m)\u001b[0m\u001b[0;34m;\u001b[0m\u001b[0;34m\u001b[0m\u001b[0;34m\u001b[0m\u001b[0m\n\u001b[0m",
      "\u001b[0;32m/usr/local/Cellar/jupyterlab/3.0.12/libexec/lib/python3.9/site-packages/pandas/plotting/_core.py\u001b[0m in \u001b[0;36mscatter\u001b[0;34m(self, x, y, s, c, **kwargs)\u001b[0m\n\u001b[1;32m   1617\u001b[0m             ...                       colormap='viridis')\n\u001b[1;32m   1618\u001b[0m         \"\"\"\n\u001b[0;32m-> 1619\u001b[0;31m         \u001b[0;32mreturn\u001b[0m \u001b[0mself\u001b[0m\u001b[0;34m(\u001b[0m\u001b[0mkind\u001b[0m\u001b[0;34m=\u001b[0m\u001b[0;34m\"scatter\"\u001b[0m\u001b[0;34m,\u001b[0m \u001b[0mx\u001b[0m\u001b[0;34m=\u001b[0m\u001b[0mx\u001b[0m\u001b[0;34m,\u001b[0m \u001b[0my\u001b[0m\u001b[0;34m=\u001b[0m\u001b[0my\u001b[0m\u001b[0;34m,\u001b[0m \u001b[0ms\u001b[0m\u001b[0;34m=\u001b[0m\u001b[0ms\u001b[0m\u001b[0;34m,\u001b[0m \u001b[0mc\u001b[0m\u001b[0;34m=\u001b[0m\u001b[0mc\u001b[0m\u001b[0;34m,\u001b[0m \u001b[0;34m**\u001b[0m\u001b[0mkwargs\u001b[0m\u001b[0;34m)\u001b[0m\u001b[0;34m\u001b[0m\u001b[0;34m\u001b[0m\u001b[0m\n\u001b[0m\u001b[1;32m   1620\u001b[0m \u001b[0;34m\u001b[0m\u001b[0m\n\u001b[1;32m   1621\u001b[0m     \u001b[0;32mdef\u001b[0m \u001b[0mhexbin\u001b[0m\u001b[0;34m(\u001b[0m\u001b[0mself\u001b[0m\u001b[0;34m,\u001b[0m \u001b[0mx\u001b[0m\u001b[0;34m,\u001b[0m \u001b[0my\u001b[0m\u001b[0;34m,\u001b[0m \u001b[0mC\u001b[0m\u001b[0;34m=\u001b[0m\u001b[0;32mNone\u001b[0m\u001b[0;34m,\u001b[0m \u001b[0mreduce_C_function\u001b[0m\u001b[0;34m=\u001b[0m\u001b[0;32mNone\u001b[0m\u001b[0;34m,\u001b[0m \u001b[0mgridsize\u001b[0m\u001b[0;34m=\u001b[0m\u001b[0;32mNone\u001b[0m\u001b[0;34m,\u001b[0m \u001b[0;34m**\u001b[0m\u001b[0mkwargs\u001b[0m\u001b[0;34m)\u001b[0m\u001b[0;34m:\u001b[0m\u001b[0;34m\u001b[0m\u001b[0;34m\u001b[0m\u001b[0m\n",
      "\u001b[0;32m/usr/local/Cellar/jupyterlab/3.0.12/libexec/lib/python3.9/site-packages/pandas/plotting/_core.py\u001b[0m in \u001b[0;36m__call__\u001b[0;34m(self, *args, **kwargs)\u001b[0m\n\u001b[1;32m    898\u001b[0m         \u001b[0;32mif\u001b[0m \u001b[0mkind\u001b[0m \u001b[0;32min\u001b[0m \u001b[0mself\u001b[0m\u001b[0;34m.\u001b[0m\u001b[0m_dataframe_kinds\u001b[0m\u001b[0;34m:\u001b[0m\u001b[0;34m\u001b[0m\u001b[0;34m\u001b[0m\u001b[0m\n\u001b[1;32m    899\u001b[0m             \u001b[0;32mif\u001b[0m \u001b[0misinstance\u001b[0m\u001b[0;34m(\u001b[0m\u001b[0mdata\u001b[0m\u001b[0;34m,\u001b[0m \u001b[0mABCDataFrame\u001b[0m\u001b[0;34m)\u001b[0m\u001b[0;34m:\u001b[0m\u001b[0;34m\u001b[0m\u001b[0;34m\u001b[0m\u001b[0m\n\u001b[0;32m--> 900\u001b[0;31m                 \u001b[0;32mreturn\u001b[0m \u001b[0mplot_backend\u001b[0m\u001b[0;34m.\u001b[0m\u001b[0mplot\u001b[0m\u001b[0;34m(\u001b[0m\u001b[0mdata\u001b[0m\u001b[0;34m,\u001b[0m \u001b[0mx\u001b[0m\u001b[0;34m=\u001b[0m\u001b[0mx\u001b[0m\u001b[0;34m,\u001b[0m \u001b[0my\u001b[0m\u001b[0;34m=\u001b[0m\u001b[0my\u001b[0m\u001b[0;34m,\u001b[0m \u001b[0mkind\u001b[0m\u001b[0;34m=\u001b[0m\u001b[0mkind\u001b[0m\u001b[0;34m,\u001b[0m \u001b[0;34m**\u001b[0m\u001b[0mkwargs\u001b[0m\u001b[0;34m)\u001b[0m\u001b[0;34m\u001b[0m\u001b[0;34m\u001b[0m\u001b[0m\n\u001b[0m\u001b[1;32m    901\u001b[0m             \u001b[0;32melse\u001b[0m\u001b[0;34m:\u001b[0m\u001b[0;34m\u001b[0m\u001b[0;34m\u001b[0m\u001b[0m\n\u001b[1;32m    902\u001b[0m                 \u001b[0;32mraise\u001b[0m \u001b[0mValueError\u001b[0m\u001b[0;34m(\u001b[0m\u001b[0;34mf\"plot kind {kind} can only be used for data frames\"\u001b[0m\u001b[0;34m)\u001b[0m\u001b[0;34m\u001b[0m\u001b[0;34m\u001b[0m\u001b[0m\n",
      "\u001b[0;32m/usr/local/Cellar/jupyterlab/3.0.12/libexec/lib/python3.9/site-packages/pandas/plotting/_matplotlib/__init__.py\u001b[0m in \u001b[0;36mplot\u001b[0;34m(data, kind, **kwargs)\u001b[0m\n\u001b[1;32m     59\u001b[0m             \u001b[0mkwargs\u001b[0m\u001b[0;34m[\u001b[0m\u001b[0;34m\"ax\"\u001b[0m\u001b[0;34m]\u001b[0m \u001b[0;34m=\u001b[0m \u001b[0mgetattr\u001b[0m\u001b[0;34m(\u001b[0m\u001b[0max\u001b[0m\u001b[0;34m,\u001b[0m \u001b[0;34m\"left_ax\"\u001b[0m\u001b[0;34m,\u001b[0m \u001b[0max\u001b[0m\u001b[0;34m)\u001b[0m\u001b[0;34m\u001b[0m\u001b[0;34m\u001b[0m\u001b[0m\n\u001b[1;32m     60\u001b[0m     \u001b[0mplot_obj\u001b[0m \u001b[0;34m=\u001b[0m \u001b[0mPLOT_CLASSES\u001b[0m\u001b[0;34m[\u001b[0m\u001b[0mkind\u001b[0m\u001b[0;34m]\u001b[0m\u001b[0;34m(\u001b[0m\u001b[0mdata\u001b[0m\u001b[0;34m,\u001b[0m \u001b[0;34m**\u001b[0m\u001b[0mkwargs\u001b[0m\u001b[0;34m)\u001b[0m\u001b[0;34m\u001b[0m\u001b[0;34m\u001b[0m\u001b[0m\n\u001b[0;32m---> 61\u001b[0;31m     \u001b[0mplot_obj\u001b[0m\u001b[0;34m.\u001b[0m\u001b[0mgenerate\u001b[0m\u001b[0;34m(\u001b[0m\u001b[0;34m)\u001b[0m\u001b[0;34m\u001b[0m\u001b[0;34m\u001b[0m\u001b[0m\n\u001b[0m\u001b[1;32m     62\u001b[0m     \u001b[0mplot_obj\u001b[0m\u001b[0;34m.\u001b[0m\u001b[0mdraw\u001b[0m\u001b[0;34m(\u001b[0m\u001b[0;34m)\u001b[0m\u001b[0;34m\u001b[0m\u001b[0;34m\u001b[0m\u001b[0m\n\u001b[1;32m     63\u001b[0m     \u001b[0;32mreturn\u001b[0m \u001b[0mplot_obj\u001b[0m\u001b[0;34m.\u001b[0m\u001b[0mresult\u001b[0m\u001b[0;34m\u001b[0m\u001b[0;34m\u001b[0m\u001b[0m\n",
      "\u001b[0;32m/usr/local/Cellar/jupyterlab/3.0.12/libexec/lib/python3.9/site-packages/pandas/plotting/_matplotlib/core.py\u001b[0m in \u001b[0;36mgenerate\u001b[0;34m(self)\u001b[0m\n\u001b[1;32m    278\u001b[0m         \u001b[0mself\u001b[0m\u001b[0;34m.\u001b[0m\u001b[0m_compute_plot_data\u001b[0m\u001b[0;34m(\u001b[0m\u001b[0;34m)\u001b[0m\u001b[0;34m\u001b[0m\u001b[0;34m\u001b[0m\u001b[0m\n\u001b[1;32m    279\u001b[0m         \u001b[0mself\u001b[0m\u001b[0;34m.\u001b[0m\u001b[0m_setup_subplots\u001b[0m\u001b[0;34m(\u001b[0m\u001b[0;34m)\u001b[0m\u001b[0;34m\u001b[0m\u001b[0;34m\u001b[0m\u001b[0m\n\u001b[0;32m--> 280\u001b[0;31m         \u001b[0mself\u001b[0m\u001b[0;34m.\u001b[0m\u001b[0m_make_plot\u001b[0m\u001b[0;34m(\u001b[0m\u001b[0;34m)\u001b[0m\u001b[0;34m\u001b[0m\u001b[0;34m\u001b[0m\u001b[0m\n\u001b[0m\u001b[1;32m    281\u001b[0m         \u001b[0mself\u001b[0m\u001b[0;34m.\u001b[0m\u001b[0m_add_table\u001b[0m\u001b[0;34m(\u001b[0m\u001b[0;34m)\u001b[0m\u001b[0;34m\u001b[0m\u001b[0;34m\u001b[0m\u001b[0m\n\u001b[1;32m    282\u001b[0m         \u001b[0mself\u001b[0m\u001b[0;34m.\u001b[0m\u001b[0m_make_legend\u001b[0m\u001b[0;34m(\u001b[0m\u001b[0;34m)\u001b[0m\u001b[0;34m\u001b[0m\u001b[0;34m\u001b[0m\u001b[0m\n",
      "\u001b[0;32m/usr/local/Cellar/jupyterlab/3.0.12/libexec/lib/python3.9/site-packages/pandas/plotting/_matplotlib/core.py\u001b[0m in \u001b[0;36m_make_plot\u001b[0;34m(self)\u001b[0m\n\u001b[1;32m   1040\u001b[0m             \u001b[0mlabel\u001b[0m \u001b[0;34m=\u001b[0m \u001b[0;32mNone\u001b[0m\u001b[0;34m\u001b[0m\u001b[0;34m\u001b[0m\u001b[0m\n\u001b[1;32m   1041\u001b[0m         scatter = ax.scatter(\n\u001b[0;32m-> 1042\u001b[0;31m             \u001b[0mdata\u001b[0m\u001b[0;34m[\u001b[0m\u001b[0mx\u001b[0m\u001b[0;34m]\u001b[0m\u001b[0;34m.\u001b[0m\u001b[0mvalues\u001b[0m\u001b[0;34m,\u001b[0m\u001b[0;34m\u001b[0m\u001b[0;34m\u001b[0m\u001b[0m\n\u001b[0m\u001b[1;32m   1043\u001b[0m             \u001b[0mdata\u001b[0m\u001b[0;34m[\u001b[0m\u001b[0my\u001b[0m\u001b[0;34m]\u001b[0m\u001b[0;34m.\u001b[0m\u001b[0mvalues\u001b[0m\u001b[0;34m,\u001b[0m\u001b[0;34m\u001b[0m\u001b[0;34m\u001b[0m\u001b[0m\n\u001b[1;32m   1044\u001b[0m             \u001b[0mc\u001b[0m\u001b[0;34m=\u001b[0m\u001b[0mc_values\u001b[0m\u001b[0;34m,\u001b[0m\u001b[0;34m\u001b[0m\u001b[0;34m\u001b[0m\u001b[0m\n",
      "\u001b[0;32m/usr/local/Cellar/jupyterlab/3.0.12/libexec/lib/python3.9/site-packages/pandas/core/frame.py\u001b[0m in \u001b[0;36m__getitem__\u001b[0;34m(self, key)\u001b[0m\n\u001b[1;32m   3022\u001b[0m             \u001b[0;32mif\u001b[0m \u001b[0mself\u001b[0m\u001b[0;34m.\u001b[0m\u001b[0mcolumns\u001b[0m\u001b[0;34m.\u001b[0m\u001b[0mnlevels\u001b[0m \u001b[0;34m>\u001b[0m \u001b[0;36m1\u001b[0m\u001b[0;34m:\u001b[0m\u001b[0;34m\u001b[0m\u001b[0;34m\u001b[0m\u001b[0m\n\u001b[1;32m   3023\u001b[0m                 \u001b[0;32mreturn\u001b[0m \u001b[0mself\u001b[0m\u001b[0;34m.\u001b[0m\u001b[0m_getitem_multilevel\u001b[0m\u001b[0;34m(\u001b[0m\u001b[0mkey\u001b[0m\u001b[0;34m)\u001b[0m\u001b[0;34m\u001b[0m\u001b[0;34m\u001b[0m\u001b[0m\n\u001b[0;32m-> 3024\u001b[0;31m             \u001b[0mindexer\u001b[0m \u001b[0;34m=\u001b[0m \u001b[0mself\u001b[0m\u001b[0;34m.\u001b[0m\u001b[0mcolumns\u001b[0m\u001b[0;34m.\u001b[0m\u001b[0mget_loc\u001b[0m\u001b[0;34m(\u001b[0m\u001b[0mkey\u001b[0m\u001b[0;34m)\u001b[0m\u001b[0;34m\u001b[0m\u001b[0;34m\u001b[0m\u001b[0m\n\u001b[0m\u001b[1;32m   3025\u001b[0m             \u001b[0;32mif\u001b[0m \u001b[0mis_integer\u001b[0m\u001b[0;34m(\u001b[0m\u001b[0mindexer\u001b[0m\u001b[0;34m)\u001b[0m\u001b[0;34m:\u001b[0m\u001b[0;34m\u001b[0m\u001b[0;34m\u001b[0m\u001b[0m\n\u001b[1;32m   3026\u001b[0m                 \u001b[0mindexer\u001b[0m \u001b[0;34m=\u001b[0m \u001b[0;34m[\u001b[0m\u001b[0mindexer\u001b[0m\u001b[0;34m]\u001b[0m\u001b[0;34m\u001b[0m\u001b[0;34m\u001b[0m\u001b[0m\n",
      "\u001b[0;32m/usr/local/Cellar/jupyterlab/3.0.12/libexec/lib/python3.9/site-packages/pandas/core/indexes/base.py\u001b[0m in \u001b[0;36mget_loc\u001b[0;34m(self, key, method, tolerance)\u001b[0m\n\u001b[1;32m   3080\u001b[0m                 \u001b[0;32mreturn\u001b[0m \u001b[0mself\u001b[0m\u001b[0;34m.\u001b[0m\u001b[0m_engine\u001b[0m\u001b[0;34m.\u001b[0m\u001b[0mget_loc\u001b[0m\u001b[0;34m(\u001b[0m\u001b[0mcasted_key\u001b[0m\u001b[0;34m)\u001b[0m\u001b[0;34m\u001b[0m\u001b[0;34m\u001b[0m\u001b[0m\n\u001b[1;32m   3081\u001b[0m             \u001b[0;32mexcept\u001b[0m \u001b[0mKeyError\u001b[0m \u001b[0;32mas\u001b[0m \u001b[0merr\u001b[0m\u001b[0;34m:\u001b[0m\u001b[0;34m\u001b[0m\u001b[0;34m\u001b[0m\u001b[0m\n\u001b[0;32m-> 3082\u001b[0;31m                 \u001b[0;32mraise\u001b[0m \u001b[0mKeyError\u001b[0m\u001b[0;34m(\u001b[0m\u001b[0mkey\u001b[0m\u001b[0;34m)\u001b[0m \u001b[0;32mfrom\u001b[0m \u001b[0merr\u001b[0m\u001b[0;34m\u001b[0m\u001b[0;34m\u001b[0m\u001b[0m\n\u001b[0m\u001b[1;32m   3083\u001b[0m \u001b[0;34m\u001b[0m\u001b[0m\n\u001b[1;32m   3084\u001b[0m         \u001b[0;32mif\u001b[0m \u001b[0mtolerance\u001b[0m \u001b[0;32mis\u001b[0m \u001b[0;32mnot\u001b[0m \u001b[0;32mNone\u001b[0m\u001b[0;34m:\u001b[0m\u001b[0;34m\u001b[0m\u001b[0;34m\u001b[0m\u001b[0m\n",
      "\u001b[0;31mKeyError\u001b[0m: 'comsumption_litres_mile'"
     ]
    },
    {
     "data": {
      "image/png": "[encoded data removed]",
      "text/plain": [
       "<Figure size 864x864 with 1 Axes>"
      ]
     },
     "metadata": {
      "needs_background": "light"
     },
     "output_type": "display_data"
    }
   ],
   "source": [
    "vehicles.plot.scatter(x=\"comsumption_litres_mile\", y=\"co2TailpipeGpm\");"
   ]
  },
  {
   "cell_type": "code",
   "execution_count": 339,
   "id": "republican-moore",
   "metadata": {},
   "outputs": [
    {
     "data": {
      "text/plain": [
       "0         small\n",
       "1    very small\n",
       "2    very small\n",
       "3    very small\n",
       "4    very small\n",
       "Name: types_consumption, dtype: category\n",
       "Categories (5, object): ['very small' < 'small' < 'medium' < 'large' < 'very large']"
      ]
     },
     "execution_count": 339,
     "metadata": {},
     "output_type": "execute_result"
    }
   ],
   "source": [
    "types_consumption = ['very small', 'small', 'medium' , 'large', 'very large']\n",
    "vehicles['type_consumption'] = pd.qcut(vehicles['consumption_litres_mile'],\n",
    "                                      5, types_consumption)\n",
    "vehicles.types_consumption.head()"
   ]
  },
  {
   "cell_type": "code",
   "execution_count": 342,
   "id": "polished-jimmy",
   "metadata": {},
   "outputs": [
    {
     "data": {
      "text/html": [
       "<div>\n",
       "<style scoped>\n",
       "    .dataframe tbody tr th:only-of-type {\n",
       "        vertical-align: middle;\n",
       "    }\n",
       "\n",
       "    .dataframe tbody tr th {\n",
       "        vertical-align: top;\n",
       "    }\n",
       "\n",
       "    .dataframe thead th {\n",
       "        text-align: right;\n",
       "    }\n",
       "</style>\n",
       "<table border=\"1\" class=\"dataframe\">\n",
       "  <thead>\n",
       "    <tr style=\"text-align: right;\">\n",
       "      <th></th>\n",
       "      <th>make</th>\n",
       "      <th>model</th>\n",
       "      <th>year</th>\n",
       "      <th>displ</th>\n",
       "      <th>cylinders</th>\n",
       "      <th>trany</th>\n",
       "      <th>drive</th>\n",
       "      <th>VClass</th>\n",
       "      <th>fuelType</th>\n",
       "      <th>comb08</th>\n",
       "      <th>co2TailpipeGpm</th>\n",
       "      <th>types_motor_size</th>\n",
       "      <th>types_consumption</th>\n",
       "      <th>co2_type</th>\n",
       "      <th>consumption_litres_mile</th>\n",
       "      <th>type_consumption</th>\n",
       "    </tr>\n",
       "  </thead>\n",
       "  <tbody>\n",
       "    <tr>\n",
       "      <th>0</th>\n",
       "      <td>AM General</td>\n",
       "      <td>DJ Po Vehicle 2WD</td>\n",
       "      <td>1984</td>\n",
       "      <td>2.5</td>\n",
       "      <td>4.0</td>\n",
       "      <td>Automatic</td>\n",
       "      <td>two</td>\n",
       "      <td>Special Vehicles</td>\n",
       "      <td>Normal</td>\n",
       "      <td>17</td>\n",
       "      <td>522.764706</td>\n",
       "      <td>small</td>\n",
       "      <td>small</td>\n",
       "      <td>large</td>\n",
       "      <td>0.222671</td>\n",
       "      <td>large</td>\n",
       "    </tr>\n",
       "    <tr>\n",
       "      <th>1</th>\n",
       "      <td>AM General</td>\n",
       "      <td>FJ8c Post Office</td>\n",
       "      <td>1984</td>\n",
       "      <td>4.2</td>\n",
       "      <td>6.0</td>\n",
       "      <td>Automatic</td>\n",
       "      <td>two</td>\n",
       "      <td>Special Vehicles</td>\n",
       "      <td>Normal</td>\n",
       "      <td>13</td>\n",
       "      <td>683.615385</td>\n",
       "      <td>large</td>\n",
       "      <td>very small</td>\n",
       "      <td>very large</td>\n",
       "      <td>0.291185</td>\n",
       "      <td>very large</td>\n",
       "    </tr>\n",
       "    <tr>\n",
       "      <th>2</th>\n",
       "      <td>AM General</td>\n",
       "      <td>Post Office DJ5 2WD</td>\n",
       "      <td>1985</td>\n",
       "      <td>2.5</td>\n",
       "      <td>4.0</td>\n",
       "      <td>Automatic</td>\n",
       "      <td>two</td>\n",
       "      <td>Special Vehicles</td>\n",
       "      <td>Normal</td>\n",
       "      <td>16</td>\n",
       "      <td>555.437500</td>\n",
       "      <td>small</td>\n",
       "      <td>very small</td>\n",
       "      <td>large</td>\n",
       "      <td>0.236588</td>\n",
       "      <td>large</td>\n",
       "    </tr>\n",
       "    <tr>\n",
       "      <th>3</th>\n",
       "      <td>AM General</td>\n",
       "      <td>Post Office DJ8 2WD</td>\n",
       "      <td>1985</td>\n",
       "      <td>4.2</td>\n",
       "      <td>6.0</td>\n",
       "      <td>Automatic</td>\n",
       "      <td>two</td>\n",
       "      <td>Special Vehicles</td>\n",
       "      <td>Normal</td>\n",
       "      <td>13</td>\n",
       "      <td>683.615385</td>\n",
       "      <td>large</td>\n",
       "      <td>very small</td>\n",
       "      <td>very large</td>\n",
       "      <td>0.291185</td>\n",
       "      <td>very large</td>\n",
       "    </tr>\n",
       "    <tr>\n",
       "      <th>4</th>\n",
       "      <td>ASC Incorporated</td>\n",
       "      <td>GNX</td>\n",
       "      <td>1987</td>\n",
       "      <td>3.8</td>\n",
       "      <td>6.0</td>\n",
       "      <td>Automatic</td>\n",
       "      <td>two</td>\n",
       "      <td>Medium Cars</td>\n",
       "      <td>Premium</td>\n",
       "      <td>16</td>\n",
       "      <td>555.437500</td>\n",
       "      <td>large</td>\n",
       "      <td>very small</td>\n",
       "      <td>large</td>\n",
       "      <td>0.236588</td>\n",
       "      <td>large</td>\n",
       "    </tr>\n",
       "  </tbody>\n",
       "</table>\n",
       "</div>"
      ],
      "text/plain": [
       "               make                model  year  displ  cylinders      trany  \\\n",
       "0        AM General    DJ Po Vehicle 2WD  1984    2.5        4.0  Automatic   \n",
       "1        AM General     FJ8c Post Office  1984    4.2        6.0  Automatic   \n",
       "2        AM General  Post Office DJ5 2WD  1985    2.5        4.0  Automatic   \n",
       "3        AM General  Post Office DJ8 2WD  1985    4.2        6.0  Automatic   \n",
       "4  ASC Incorporated                  GNX  1987    3.8        6.0  Automatic   \n",
       "\n",
       "  drive            VClass fuelType  comb08  co2TailpipeGpm types_motor_size  \\\n",
       "0   two  Special Vehicles   Normal      17      522.764706            small   \n",
       "1   two  Special Vehicles   Normal      13      683.615385            large   \n",
       "2   two  Special Vehicles   Normal      16      555.437500            small   \n",
       "3   two  Special Vehicles   Normal      13      683.615385            large   \n",
       "4   two       Medium Cars  Premium      16      555.437500            large   \n",
       "\n",
       "  types_consumption    co2_type  consumption_litres_mile type_consumption  \n",
       "0             small       large                 0.222671            large  \n",
       "1        very small  very large                 0.291185       very large  \n",
       "2        very small       large                 0.236588            large  \n",
       "3        very small  very large                 0.291185       very large  \n",
       "4        very small       large                 0.236588            large  "
      ]
     },
     "execution_count": 342,
     "metadata": {},
     "output_type": "execute_result"
    }
   ],
   "source": [
    "vehicles.head()"
   ]
  },
  {
   "cell_type": "code",
   "execution_count": 343,
   "id": "abandoned-listening",
   "metadata": {},
   "outputs": [
    {
     "data": {
      "text/plain": [
       "make                         object\n",
       "model                        object\n",
       "year                          int64\n",
       "displ                       float64\n",
       "cylinders                   float64\n",
       "trany                        object\n",
       "drive                      category\n",
       "VClass                     category\n",
       "fuelType                     object\n",
       "comb08                        int64\n",
       "co2TailpipeGpm              float64\n",
       "types_motor_size           category\n",
       "types_consumption          category\n",
       "co2_type                   category\n",
       "consumption_litres_mile     float64\n",
       "type_consumption           category\n",
       "dtype: object"
      ]
     },
     "execution_count": 343,
     "metadata": {},
     "output_type": "execute_result"
    }
   ],
   "source": [
    "vehicles.dtypes"
   ]
  },
  {
   "cell_type": "markdown",
   "id": "alpine-setup",
   "metadata": {},
   "source": [
    "### Conclussion\n",
    "Consumption variable is defined by miles per galon and the CO2 is defined by grames per mile.\n",
    "Since the CO2 is the main variable of the dataset, we have created another variable called consumption_litres_mile in order to compare it with CO2"
   ]
  },
  {
   "cell_type": "markdown",
   "id": "adolescent-logan",
   "metadata": {},
   "source": [
    "### Exporting\n",
    "It is very common to save the datafile as CSV. The main problem arises using CSV is all data calculated or obtained over the dataframe will be lost.\n",
    "\n",
    "We shall instead, save the file on a Python native format to save dataframes in between steps, for the later saving of the final dataset as CSV file.\n",
    "\n",
    "The standard serialization of Python is Pyckle. From an user point of view, it will found the dataset the same way we found when closing Jupyter notebook and reopen it again. "
   ]
  },
  {
   "cell_type": "code",
   "execution_count": 344,
   "id": "related-tyler",
   "metadata": {},
   "outputs": [],
   "source": [
    "vehicles.to_pickle(\"../data/vehicles.3.clustered_variables.pkl\")"
   ]
  }
 ],
 "metadata": {
  "kernelspec": {
   "display_name": "Python 3",
   "language": "python",
   "name": "python3"
  },
  "language_info": {
   "codemirror_mode": {
    "name": "ipython",
    "version": 3
   },
   "file_extension": ".py",
   "mimetype": "text/x-python",
   "name": "python",
   "nbconvert_exporter": "python",
   "pygments_lexer": "ipython3",
   "version": "3.9.2"
  }
 },
 "nbformat": 4,
 "nbformat_minor": 5
}
