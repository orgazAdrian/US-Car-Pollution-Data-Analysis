{
 "cells": [
  {
   "cell_type": "code",
   "execution_count": 35,
   "id": "virgin-inclusion",
   "metadata": {},
   "outputs": [
    {
     "name": "stdout",
     "output_type": "stream",
     "text": [
      "The watermark extension is already loaded. To reload it, use:\n",
      "  %reload_ext watermark\n",
      "Last updated: 2021-04-19T19:24:30.460864+02:00\n",
      "\n",
      "Python implementation: CPython\n",
      "Python version       : 3.9.2\n",
      "IPython version      : 7.21.0\n",
      "\n",
      "Compiler    : Clang 12.0.0 (clang-1200.0.32.29)\n",
      "OS          : Darwin\n",
      "Release     : 20.3.0\n",
      "Machine     : x86_64\n",
      "Processor   : i386\n",
      "CPU cores   : 4\n",
      "Architecture: 64bit\n",
      "\n"
     ]
    }
   ],
   "source": [
    "%load_ext watermark\n",
    "%watermark"
   ]
  },
  {
   "cell_type": "code",
   "execution_count": 36,
   "id": "personalized-driving",
   "metadata": {},
   "outputs": [],
   "source": [
    "import pandas as pd"
   ]
  },
  {
   "cell_type": "code",
   "execution_count": 37,
   "id": "sonic-infrared",
   "metadata": {},
   "outputs": [
    {
     "name": "stdout",
     "output_type": "stream",
     "text": [
      "zsh:1: command not found: system.executable\r\n"
     ]
    }
   ],
   "source": [
    "import sys\n",
    "!{system.executable}"
   ]
  },
  {
   "cell_type": "code",
   "execution_count": 38,
   "id": "human-constraint",
   "metadata": {},
   "outputs": [],
   "source": [
    "%matplotlib inline\n",
    "import matplotlib.pyplot as plt\n",
    "\n",
    "plt.rcParams['figure.figsize'] = (12,12) #10 pulgadas de ancho y 10 de alto para todos los plots"
   ]
  },
  {
   "cell_type": "markdown",
   "id": "preliminary-render",
   "metadata": {},
   "source": [
    "### Data Reading"
   ]
  },
  {
   "cell_type": "code",
   "execution_count": 39,
   "id": "literary-bookmark",
   "metadata": {},
   "outputs": [],
   "source": [
    "vehicles = pd.read_csv(\"../data/vehicles.2.clean_analysis.csv\")"
   ]
  },
  {
   "cell_type": "code",
   "execution_count": 40,
   "id": "agreed-notification",
   "metadata": {},
   "outputs": [
    {
     "data": {
      "text/html": [
       "<div>\n",
       "<style scoped>\n",
       "    .dataframe tbody tr th:only-of-type {\n",
       "        vertical-align: middle;\n",
       "    }\n",
       "\n",
       "    .dataframe tbody tr th {\n",
       "        vertical-align: top;\n",
       "    }\n",
       "\n",
       "    .dataframe thead th {\n",
       "        text-align: right;\n",
       "    }\n",
       "</style>\n",
       "<table border=\"1\" class=\"dataframe\">\n",
       "  <thead>\n",
       "    <tr style=\"text-align: right;\">\n",
       "      <th></th>\n",
       "      <th>manufacturer</th>\n",
       "      <th>model</th>\n",
       "      <th>year</th>\n",
       "      <th>displ</th>\n",
       "      <th>cylinders</th>\n",
       "      <th>transmission</th>\n",
       "      <th>drive wheels</th>\n",
       "      <th>Class</th>\n",
       "      <th>fuelType</th>\n",
       "      <th>consumption</th>\n",
       "      <th>CO2 emissions</th>\n",
       "    </tr>\n",
       "  </thead>\n",
       "  <tbody>\n",
       "    <tr>\n",
       "      <th>0</th>\n",
       "      <td>AM General</td>\n",
       "      <td>DJ Po Vehicle 2WD</td>\n",
       "      <td>1984</td>\n",
       "      <td>2.5</td>\n",
       "      <td>4.0</td>\n",
       "      <td>Automatic 3-spd</td>\n",
       "      <td>2-Wheel Drive</td>\n",
       "      <td>Special Purpose Vehicle 2WD</td>\n",
       "      <td>Regular</td>\n",
       "      <td>17</td>\n",
       "      <td>522.764706</td>\n",
       "    </tr>\n",
       "    <tr>\n",
       "      <th>1</th>\n",
       "      <td>AM General</td>\n",
       "      <td>FJ8c Post Office</td>\n",
       "      <td>1984</td>\n",
       "      <td>4.2</td>\n",
       "      <td>6.0</td>\n",
       "      <td>Automatic 3-spd</td>\n",
       "      <td>2-Wheel Drive</td>\n",
       "      <td>Special Purpose Vehicle 2WD</td>\n",
       "      <td>Regular</td>\n",
       "      <td>13</td>\n",
       "      <td>683.615385</td>\n",
       "    </tr>\n",
       "    <tr>\n",
       "      <th>2</th>\n",
       "      <td>AM General</td>\n",
       "      <td>Post Office DJ5 2WD</td>\n",
       "      <td>1985</td>\n",
       "      <td>2.5</td>\n",
       "      <td>4.0</td>\n",
       "      <td>Automatic 3-spd</td>\n",
       "      <td>Rear-Wheel Drive</td>\n",
       "      <td>Special Purpose Vehicle 2WD</td>\n",
       "      <td>Regular</td>\n",
       "      <td>16</td>\n",
       "      <td>555.437500</td>\n",
       "    </tr>\n",
       "    <tr>\n",
       "      <th>3</th>\n",
       "      <td>AM General</td>\n",
       "      <td>Post Office DJ8 2WD</td>\n",
       "      <td>1985</td>\n",
       "      <td>4.2</td>\n",
       "      <td>6.0</td>\n",
       "      <td>Automatic 3-spd</td>\n",
       "      <td>Rear-Wheel Drive</td>\n",
       "      <td>Special Purpose Vehicle 2WD</td>\n",
       "      <td>Regular</td>\n",
       "      <td>13</td>\n",
       "      <td>683.615385</td>\n",
       "    </tr>\n",
       "    <tr>\n",
       "      <th>4</th>\n",
       "      <td>ASC Incorporated</td>\n",
       "      <td>GNX</td>\n",
       "      <td>1987</td>\n",
       "      <td>3.8</td>\n",
       "      <td>6.0</td>\n",
       "      <td>Automatic 4-spd</td>\n",
       "      <td>Rear-Wheel Drive</td>\n",
       "      <td>Midsize Cars</td>\n",
       "      <td>Premium</td>\n",
       "      <td>16</td>\n",
       "      <td>555.437500</td>\n",
       "    </tr>\n",
       "  </tbody>\n",
       "</table>\n",
       "</div>"
      ],
      "text/plain": [
       "       manufacturer                model  year  displ  cylinders  \\\n",
       "0        AM General    DJ Po Vehicle 2WD  1984    2.5        4.0   \n",
       "1        AM General     FJ8c Post Office  1984    4.2        6.0   \n",
       "2        AM General  Post Office DJ5 2WD  1985    2.5        4.0   \n",
       "3        AM General  Post Office DJ8 2WD  1985    4.2        6.0   \n",
       "4  ASC Incorporated                  GNX  1987    3.8        6.0   \n",
       "\n",
       "      transmission      drive wheels                        Class fuelType  \\\n",
       "0  Automatic 3-spd     2-Wheel Drive  Special Purpose Vehicle 2WD  Regular   \n",
       "1  Automatic 3-spd     2-Wheel Drive  Special Purpose Vehicle 2WD  Regular   \n",
       "2  Automatic 3-spd  Rear-Wheel Drive  Special Purpose Vehicle 2WD  Regular   \n",
       "3  Automatic 3-spd  Rear-Wheel Drive  Special Purpose Vehicle 2WD  Regular   \n",
       "4  Automatic 4-spd  Rear-Wheel Drive                 Midsize Cars  Premium   \n",
       "\n",
       "   consumption  CO2 emissions  \n",
       "0           17     522.764706  \n",
       "1           13     683.615385  \n",
       "2           16     555.437500  \n",
       "3           13     683.615385  \n",
       "4           16     555.437500  "
      ]
     },
     "execution_count": 40,
     "metadata": {},
     "output_type": "execute_result"
    }
   ],
   "source": [
    "vehicles.head()"
   ]
  },
  {
   "cell_type": "markdown",
   "id": "analyzed-testing",
   "metadata": {},
   "source": [
    "In this case, we are going to group those variables which can be gathered into more generic groups. This will help us to analyze the dataset by clusters instead individual elements. \n",
    "\n",
    "To perform this step, we can see the number of different values each categorial variable may have. "
   ]
  },
  {
   "cell_type": "code",
   "execution_count": 41,
   "id": "anticipated-cursor",
   "metadata": {},
   "outputs": [
    {
     "name": "stdout",
     "output_type": "stream",
     "text": [
      "manufacturer | 133 | object\n",
      "model | 3791 | object\n",
      "year | 35 | int64\n",
      "displ | 67 | float64\n",
      "cylinders | 10 | float64\n",
      "transmission | 38 | object\n",
      "drive wheels | 8 | object\n",
      "Class | 34 | object\n",
      "fuelType | 14 | object\n",
      "consumption | 84 | int64\n",
      "CO2 emissions | 597 | float64\n"
     ]
    }
   ],
   "source": [
    "def unique_col_values(df):\n",
    "    for column in df:\n",
    "        print(\"{} | {} | {}\".format(\n",
    "            df[column].name, len(df[column].unique()), df[column].dtype\n",
    "        ))\n",
    "unique_col_values(vehicles)"
   ]
  },
  {
   "cell_type": "markdown",
   "id": "ruled-navigator",
   "metadata": {},
   "source": [
    "### Categorical variables clustering"
   ]
  },
  {
   "cell_type": "markdown",
   "id": "infinite-honduras",
   "metadata": {},
   "source": [
    "#### Model car"
   ]
  },
  {
   "cell_type": "code",
   "execution_count": 43,
   "id": "dense-auckland",
   "metadata": {},
   "outputs": [
    {
     "data": {
      "text/plain": [
       "array(['Special Purpose Vehicle 2WD', 'Midsize Cars', 'Subcompact Cars',\n",
       "       'Compact Cars', 'Sport Utility Vehicle - 4WD',\n",
       "       'Small Sport Utility Vehicle 2WD',\n",
       "       'Small Sport Utility Vehicle 4WD', 'Two Seaters',\n",
       "       'Sport Utility Vehicle - 2WD', 'Special Purpose Vehicles',\n",
       "       'Special Purpose Vehicle 4WD', 'Small Station Wagons',\n",
       "       'Minicompact Cars', 'Midsize-Large Station Wagons',\n",
       "       'Midsize Station Wagons', 'Large Cars',\n",
       "       'Standard Sport Utility Vehicle 4WD',\n",
       "       'Standard Sport Utility Vehicle 2WD', 'Minivan - 4WD',\n",
       "       'Minivan - 2WD', 'Vans', 'Vans, Cargo Type',\n",
       "       'Vans, Passenger Type', 'Standard Pickup Trucks 2WD',\n",
       "       'Standard Pickup Trucks', 'Standard Pickup Trucks/2wd',\n",
       "       'Small Pickup Trucks 2WD', 'Standard Pickup Trucks 4WD',\n",
       "       'Small Pickup Trucks 4WD', 'Small Pickup Trucks', 'Vans Passenger',\n",
       "       'Special Purpose Vehicle', 'Special Purpose Vehicles/2wd',\n",
       "       'Special Purpose Vehicles/4wd'], dtype=object)"
      ]
     },
     "execution_count": 43,
     "metadata": {},
     "output_type": "execute_result"
    }
   ],
   "source": [
    "vehicles.Class.unique()"
   ]
  },
  {
   "cell_type": "code",
   "execution_count": 45,
   "id": "distant-handle",
   "metadata": {},
   "outputs": [],
   "source": [
    "small = ['Compact Cars', 'Subcompact Cars', 'Two Seaters', 'Minicompact Cars']\n",
    "medium = ['Midsize Cars']\n",
    "large = ['Large Cars']\n",
    "\n",
    "vehicles.loc[vehicles['Class'].isin(small),\n",
    "            'Class'] = 'Small Cars'\n",
    "\n",
    "vehicles.loc[vehicles['Class'].isin(medium),\n",
    "            'Class'] = 'Medium Cars'\n",
    "\n",
    "vehicles.loc[vehicles['Class'].isin(large),\n",
    "            'Class'] = 'Large Cars'\n",
    "\n",
    "vehicles.loc[vehicles['Class'].str.contains('Truck'),\n",
    "            'Class'] = 'Trucks'\n",
    "\n",
    "vehicles.loc[vehicles['Class'].str.contains('Special Purpose'),\n",
    "            'Class'] = 'Special Vehicles'\n",
    "\n",
    "vehicles.loc[vehicles['Class'].str.contains('Sports'),\n",
    "            'Class'] = 'Sport Car'\n",
    "\n",
    "vehicles.loc[vehicles['Class'].str.contains('Station'), \n",
    "            'Class'] = 'Station'\n",
    "\n",
    "vehicles.loc[(vehicles['Class'].str.lower().str.contains('van')),\n",
    "            'Class'] = 'Van'"
   ]
  },
  {
   "cell_type": "code",
   "execution_count": 47,
   "id": "conditional-ordinance",
   "metadata": {},
   "outputs": [],
   "source": [
    "vehicles.Class = vehicles.Class.astype(\"category\")"
   ]
  },
  {
   "cell_type": "code",
   "execution_count": 48,
   "id": "dated-active",
   "metadata": {
    "scrolled": true
   },
   "outputs": [
    {
     "data": {
      "text/plain": [
       "Small Cars                            13055\n",
       "Trucks                                 5446\n",
       "Medium Cars                            4274\n",
       "Station                                2540\n",
       "Special Vehicles                       2216\n",
       "Van                                    2213\n",
       "Sport Utility Vehicle - 4WD            2074\n",
       "Large Cars                             1873\n",
       "Sport Utility Vehicle - 2WD            1621\n",
       "Small Sport Utility Vehicle 4WD         564\n",
       "Standard Sport Utility Vehicle 4WD      445\n",
       "Small Sport Utility Vehicle 2WD         424\n",
       "Standard Sport Utility Vehicle 2WD      185\n",
       "Name: Class, dtype: int64"
      ]
     },
     "execution_count": 48,
     "metadata": {},
     "output_type": "execute_result"
    }
   ],
   "source": [
    "vehicles.Class.value_counts()"
   ]
  },
  {
   "cell_type": "markdown",
   "id": "immune-jason",
   "metadata": {},
   "source": [
    "### Trany type"
   ]
  },
  {
   "cell_type": "code",
   "execution_count": 50,
   "id": "demographic-point",
   "metadata": {},
   "outputs": [
    {
     "data": {
      "text/plain": [
       "array(['2-Wheel Drive', 'Rear-Wheel Drive', 'Front-Wheel Drive',\n",
       "       '4-Wheel or All-Wheel Drive', 'All-Wheel Drive', nan,\n",
       "       '4-Wheel Drive', 'Part-time 4-Wheel Drive'], dtype=object)"
      ]
     },
     "execution_count": 50,
     "metadata": {},
     "output_type": "execute_result"
    }
   ],
   "source": [
    "vehicles['drive wheels'].unique()"
   ]
  },
  {
   "cell_type": "code",
   "execution_count": 51,
   "id": "requested-consultation",
   "metadata": {},
   "outputs": [],
   "source": [
    "vehicles[\"drive\"] = \"two\"\n",
    "vehicles[\"drive\"][vehicles.drive.isin([\n",
    "    \"4-Wheel or All-Wheel Drive\", \"All-Wheel Drive\",\n",
    "       \"4-Wheel Drive\", \"Part-time 4-Wheel Drive\"\n",
    "])] = \"four\""
   ]
  },
  {
   "cell_type": "markdown",
   "id": "hispanic-encounter",
   "metadata": {},
   "source": [
    "This warning is communicating to us we are alterating a copy of vehicles (vehicles_year), not vehicles.\n",
    "To undo it:"
   ]
  },
  {
   "cell_type": "code",
   "execution_count": 52,
   "id": "preliminary-logan",
   "metadata": {},
   "outputs": [],
   "source": [
    "pd.set_option('chained_assignment', None)"
   ]
  },
  {
   "cell_type": "markdown",
   "id": "pleasant-cooper",
   "metadata": {},
   "source": [
    "Or simply use loc to asign values on pandas"
   ]
  },
  {
   "cell_type": "code",
   "execution_count": 53,
   "id": "painful-breed",
   "metadata": {},
   "outputs": [],
   "source": [
    "vehicles[\"drive\"] = \"two\"\n",
    "vehicles.loc[vehicles.drive.isin([\n",
    "    \"4-Wheel or All-Wheel Drive\", \"All-Wheel Drive\",\n",
    "       \"4-Wheel Drive\", \"Part-time 4-Wheel Drive\"\n",
    "]), \"drive\"] = \"four\""
   ]
  },
  {
   "cell_type": "code",
   "execution_count": 54,
   "id": "prepared-horizon",
   "metadata": {},
   "outputs": [],
   "source": [
    "vehicles.drive = vehicles.drive.astype(\"category\")"
   ]
  },
  {
   "cell_type": "markdown",
   "id": "anticipated-annex",
   "metadata": {},
   "source": [
    "### Transmission"
   ]
  },
  {
   "cell_type": "code",
   "execution_count": 55,
   "id": "passive-fruit",
   "metadata": {},
   "outputs": [
    {
     "data": {
      "text/plain": [
       "array(['Automatic 3-spd', 'Automatic 4-spd', 'Manual 5-spd',\n",
       "       'Automatic (S5)', 'Manual 6-spd', 'Automatic 5-spd',\n",
       "       'Automatic (AM8)', 'Automatic (AM-S8)', 'Automatic (AV-S7)',\n",
       "       'Automatic (S6)', 'Automatic (S9)', 'Automatic (AM-S7)',\n",
       "       'Automatic (S4)', 'Automatic (AM-S9)', 'Automatic (S7)',\n",
       "       'Automatic (AM7)', 'Automatic (AM6)', 'Automatic 6-spd',\n",
       "       'Automatic 8-spd', 'Manual 4-spd', 'Automatic (S8)',\n",
       "       'Manual 7-spd', 'Automatic (AM-S6)', 'Auto(AM-S6)',\n",
       "       'Automatic (variable gear ratios)', 'Automatic (AV-S8)',\n",
       "       'Automatic (A1)', 'Automatic (AV-S6)', 'Manual 3-spd',\n",
       "       'Automatic (S10)', 'Automatic 9-spd', 'Manual 4-spd Doubled', nan,\n",
       "       'Automatic (L4)', 'Automatic (L3)', 'Automatic (AV-S10)',\n",
       "       'Automatic 7-spd', 'Automatic (AM5)'], dtype=object)"
      ]
     },
     "execution_count": 55,
     "metadata": {},
     "output_type": "execute_result"
    }
   ],
   "source": [
    "vehicles.transmission.unique()"
   ]
  },
  {
   "cell_type": "markdown",
   "id": "square-stretch",
   "metadata": {},
   "source": [
    "We see that transmissions can be categorized by manual or automatic"
   ]
  },
  {
   "cell_type": "code",
   "execution_count": 56,
   "id": "extra-proof",
   "metadata": {},
   "outputs": [],
   "source": [
    "vehicles['transmission'] = \"Automatic\"\n",
    "\n",
    "vehicles.loc[vehicles['transmission'].str.startswith('M'),\n",
    "            'transmission'] = \"Manual\""
   ]
  },
  {
   "cell_type": "markdown",
   "id": "effective-twins",
   "metadata": {},
   "source": [
    "In case of an error, we shall check whether exist null values on the category"
   ]
  },
  {
   "cell_type": "code",
   "execution_count": 57,
   "id": "comic-blackjack",
   "metadata": {
    "scrolled": true
   },
   "outputs": [
    {
     "data": {
      "text/html": [
       "<div>\n",
       "<style scoped>\n",
       "    .dataframe tbody tr th:only-of-type {\n",
       "        vertical-align: middle;\n",
       "    }\n",
       "\n",
       "    .dataframe tbody tr th {\n",
       "        vertical-align: top;\n",
       "    }\n",
       "\n",
       "    .dataframe thead th {\n",
       "        text-align: right;\n",
       "    }\n",
       "</style>\n",
       "<table border=\"1\" class=\"dataframe\">\n",
       "  <thead>\n",
       "    <tr style=\"text-align: right;\">\n",
       "      <th></th>\n",
       "      <th>manufacturer</th>\n",
       "      <th>model</th>\n",
       "      <th>year</th>\n",
       "      <th>displ</th>\n",
       "      <th>cylinders</th>\n",
       "      <th>transmission</th>\n",
       "      <th>drive wheels</th>\n",
       "      <th>Class</th>\n",
       "      <th>fuelType</th>\n",
       "      <th>consumption</th>\n",
       "      <th>CO2 emissions</th>\n",
       "      <th>drive</th>\n",
       "    </tr>\n",
       "  </thead>\n",
       "  <tbody>\n",
       "  </tbody>\n",
       "</table>\n",
       "</div>"
      ],
      "text/plain": [
       "Empty DataFrame\n",
       "Columns: [manufacturer, model, year, displ, cylinders, transmission, drive wheels, Class, fuelType, consumption, CO2 emissions, drive]\n",
       "Index: []"
      ]
     },
     "execution_count": 57,
     "metadata": {},
     "output_type": "execute_result"
    }
   ],
   "source": [
    "vehicles[vehicles['transmission'].isnull()]"
   ]
  },
  {
   "cell_type": "code",
   "execution_count": 58,
   "id": "suspected-pointer",
   "metadata": {},
   "outputs": [
    {
     "data": {
      "text/html": [
       "<div>\n",
       "<style scoped>\n",
       "    .dataframe tbody tr th:only-of-type {\n",
       "        vertical-align: middle;\n",
       "    }\n",
       "\n",
       "    .dataframe tbody tr th {\n",
       "        vertical-align: top;\n",
       "    }\n",
       "\n",
       "    .dataframe thead th {\n",
       "        text-align: right;\n",
       "    }\n",
       "</style>\n",
       "<table border=\"1\" class=\"dataframe\">\n",
       "  <thead>\n",
       "    <tr style=\"text-align: right;\">\n",
       "      <th></th>\n",
       "      <th>manufacturer</th>\n",
       "      <th>model</th>\n",
       "      <th>year</th>\n",
       "      <th>displ</th>\n",
       "      <th>cylinders</th>\n",
       "      <th>transmission</th>\n",
       "      <th>drive wheels</th>\n",
       "      <th>Class</th>\n",
       "      <th>fuelType</th>\n",
       "      <th>consumption</th>\n",
       "      <th>CO2 emissions</th>\n",
       "      <th>drive</th>\n",
       "    </tr>\n",
       "  </thead>\n",
       "  <tbody>\n",
       "    <tr>\n",
       "      <th>0</th>\n",
       "      <td>AM General</td>\n",
       "      <td>DJ Po Vehicle 2WD</td>\n",
       "      <td>1984</td>\n",
       "      <td>2.5</td>\n",
       "      <td>4.0</td>\n",
       "      <td>Automatic</td>\n",
       "      <td>2-Wheel Drive</td>\n",
       "      <td>Special Vehicles</td>\n",
       "      <td>Regular</td>\n",
       "      <td>17</td>\n",
       "      <td>522.764706</td>\n",
       "      <td>two</td>\n",
       "    </tr>\n",
       "    <tr>\n",
       "      <th>1</th>\n",
       "      <td>AM General</td>\n",
       "      <td>FJ8c Post Office</td>\n",
       "      <td>1984</td>\n",
       "      <td>4.2</td>\n",
       "      <td>6.0</td>\n",
       "      <td>Automatic</td>\n",
       "      <td>2-Wheel Drive</td>\n",
       "      <td>Special Vehicles</td>\n",
       "      <td>Regular</td>\n",
       "      <td>13</td>\n",
       "      <td>683.615385</td>\n",
       "      <td>two</td>\n",
       "    </tr>\n",
       "    <tr>\n",
       "      <th>2</th>\n",
       "      <td>AM General</td>\n",
       "      <td>Post Office DJ5 2WD</td>\n",
       "      <td>1985</td>\n",
       "      <td>2.5</td>\n",
       "      <td>4.0</td>\n",
       "      <td>Automatic</td>\n",
       "      <td>Rear-Wheel Drive</td>\n",
       "      <td>Special Vehicles</td>\n",
       "      <td>Regular</td>\n",
       "      <td>16</td>\n",
       "      <td>555.437500</td>\n",
       "      <td>two</td>\n",
       "    </tr>\n",
       "    <tr>\n",
       "      <th>3</th>\n",
       "      <td>AM General</td>\n",
       "      <td>Post Office DJ8 2WD</td>\n",
       "      <td>1985</td>\n",
       "      <td>4.2</td>\n",
       "      <td>6.0</td>\n",
       "      <td>Automatic</td>\n",
       "      <td>Rear-Wheel Drive</td>\n",
       "      <td>Special Vehicles</td>\n",
       "      <td>Regular</td>\n",
       "      <td>13</td>\n",
       "      <td>683.615385</td>\n",
       "      <td>two</td>\n",
       "    </tr>\n",
       "    <tr>\n",
       "      <th>4</th>\n",
       "      <td>ASC Incorporated</td>\n",
       "      <td>GNX</td>\n",
       "      <td>1987</td>\n",
       "      <td>3.8</td>\n",
       "      <td>6.0</td>\n",
       "      <td>Automatic</td>\n",
       "      <td>Rear-Wheel Drive</td>\n",
       "      <td>Medium Cars</td>\n",
       "      <td>Premium</td>\n",
       "      <td>16</td>\n",
       "      <td>555.437500</td>\n",
       "      <td>two</td>\n",
       "    </tr>\n",
       "  </tbody>\n",
       "</table>\n",
       "</div>"
      ],
      "text/plain": [
       "       manufacturer                model  year  displ  cylinders transmission  \\\n",
       "0        AM General    DJ Po Vehicle 2WD  1984    2.5        4.0    Automatic   \n",
       "1        AM General     FJ8c Post Office  1984    4.2        6.0    Automatic   \n",
       "2        AM General  Post Office DJ5 2WD  1985    2.5        4.0    Automatic   \n",
       "3        AM General  Post Office DJ8 2WD  1985    4.2        6.0    Automatic   \n",
       "4  ASC Incorporated                  GNX  1987    3.8        6.0    Automatic   \n",
       "\n",
       "       drive wheels             Class fuelType  consumption  CO2 emissions  \\\n",
       "0     2-Wheel Drive  Special Vehicles  Regular           17     522.764706   \n",
       "1     2-Wheel Drive  Special Vehicles  Regular           13     683.615385   \n",
       "2  Rear-Wheel Drive  Special Vehicles  Regular           16     555.437500   \n",
       "3  Rear-Wheel Drive  Special Vehicles  Regular           13     683.615385   \n",
       "4  Rear-Wheel Drive       Medium Cars  Premium           16     555.437500   \n",
       "\n",
       "  drive  \n",
       "0   two  \n",
       "1   two  \n",
       "2   two  \n",
       "3   two  \n",
       "4   two  "
      ]
     },
     "execution_count": 58,
     "metadata": {},
     "output_type": "execute_result"
    }
   ],
   "source": [
    "vehicles.head()"
   ]
  },
  {
   "cell_type": "markdown",
   "id": "christian-doubt",
   "metadata": {},
   "source": [
    "### Fuel Type"
   ]
  },
  {
   "cell_type": "code",
   "execution_count": 59,
   "id": "harmful-bleeding",
   "metadata": {},
   "outputs": [
    {
     "data": {
      "text/plain": [
       "Regular                        24078\n",
       "Premium                        10206\n",
       "Gasoline or E85                 1215\n",
       "Diesel                           933\n",
       "Electricity                      139\n",
       "Premium or E85                   124\n",
       "Midgrade                          77\n",
       "CNG                               60\n",
       "Premium and Electricity           30\n",
       "Gasoline or natural gas           20\n",
       "Regular Gas and Electricity       20\n",
       "Premium Gas or Electricity        18\n",
       "Gasoline or propane                8\n",
       "Regular Gas or Electricity         2\n",
       "Name: fuelType, dtype: int64"
      ]
     },
     "execution_count": 59,
     "metadata": {},
     "output_type": "execute_result"
    }
   ],
   "source": [
    "vehicles.fuelType.value_counts()"
   ]
  },
  {
   "cell_type": "markdown",
   "id": "human-cartoon",
   "metadata": {},
   "source": [
    "As we see the distribution of cars by fuelType are concentrated. Thus, we will gather these categories and join them among those which are valid for our study: \"Polution\" "
   ]
  },
  {
   "cell_type": "code",
   "execution_count": 60,
   "id": "blocked-reach",
   "metadata": {},
   "outputs": [],
   "source": [
    "vehicles.loc[vehicles['fuelType'].str.contains('Regular'),\n",
    "            'fuelType'] = 'Normal'\n",
    "\n",
    "vehicles.loc[vehicles['fuelType'].str.contains('Premium'),\n",
    "            'fuelType'] = 'Premium'\n",
    "\n",
    "vehicles.loc[vehicles['fuelType'].str.contains('Electricity'),\n",
    "            'fuelType'] = 'Hybrid'"
   ]
  },
  {
   "cell_type": "code",
   "execution_count": 61,
   "id": "sensitive-connectivity",
   "metadata": {
    "scrolled": false
   },
   "outputs": [
    {
     "data": {
      "text/plain": [
       "Normal                     24100\n",
       "Premium                    10378\n",
       "Gasoline or E85             1215\n",
       "Diesel                       933\n",
       "Hybrid                       139\n",
       "Midgrade                      77\n",
       "CNG                           60\n",
       "Gasoline or natural gas       20\n",
       "Gasoline or propane            8\n",
       "Name: fuelType, dtype: int64"
      ]
     },
     "execution_count": 61,
     "metadata": {},
     "output_type": "execute_result"
    }
   ],
   "source": [
    "vehicles.fuelType.value_counts()"
   ]
  },
  {
   "cell_type": "code",
   "execution_count": 62,
   "id": "weighted-column",
   "metadata": {},
   "outputs": [],
   "source": [
    "vehicles.loc[vehicles['fuelType'].str.contains('Regular'),\n",
    "            'fuelType'] = 'Normal'\n",
    "\n",
    "vehicles.loc[vehicles['fuelType'].str.contains('Premium'),\n",
    "            'fuelType'] = 'Premium'\n",
    "\n",
    "vehicles.loc[vehicles['fuelType'].str.contains('Electricity'),\n",
    "            'fuelType'] = 'Hybrid'\n",
    "\n",
    "vehicles.loc[vehicles.fuelType.isin([\n",
    "    \"Diesel\", \"Midgrade\",\n",
    "    \"CNG\", \"Gasoline or natural gas\",\n",
    "    \"Gasoline or propane\"\n",
    "]),\"fuelType\" ] = \"Others\""
   ]
  },
  {
   "cell_type": "code",
   "execution_count": 63,
   "id": "moderate-minority",
   "metadata": {},
   "outputs": [
    {
     "data": {
      "text/html": [
       "<div>\n",
       "<style scoped>\n",
       "    .dataframe tbody tr th:only-of-type {\n",
       "        vertical-align: middle;\n",
       "    }\n",
       "\n",
       "    .dataframe tbody tr th {\n",
       "        vertical-align: top;\n",
       "    }\n",
       "\n",
       "    .dataframe thead th {\n",
       "        text-align: right;\n",
       "    }\n",
       "</style>\n",
       "<table border=\"1\" class=\"dataframe\">\n",
       "  <thead>\n",
       "    <tr style=\"text-align: right;\">\n",
       "      <th></th>\n",
       "      <th>manufacturer</th>\n",
       "      <th>model</th>\n",
       "      <th>year</th>\n",
       "      <th>displ</th>\n",
       "      <th>cylinders</th>\n",
       "      <th>transmission</th>\n",
       "      <th>drive wheels</th>\n",
       "      <th>Class</th>\n",
       "      <th>fuelType</th>\n",
       "      <th>consumption</th>\n",
       "      <th>CO2 emissions</th>\n",
       "      <th>drive</th>\n",
       "    </tr>\n",
       "  </thead>\n",
       "  <tbody>\n",
       "    <tr>\n",
       "      <th>0</th>\n",
       "      <td>AM General</td>\n",
       "      <td>DJ Po Vehicle 2WD</td>\n",
       "      <td>1984</td>\n",
       "      <td>2.5</td>\n",
       "      <td>4.0</td>\n",
       "      <td>Automatic</td>\n",
       "      <td>2-Wheel Drive</td>\n",
       "      <td>Special Vehicles</td>\n",
       "      <td>Normal</td>\n",
       "      <td>17</td>\n",
       "      <td>522.764706</td>\n",
       "      <td>two</td>\n",
       "    </tr>\n",
       "    <tr>\n",
       "      <th>1</th>\n",
       "      <td>AM General</td>\n",
       "      <td>FJ8c Post Office</td>\n",
       "      <td>1984</td>\n",
       "      <td>4.2</td>\n",
       "      <td>6.0</td>\n",
       "      <td>Automatic</td>\n",
       "      <td>2-Wheel Drive</td>\n",
       "      <td>Special Vehicles</td>\n",
       "      <td>Normal</td>\n",
       "      <td>13</td>\n",
       "      <td>683.615385</td>\n",
       "      <td>two</td>\n",
       "    </tr>\n",
       "    <tr>\n",
       "      <th>2</th>\n",
       "      <td>AM General</td>\n",
       "      <td>Post Office DJ5 2WD</td>\n",
       "      <td>1985</td>\n",
       "      <td>2.5</td>\n",
       "      <td>4.0</td>\n",
       "      <td>Automatic</td>\n",
       "      <td>Rear-Wheel Drive</td>\n",
       "      <td>Special Vehicles</td>\n",
       "      <td>Normal</td>\n",
       "      <td>16</td>\n",
       "      <td>555.437500</td>\n",
       "      <td>two</td>\n",
       "    </tr>\n",
       "    <tr>\n",
       "      <th>3</th>\n",
       "      <td>AM General</td>\n",
       "      <td>Post Office DJ8 2WD</td>\n",
       "      <td>1985</td>\n",
       "      <td>4.2</td>\n",
       "      <td>6.0</td>\n",
       "      <td>Automatic</td>\n",
       "      <td>Rear-Wheel Drive</td>\n",
       "      <td>Special Vehicles</td>\n",
       "      <td>Normal</td>\n",
       "      <td>13</td>\n",
       "      <td>683.615385</td>\n",
       "      <td>two</td>\n",
       "    </tr>\n",
       "    <tr>\n",
       "      <th>4</th>\n",
       "      <td>ASC Incorporated</td>\n",
       "      <td>GNX</td>\n",
       "      <td>1987</td>\n",
       "      <td>3.8</td>\n",
       "      <td>6.0</td>\n",
       "      <td>Automatic</td>\n",
       "      <td>Rear-Wheel Drive</td>\n",
       "      <td>Medium Cars</td>\n",
       "      <td>Premium</td>\n",
       "      <td>16</td>\n",
       "      <td>555.437500</td>\n",
       "      <td>two</td>\n",
       "    </tr>\n",
       "  </tbody>\n",
       "</table>\n",
       "</div>"
      ],
      "text/plain": [
       "       manufacturer                model  year  displ  cylinders transmission  \\\n",
       "0        AM General    DJ Po Vehicle 2WD  1984    2.5        4.0    Automatic   \n",
       "1        AM General     FJ8c Post Office  1984    4.2        6.0    Automatic   \n",
       "2        AM General  Post Office DJ5 2WD  1985    2.5        4.0    Automatic   \n",
       "3        AM General  Post Office DJ8 2WD  1985    4.2        6.0    Automatic   \n",
       "4  ASC Incorporated                  GNX  1987    3.8        6.0    Automatic   \n",
       "\n",
       "       drive wheels             Class fuelType  consumption  CO2 emissions  \\\n",
       "0     2-Wheel Drive  Special Vehicles   Normal           17     522.764706   \n",
       "1     2-Wheel Drive  Special Vehicles   Normal           13     683.615385   \n",
       "2  Rear-Wheel Drive  Special Vehicles   Normal           16     555.437500   \n",
       "3  Rear-Wheel Drive  Special Vehicles   Normal           13     683.615385   \n",
       "4  Rear-Wheel Drive       Medium Cars  Premium           16     555.437500   \n",
       "\n",
       "  drive  \n",
       "0   two  \n",
       "1   two  \n",
       "2   two  \n",
       "3   two  \n",
       "4   two  "
      ]
     },
     "execution_count": 63,
     "metadata": {},
     "output_type": "execute_result"
    }
   ],
   "source": [
    "vehicles.head()"
   ]
  },
  {
   "cell_type": "code",
   "execution_count": 64,
   "id": "correct-professional",
   "metadata": {},
   "outputs": [
    {
     "data": {
      "text/plain": [
       "Normal             24100\n",
       "Premium            10378\n",
       "Gasoline or E85     1215\n",
       "Others              1098\n",
       "Hybrid               139\n",
       "Name: fuelType, dtype: int64"
      ]
     },
     "execution_count": 64,
     "metadata": {},
     "output_type": "execute_result"
    }
   ],
   "source": [
    "vehicles.fuelType.value_counts()"
   ]
  },
  {
   "cell_type": "code",
   "execution_count": 65,
   "id": "terminal-trunk",
   "metadata": {},
   "outputs": [
    {
     "data": {
      "text/html": [
       "<div>\n",
       "<style scoped>\n",
       "    .dataframe tbody tr th:only-of-type {\n",
       "        vertical-align: middle;\n",
       "    }\n",
       "\n",
       "    .dataframe tbody tr th {\n",
       "        vertical-align: top;\n",
       "    }\n",
       "\n",
       "    .dataframe thead th {\n",
       "        text-align: right;\n",
       "    }\n",
       "</style>\n",
       "<table border=\"1\" class=\"dataframe\">\n",
       "  <thead>\n",
       "    <tr style=\"text-align: right;\">\n",
       "      <th></th>\n",
       "      <th>manufacturer</th>\n",
       "      <th>model</th>\n",
       "      <th>year</th>\n",
       "      <th>displ</th>\n",
       "      <th>cylinders</th>\n",
       "      <th>transmission</th>\n",
       "      <th>drive wheels</th>\n",
       "      <th>Class</th>\n",
       "      <th>fuelType</th>\n",
       "      <th>consumption</th>\n",
       "      <th>CO2 emissions</th>\n",
       "      <th>drive</th>\n",
       "    </tr>\n",
       "  </thead>\n",
       "  <tbody>\n",
       "    <tr>\n",
       "      <th>0</th>\n",
       "      <td>AM General</td>\n",
       "      <td>DJ Po Vehicle 2WD</td>\n",
       "      <td>1984</td>\n",
       "      <td>2.5</td>\n",
       "      <td>4.0</td>\n",
       "      <td>Automatic</td>\n",
       "      <td>2-Wheel Drive</td>\n",
       "      <td>Special Vehicles</td>\n",
       "      <td>Normal</td>\n",
       "      <td>17</td>\n",
       "      <td>522.764706</td>\n",
       "      <td>two</td>\n",
       "    </tr>\n",
       "    <tr>\n",
       "      <th>1</th>\n",
       "      <td>AM General</td>\n",
       "      <td>FJ8c Post Office</td>\n",
       "      <td>1984</td>\n",
       "      <td>4.2</td>\n",
       "      <td>6.0</td>\n",
       "      <td>Automatic</td>\n",
       "      <td>2-Wheel Drive</td>\n",
       "      <td>Special Vehicles</td>\n",
       "      <td>Normal</td>\n",
       "      <td>13</td>\n",
       "      <td>683.615385</td>\n",
       "      <td>two</td>\n",
       "    </tr>\n",
       "    <tr>\n",
       "      <th>2</th>\n",
       "      <td>AM General</td>\n",
       "      <td>Post Office DJ5 2WD</td>\n",
       "      <td>1985</td>\n",
       "      <td>2.5</td>\n",
       "      <td>4.0</td>\n",
       "      <td>Automatic</td>\n",
       "      <td>Rear-Wheel Drive</td>\n",
       "      <td>Special Vehicles</td>\n",
       "      <td>Normal</td>\n",
       "      <td>16</td>\n",
       "      <td>555.437500</td>\n",
       "      <td>two</td>\n",
       "    </tr>\n",
       "    <tr>\n",
       "      <th>3</th>\n",
       "      <td>AM General</td>\n",
       "      <td>Post Office DJ8 2WD</td>\n",
       "      <td>1985</td>\n",
       "      <td>4.2</td>\n",
       "      <td>6.0</td>\n",
       "      <td>Automatic</td>\n",
       "      <td>Rear-Wheel Drive</td>\n",
       "      <td>Special Vehicles</td>\n",
       "      <td>Normal</td>\n",
       "      <td>13</td>\n",
       "      <td>683.615385</td>\n",
       "      <td>two</td>\n",
       "    </tr>\n",
       "    <tr>\n",
       "      <th>4</th>\n",
       "      <td>ASC Incorporated</td>\n",
       "      <td>GNX</td>\n",
       "      <td>1987</td>\n",
       "      <td>3.8</td>\n",
       "      <td>6.0</td>\n",
       "      <td>Automatic</td>\n",
       "      <td>Rear-Wheel Drive</td>\n",
       "      <td>Medium Cars</td>\n",
       "      <td>Premium</td>\n",
       "      <td>16</td>\n",
       "      <td>555.437500</td>\n",
       "      <td>two</td>\n",
       "    </tr>\n",
       "  </tbody>\n",
       "</table>\n",
       "</div>"
      ],
      "text/plain": [
       "       manufacturer                model  year  displ  cylinders transmission  \\\n",
       "0        AM General    DJ Po Vehicle 2WD  1984    2.5        4.0    Automatic   \n",
       "1        AM General     FJ8c Post Office  1984    4.2        6.0    Automatic   \n",
       "2        AM General  Post Office DJ5 2WD  1985    2.5        4.0    Automatic   \n",
       "3        AM General  Post Office DJ8 2WD  1985    4.2        6.0    Automatic   \n",
       "4  ASC Incorporated                  GNX  1987    3.8        6.0    Automatic   \n",
       "\n",
       "       drive wheels             Class fuelType  consumption  CO2 emissions  \\\n",
       "0     2-Wheel Drive  Special Vehicles   Normal           17     522.764706   \n",
       "1     2-Wheel Drive  Special Vehicles   Normal           13     683.615385   \n",
       "2  Rear-Wheel Drive  Special Vehicles   Normal           16     555.437500   \n",
       "3  Rear-Wheel Drive  Special Vehicles   Normal           13     683.615385   \n",
       "4  Rear-Wheel Drive       Medium Cars  Premium           16     555.437500   \n",
       "\n",
       "  drive  \n",
       "0   two  \n",
       "1   two  \n",
       "2   two  \n",
       "3   two  \n",
       "4   two  "
      ]
     },
     "execution_count": 65,
     "metadata": {},
     "output_type": "execute_result"
    }
   ],
   "source": [
    "vehicles.head()"
   ]
  },
  {
   "cell_type": "markdown",
   "id": "pursuant-cloud",
   "metadata": {},
   "source": [
    "### Continuous variables clustering"
   ]
  },
  {
   "cell_type": "markdown",
   "id": "sealed-session",
   "metadata": {},
   "source": [
    "A simple way to convert continuous variables is by using quintiles"
   ]
  },
  {
   "cell_type": "code",
   "execution_count": 66,
   "id": "dimensional-butter",
   "metadata": {},
   "outputs": [],
   "source": [
    "types_motor_size = ['very small', 'small', 'medium', 'large', 'very large']\n",
    "\n",
    "vehicles['types_motor_size'] = pd.qcut(vehicles['displ'],\n",
    "                                     5, types_motor_size)"
   ]
  },
  {
   "cell_type": "code",
   "execution_count": 84,
   "id": "compliant-vaccine",
   "metadata": {},
   "outputs": [],
   "source": [
    "types_consumption = ['very small', 'small', 'medium' , 'large', 'very large']\n",
    "\n",
    "vehicles['types_consumption'] = pd.qcut(vehicles['consumption'], \n",
    "                                       5, types_consumption)"
   ]
  },
  {
   "cell_type": "code",
   "execution_count": 85,
   "id": "grand-omega",
   "metadata": {},
   "outputs": [],
   "source": [
    "types_co2 = ['very small', 'small', 'medium' , 'large', 'very large']\n",
    "\n",
    "vehicles['co2_type'] = pd.qcut(vehicles['CO2 emissions'],\n",
    "                              5, types_co2)"
   ]
  },
  {
   "cell_type": "code",
   "execution_count": 86,
   "id": "precise-correction",
   "metadata": {},
   "outputs": [
    {
     "data": {
      "text/html": [
       "<div>\n",
       "<style scoped>\n",
       "    .dataframe tbody tr th:only-of-type {\n",
       "        vertical-align: middle;\n",
       "    }\n",
       "\n",
       "    .dataframe tbody tr th {\n",
       "        vertical-align: top;\n",
       "    }\n",
       "\n",
       "    .dataframe thead th {\n",
       "        text-align: right;\n",
       "    }\n",
       "</style>\n",
       "<table border=\"1\" class=\"dataframe\">\n",
       "  <thead>\n",
       "    <tr style=\"text-align: right;\">\n",
       "      <th></th>\n",
       "      <th>manufacturer</th>\n",
       "      <th>model</th>\n",
       "      <th>year</th>\n",
       "      <th>displ</th>\n",
       "      <th>cylinders</th>\n",
       "      <th>transmission</th>\n",
       "      <th>drive wheels</th>\n",
       "      <th>Class</th>\n",
       "      <th>fuelType</th>\n",
       "      <th>consumption</th>\n",
       "      <th>CO2 emissions</th>\n",
       "      <th>drive</th>\n",
       "      <th>types_motor_size</th>\n",
       "      <th>co2_type</th>\n",
       "      <th>consumption_litres_mile</th>\n",
       "      <th>type_consumption</th>\n",
       "      <th>types_consumption</th>\n",
       "    </tr>\n",
       "  </thead>\n",
       "  <tbody>\n",
       "    <tr>\n",
       "      <th>0</th>\n",
       "      <td>AM General</td>\n",
       "      <td>DJ Po Vehicle 2WD</td>\n",
       "      <td>1984</td>\n",
       "      <td>2.5</td>\n",
       "      <td>4.0</td>\n",
       "      <td>Automatic</td>\n",
       "      <td>2-Wheel Drive</td>\n",
       "      <td>Special Vehicles</td>\n",
       "      <td>Normal</td>\n",
       "      <td>17</td>\n",
       "      <td>522.764706</td>\n",
       "      <td>two</td>\n",
       "      <td>small</td>\n",
       "      <td>large</td>\n",
       "      <td>0.222671</td>\n",
       "      <td>large</td>\n",
       "      <td>small</td>\n",
       "    </tr>\n",
       "    <tr>\n",
       "      <th>1</th>\n",
       "      <td>AM General</td>\n",
       "      <td>FJ8c Post Office</td>\n",
       "      <td>1984</td>\n",
       "      <td>4.2</td>\n",
       "      <td>6.0</td>\n",
       "      <td>Automatic</td>\n",
       "      <td>2-Wheel Drive</td>\n",
       "      <td>Special Vehicles</td>\n",
       "      <td>Normal</td>\n",
       "      <td>13</td>\n",
       "      <td>683.615385</td>\n",
       "      <td>two</td>\n",
       "      <td>large</td>\n",
       "      <td>very large</td>\n",
       "      <td>0.291185</td>\n",
       "      <td>very large</td>\n",
       "      <td>very small</td>\n",
       "    </tr>\n",
       "    <tr>\n",
       "      <th>2</th>\n",
       "      <td>AM General</td>\n",
       "      <td>Post Office DJ5 2WD</td>\n",
       "      <td>1985</td>\n",
       "      <td>2.5</td>\n",
       "      <td>4.0</td>\n",
       "      <td>Automatic</td>\n",
       "      <td>Rear-Wheel Drive</td>\n",
       "      <td>Special Vehicles</td>\n",
       "      <td>Normal</td>\n",
       "      <td>16</td>\n",
       "      <td>555.437500</td>\n",
       "      <td>two</td>\n",
       "      <td>small</td>\n",
       "      <td>large</td>\n",
       "      <td>0.236588</td>\n",
       "      <td>large</td>\n",
       "      <td>very small</td>\n",
       "    </tr>\n",
       "    <tr>\n",
       "      <th>3</th>\n",
       "      <td>AM General</td>\n",
       "      <td>Post Office DJ8 2WD</td>\n",
       "      <td>1985</td>\n",
       "      <td>4.2</td>\n",
       "      <td>6.0</td>\n",
       "      <td>Automatic</td>\n",
       "      <td>Rear-Wheel Drive</td>\n",
       "      <td>Special Vehicles</td>\n",
       "      <td>Normal</td>\n",
       "      <td>13</td>\n",
       "      <td>683.615385</td>\n",
       "      <td>two</td>\n",
       "      <td>large</td>\n",
       "      <td>very large</td>\n",
       "      <td>0.291185</td>\n",
       "      <td>very large</td>\n",
       "      <td>very small</td>\n",
       "    </tr>\n",
       "    <tr>\n",
       "      <th>4</th>\n",
       "      <td>ASC Incorporated</td>\n",
       "      <td>GNX</td>\n",
       "      <td>1987</td>\n",
       "      <td>3.8</td>\n",
       "      <td>6.0</td>\n",
       "      <td>Automatic</td>\n",
       "      <td>Rear-Wheel Drive</td>\n",
       "      <td>Medium Cars</td>\n",
       "      <td>Premium</td>\n",
       "      <td>16</td>\n",
       "      <td>555.437500</td>\n",
       "      <td>two</td>\n",
       "      <td>large</td>\n",
       "      <td>large</td>\n",
       "      <td>0.236588</td>\n",
       "      <td>large</td>\n",
       "      <td>very small</td>\n",
       "    </tr>\n",
       "  </tbody>\n",
       "</table>\n",
       "</div>"
      ],
      "text/plain": [
       "       manufacturer                model  year  displ  cylinders transmission  \\\n",
       "0        AM General    DJ Po Vehicle 2WD  1984    2.5        4.0    Automatic   \n",
       "1        AM General     FJ8c Post Office  1984    4.2        6.0    Automatic   \n",
       "2        AM General  Post Office DJ5 2WD  1985    2.5        4.0    Automatic   \n",
       "3        AM General  Post Office DJ8 2WD  1985    4.2        6.0    Automatic   \n",
       "4  ASC Incorporated                  GNX  1987    3.8        6.0    Automatic   \n",
       "\n",
       "       drive wheels             Class fuelType  consumption  CO2 emissions  \\\n",
       "0     2-Wheel Drive  Special Vehicles   Normal           17     522.764706   \n",
       "1     2-Wheel Drive  Special Vehicles   Normal           13     683.615385   \n",
       "2  Rear-Wheel Drive  Special Vehicles   Normal           16     555.437500   \n",
       "3  Rear-Wheel Drive  Special Vehicles   Normal           13     683.615385   \n",
       "4  Rear-Wheel Drive       Medium Cars  Premium           16     555.437500   \n",
       "\n",
       "  drive types_motor_size    co2_type  consumption_litres_mile  \\\n",
       "0   two            small       large                 0.222671   \n",
       "1   two            large  very large                 0.291185   \n",
       "2   two            small       large                 0.236588   \n",
       "3   two            large  very large                 0.291185   \n",
       "4   two            large       large                 0.236588   \n",
       "\n",
       "  type_consumption types_consumption  \n",
       "0            large             small  \n",
       "1       very large        very small  \n",
       "2            large        very small  \n",
       "3       very large        very small  \n",
       "4            large        very small  "
      ]
     },
     "execution_count": 86,
     "metadata": {},
     "output_type": "execute_result"
    }
   ],
   "source": [
    "vehicles.head()"
   ]
  },
  {
   "cell_type": "markdown",
   "id": "related-catholic",
   "metadata": {},
   "source": [
    "When checking the dataset, we noticed there is an error between the comb08 which stands for combined Miles per Galon (fuel consumption)and CO2.\n",
    "Those cars which consume more fuel are, indeed, those that are going to emit more polution.\n",
    "So, we see how the variables relates with each other"
   ]
  },
  {
   "cell_type": "code",
   "execution_count": 87,
   "id": "great-spokesman",
   "metadata": {},
   "outputs": [
    {
     "data": {
      "text/plain": [
       "<AxesSubplot:xlabel='consumption', ylabel='CO2 emissions'>"
      ]
     },
     "execution_count": 87,
     "metadata": {},
     "output_type": "execute_result"
    },
    {
     "data": {
      "image/png": "[encoded data removed]",
      "text/plain": [
       "<Figure size 864x864 with 1 Axes>"
      ]
     },
     "metadata": {
      "needs_background": "light"
     },
     "output_type": "display_data"
    }
   ],
   "source": [
    "vehicles.plot.scatter(x=\"consumption\", y=\"CO2 emissions\")"
   ]
  },
  {
   "cell_type": "markdown",
   "id": "moving-reach",
   "metadata": {},
   "source": [
    "This inverse relation are explained on the documentation of the dataset. CO2 consumption is measured by grams per mile, while the consumption is measured by miles per galon.\n",
    "We need to invert the consumption to galons per mile.\n",
    "\n",
    "Besides, we are going to measure litres per galon.\n"
   ]
  },
  {
   "cell_type": "code",
   "execution_count": 88,
   "id": "received-adams",
   "metadata": {},
   "outputs": [],
   "source": [
    "litres_per_galon = 3.78541\n",
    "vehicles['consumption_litres_mile'] = litres_per_galon / vehicles.consumption"
   ]
  },
  {
   "cell_type": "code",
   "execution_count": 89,
   "id": "hungarian-prevention",
   "metadata": {
    "scrolled": true
   },
   "outputs": [
    {
     "data": {
      "text/html": [
       "<div>\n",
       "<style scoped>\n",
       "    .dataframe tbody tr th:only-of-type {\n",
       "        vertical-align: middle;\n",
       "    }\n",
       "\n",
       "    .dataframe tbody tr th {\n",
       "        vertical-align: top;\n",
       "    }\n",
       "\n",
       "    .dataframe thead th {\n",
       "        text-align: right;\n",
       "    }\n",
       "</style>\n",
       "<table border=\"1\" class=\"dataframe\">\n",
       "  <thead>\n",
       "    <tr style=\"text-align: right;\">\n",
       "      <th></th>\n",
       "      <th>manufacturer</th>\n",
       "      <th>model</th>\n",
       "      <th>year</th>\n",
       "      <th>displ</th>\n",
       "      <th>cylinders</th>\n",
       "      <th>transmission</th>\n",
       "      <th>drive wheels</th>\n",
       "      <th>Class</th>\n",
       "      <th>fuelType</th>\n",
       "      <th>consumption</th>\n",
       "      <th>CO2 emissions</th>\n",
       "      <th>drive</th>\n",
       "      <th>types_motor_size</th>\n",
       "      <th>co2_type</th>\n",
       "      <th>consumption_litres_mile</th>\n",
       "      <th>type_consumption</th>\n",
       "      <th>types_consumption</th>\n",
       "    </tr>\n",
       "  </thead>\n",
       "  <tbody>\n",
       "    <tr>\n",
       "      <th>0</th>\n",
       "      <td>AM General</td>\n",
       "      <td>DJ Po Vehicle 2WD</td>\n",
       "      <td>1984</td>\n",
       "      <td>2.5</td>\n",
       "      <td>4.0</td>\n",
       "      <td>Automatic</td>\n",
       "      <td>2-Wheel Drive</td>\n",
       "      <td>Special Vehicles</td>\n",
       "      <td>Normal</td>\n",
       "      <td>17</td>\n",
       "      <td>522.764706</td>\n",
       "      <td>two</td>\n",
       "      <td>small</td>\n",
       "      <td>large</td>\n",
       "      <td>0.222671</td>\n",
       "      <td>large</td>\n",
       "      <td>small</td>\n",
       "    </tr>\n",
       "    <tr>\n",
       "      <th>1</th>\n",
       "      <td>AM General</td>\n",
       "      <td>FJ8c Post Office</td>\n",
       "      <td>1984</td>\n",
       "      <td>4.2</td>\n",
       "      <td>6.0</td>\n",
       "      <td>Automatic</td>\n",
       "      <td>2-Wheel Drive</td>\n",
       "      <td>Special Vehicles</td>\n",
       "      <td>Normal</td>\n",
       "      <td>13</td>\n",
       "      <td>683.615385</td>\n",
       "      <td>two</td>\n",
       "      <td>large</td>\n",
       "      <td>very large</td>\n",
       "      <td>0.291185</td>\n",
       "      <td>very large</td>\n",
       "      <td>very small</td>\n",
       "    </tr>\n",
       "    <tr>\n",
       "      <th>2</th>\n",
       "      <td>AM General</td>\n",
       "      <td>Post Office DJ5 2WD</td>\n",
       "      <td>1985</td>\n",
       "      <td>2.5</td>\n",
       "      <td>4.0</td>\n",
       "      <td>Automatic</td>\n",
       "      <td>Rear-Wheel Drive</td>\n",
       "      <td>Special Vehicles</td>\n",
       "      <td>Normal</td>\n",
       "      <td>16</td>\n",
       "      <td>555.437500</td>\n",
       "      <td>two</td>\n",
       "      <td>small</td>\n",
       "      <td>large</td>\n",
       "      <td>0.236588</td>\n",
       "      <td>large</td>\n",
       "      <td>very small</td>\n",
       "    </tr>\n",
       "    <tr>\n",
       "      <th>3</th>\n",
       "      <td>AM General</td>\n",
       "      <td>Post Office DJ8 2WD</td>\n",
       "      <td>1985</td>\n",
       "      <td>4.2</td>\n",
       "      <td>6.0</td>\n",
       "      <td>Automatic</td>\n",
       "      <td>Rear-Wheel Drive</td>\n",
       "      <td>Special Vehicles</td>\n",
       "      <td>Normal</td>\n",
       "      <td>13</td>\n",
       "      <td>683.615385</td>\n",
       "      <td>two</td>\n",
       "      <td>large</td>\n",
       "      <td>very large</td>\n",
       "      <td>0.291185</td>\n",
       "      <td>very large</td>\n",
       "      <td>very small</td>\n",
       "    </tr>\n",
       "    <tr>\n",
       "      <th>4</th>\n",
       "      <td>ASC Incorporated</td>\n",
       "      <td>GNX</td>\n",
       "      <td>1987</td>\n",
       "      <td>3.8</td>\n",
       "      <td>6.0</td>\n",
       "      <td>Automatic</td>\n",
       "      <td>Rear-Wheel Drive</td>\n",
       "      <td>Medium Cars</td>\n",
       "      <td>Premium</td>\n",
       "      <td>16</td>\n",
       "      <td>555.437500</td>\n",
       "      <td>two</td>\n",
       "      <td>large</td>\n",
       "      <td>large</td>\n",
       "      <td>0.236588</td>\n",
       "      <td>large</td>\n",
       "      <td>very small</td>\n",
       "    </tr>\n",
       "  </tbody>\n",
       "</table>\n",
       "</div>"
      ],
      "text/plain": [
       "       manufacturer                model  year  displ  cylinders transmission  \\\n",
       "0        AM General    DJ Po Vehicle 2WD  1984    2.5        4.0    Automatic   \n",
       "1        AM General     FJ8c Post Office  1984    4.2        6.0    Automatic   \n",
       "2        AM General  Post Office DJ5 2WD  1985    2.5        4.0    Automatic   \n",
       "3        AM General  Post Office DJ8 2WD  1985    4.2        6.0    Automatic   \n",
       "4  ASC Incorporated                  GNX  1987    3.8        6.0    Automatic   \n",
       "\n",
       "       drive wheels             Class fuelType  consumption  CO2 emissions  \\\n",
       "0     2-Wheel Drive  Special Vehicles   Normal           17     522.764706   \n",
       "1     2-Wheel Drive  Special Vehicles   Normal           13     683.615385   \n",
       "2  Rear-Wheel Drive  Special Vehicles   Normal           16     555.437500   \n",
       "3  Rear-Wheel Drive  Special Vehicles   Normal           13     683.615385   \n",
       "4  Rear-Wheel Drive       Medium Cars  Premium           16     555.437500   \n",
       "\n",
       "  drive types_motor_size    co2_type  consumption_litres_mile  \\\n",
       "0   two            small       large                 0.222671   \n",
       "1   two            large  very large                 0.291185   \n",
       "2   two            small       large                 0.236588   \n",
       "3   two            large  very large                 0.291185   \n",
       "4   two            large       large                 0.236588   \n",
       "\n",
       "  type_consumption types_consumption  \n",
       "0            large             small  \n",
       "1       very large        very small  \n",
       "2            large        very small  \n",
       "3       very large        very small  \n",
       "4            large        very small  "
      ]
     },
     "execution_count": 89,
     "metadata": {},
     "output_type": "execute_result"
    }
   ],
   "source": [
    "vehicles.head()"
   ]
  },
  {
   "cell_type": "code",
   "execution_count": 90,
   "id": "wound-spirit",
   "metadata": {},
   "outputs": [
    {
     "data": {
      "image/png": "[encoded data removed]",
      "text/plain": [
       "<Figure size 864x864 with 1 Axes>"
      ]
     },
     "metadata": {
      "needs_background": "light"
     },
     "output_type": "display_data"
    }
   ],
   "source": [
    "vehicles.plot.scatter(x='consumption_litres_mile', y='CO2 emissions');"
   ]
  },
  {
   "cell_type": "code",
   "execution_count": 91,
   "id": "stuck-party",
   "metadata": {},
   "outputs": [
    {
     "data": {
      "text/plain": [
       "0         large\n",
       "1    very large\n",
       "2         large\n",
       "3    very large\n",
       "4         large\n",
       "Name: types_consumption, dtype: category\n",
       "Categories (5, object): ['very small' < 'small' < 'medium' < 'large' < 'very large']"
      ]
     },
     "execution_count": 91,
     "metadata": {},
     "output_type": "execute_result"
    }
   ],
   "source": [
    "types_consumption = ['very small', 'small', 'medium' , 'large', 'very large']\n",
    "vehicles['types_consumption'] = pd.qcut(vehicles['consumption_litres_mile'],\n",
    "                                      5, types_consumption)\n",
    "vehicles.types_consumption.head()"
   ]
  },
  {
   "cell_type": "code",
   "execution_count": 92,
   "id": "ultimate-papua",
   "metadata": {},
   "outputs": [
    {
     "data": {
      "text/html": [
       "<div>\n",
       "<style scoped>\n",
       "    .dataframe tbody tr th:only-of-type {\n",
       "        vertical-align: middle;\n",
       "    }\n",
       "\n",
       "    .dataframe tbody tr th {\n",
       "        vertical-align: top;\n",
       "    }\n",
       "\n",
       "    .dataframe thead th {\n",
       "        text-align: right;\n",
       "    }\n",
       "</style>\n",
       "<table border=\"1\" class=\"dataframe\">\n",
       "  <thead>\n",
       "    <tr style=\"text-align: right;\">\n",
       "      <th></th>\n",
       "      <th>manufacturer</th>\n",
       "      <th>model</th>\n",
       "      <th>year</th>\n",
       "      <th>displ</th>\n",
       "      <th>cylinders</th>\n",
       "      <th>transmission</th>\n",
       "      <th>drive wheels</th>\n",
       "      <th>Class</th>\n",
       "      <th>fuelType</th>\n",
       "      <th>consumption</th>\n",
       "      <th>CO2 emissions</th>\n",
       "      <th>drive</th>\n",
       "      <th>types_motor_size</th>\n",
       "      <th>co2_type</th>\n",
       "      <th>consumption_litres_mile</th>\n",
       "      <th>type_consumption</th>\n",
       "      <th>types_consumption</th>\n",
       "    </tr>\n",
       "  </thead>\n",
       "  <tbody>\n",
       "    <tr>\n",
       "      <th>0</th>\n",
       "      <td>AM General</td>\n",
       "      <td>DJ Po Vehicle 2WD</td>\n",
       "      <td>1984</td>\n",
       "      <td>2.5</td>\n",
       "      <td>4.0</td>\n",
       "      <td>Automatic</td>\n",
       "      <td>2-Wheel Drive</td>\n",
       "      <td>Special Vehicles</td>\n",
       "      <td>Normal</td>\n",
       "      <td>17</td>\n",
       "      <td>522.764706</td>\n",
       "      <td>two</td>\n",
       "      <td>small</td>\n",
       "      <td>large</td>\n",
       "      <td>0.222671</td>\n",
       "      <td>large</td>\n",
       "      <td>large</td>\n",
       "    </tr>\n",
       "    <tr>\n",
       "      <th>1</th>\n",
       "      <td>AM General</td>\n",
       "      <td>FJ8c Post Office</td>\n",
       "      <td>1984</td>\n",
       "      <td>4.2</td>\n",
       "      <td>6.0</td>\n",
       "      <td>Automatic</td>\n",
       "      <td>2-Wheel Drive</td>\n",
       "      <td>Special Vehicles</td>\n",
       "      <td>Normal</td>\n",
       "      <td>13</td>\n",
       "      <td>683.615385</td>\n",
       "      <td>two</td>\n",
       "      <td>large</td>\n",
       "      <td>very large</td>\n",
       "      <td>0.291185</td>\n",
       "      <td>very large</td>\n",
       "      <td>very large</td>\n",
       "    </tr>\n",
       "    <tr>\n",
       "      <th>2</th>\n",
       "      <td>AM General</td>\n",
       "      <td>Post Office DJ5 2WD</td>\n",
       "      <td>1985</td>\n",
       "      <td>2.5</td>\n",
       "      <td>4.0</td>\n",
       "      <td>Automatic</td>\n",
       "      <td>Rear-Wheel Drive</td>\n",
       "      <td>Special Vehicles</td>\n",
       "      <td>Normal</td>\n",
       "      <td>16</td>\n",
       "      <td>555.437500</td>\n",
       "      <td>two</td>\n",
       "      <td>small</td>\n",
       "      <td>large</td>\n",
       "      <td>0.236588</td>\n",
       "      <td>large</td>\n",
       "      <td>large</td>\n",
       "    </tr>\n",
       "    <tr>\n",
       "      <th>3</th>\n",
       "      <td>AM General</td>\n",
       "      <td>Post Office DJ8 2WD</td>\n",
       "      <td>1985</td>\n",
       "      <td>4.2</td>\n",
       "      <td>6.0</td>\n",
       "      <td>Automatic</td>\n",
       "      <td>Rear-Wheel Drive</td>\n",
       "      <td>Special Vehicles</td>\n",
       "      <td>Normal</td>\n",
       "      <td>13</td>\n",
       "      <td>683.615385</td>\n",
       "      <td>two</td>\n",
       "      <td>large</td>\n",
       "      <td>very large</td>\n",
       "      <td>0.291185</td>\n",
       "      <td>very large</td>\n",
       "      <td>very large</td>\n",
       "    </tr>\n",
       "    <tr>\n",
       "      <th>4</th>\n",
       "      <td>ASC Incorporated</td>\n",
       "      <td>GNX</td>\n",
       "      <td>1987</td>\n",
       "      <td>3.8</td>\n",
       "      <td>6.0</td>\n",
       "      <td>Automatic</td>\n",
       "      <td>Rear-Wheel Drive</td>\n",
       "      <td>Medium Cars</td>\n",
       "      <td>Premium</td>\n",
       "      <td>16</td>\n",
       "      <td>555.437500</td>\n",
       "      <td>two</td>\n",
       "      <td>large</td>\n",
       "      <td>large</td>\n",
       "      <td>0.236588</td>\n",
       "      <td>large</td>\n",
       "      <td>large</td>\n",
       "    </tr>\n",
       "  </tbody>\n",
       "</table>\n",
       "</div>"
      ],
      "text/plain": [
       "       manufacturer                model  year  displ  cylinders transmission  \\\n",
       "0        AM General    DJ Po Vehicle 2WD  1984    2.5        4.0    Automatic   \n",
       "1        AM General     FJ8c Post Office  1984    4.2        6.0    Automatic   \n",
       "2        AM General  Post Office DJ5 2WD  1985    2.5        4.0    Automatic   \n",
       "3        AM General  Post Office DJ8 2WD  1985    4.2        6.0    Automatic   \n",
       "4  ASC Incorporated                  GNX  1987    3.8        6.0    Automatic   \n",
       "\n",
       "       drive wheels             Class fuelType  consumption  CO2 emissions  \\\n",
       "0     2-Wheel Drive  Special Vehicles   Normal           17     522.764706   \n",
       "1     2-Wheel Drive  Special Vehicles   Normal           13     683.615385   \n",
       "2  Rear-Wheel Drive  Special Vehicles   Normal           16     555.437500   \n",
       "3  Rear-Wheel Drive  Special Vehicles   Normal           13     683.615385   \n",
       "4  Rear-Wheel Drive       Medium Cars  Premium           16     555.437500   \n",
       "\n",
       "  drive types_motor_size    co2_type  consumption_litres_mile  \\\n",
       "0   two            small       large                 0.222671   \n",
       "1   two            large  very large                 0.291185   \n",
       "2   two            small       large                 0.236588   \n",
       "3   two            large  very large                 0.291185   \n",
       "4   two            large       large                 0.236588   \n",
       "\n",
       "  type_consumption types_consumption  \n",
       "0            large             large  \n",
       "1       very large        very large  \n",
       "2            large             large  \n",
       "3       very large        very large  \n",
       "4            large             large  "
      ]
     },
     "execution_count": 92,
     "metadata": {},
     "output_type": "execute_result"
    }
   ],
   "source": [
    "vehicles.head()"
   ]
  },
  {
   "cell_type": "code",
   "execution_count": 93,
   "id": "opponent-weekly",
   "metadata": {},
   "outputs": [
    {
     "data": {
      "text/plain": [
       "manufacturer                 object\n",
       "model                        object\n",
       "year                          int64\n",
       "displ                       float64\n",
       "cylinders                   float64\n",
       "transmission                 object\n",
       "drive wheels                 object\n",
       "Class                      category\n",
       "fuelType                     object\n",
       "consumption                   int64\n",
       "CO2 emissions               float64\n",
       "drive                      category\n",
       "types_motor_size           category\n",
       "co2_type                   category\n",
       "consumption_litres_mile     float64\n",
       "type_consumption           category\n",
       "types_consumption          category\n",
       "dtype: object"
      ]
     },
     "execution_count": 93,
     "metadata": {},
     "output_type": "execute_result"
    }
   ],
   "source": [
    "vehicles.dtypes"
   ]
  },
  {
   "cell_type": "markdown",
   "id": "attached-format",
   "metadata": {},
   "source": [
    "### Conclussion\n",
    "Consumption variable is defined by miles per galon and the CO2 is defined by grames per mile.\n",
    "Since the CO2 is the main variable of the dataset, we have created another variable called consumption_litres_mile in order to compare it with CO2"
   ]
  },
  {
   "cell_type": "markdown",
   "id": "acknowledged-schema",
   "metadata": {},
   "source": [
    "### Exporting\n",
    "It is very common to save the datafile as CSV. The main problem arises using CSV is all data calculated or obtained over the dataframe will be lost.\n",
    "\n",
    "We shall instead, save the file on a Python native format to save dataframes in between steps, for the later saving of the final dataset as CSV file.\n",
    "\n",
    "The standard serialization of Python is Pyckle. From an user point of view, it will found the dataset the same way we found when closing Jupyter notebook and reopen it again. "
   ]
  },
  {
   "cell_type": "code",
   "execution_count": 94,
   "id": "upper-thailand",
   "metadata": {},
   "outputs": [],
   "source": [
    "vehicles.to_pickle(\"../data/vehicles.3.clustered_variables.pkl\")"
   ]
  },
  {
   "cell_type": "code",
   "execution_count": null,
   "id": "stylish-ribbon",
   "metadata": {},
   "outputs": [],
   "source": []
  }
 ],
 "metadata": {
  "kernelspec": {
   "display_name": "Python 3",
   "language": "python",
   "name": "python3"
  },
  "language_info": {
   "codemirror_mode": {
    "name": "ipython",
    "version": 3
   },
   "file_extension": ".py",
   "mimetype": "text/x-python",
   "name": "python",
   "nbconvert_exporter": "python",
   "pygments_lexer": "ipython3",
   "version": "3.9.2"
  }
 },
 "nbformat": 4,
 "nbformat_minor": 5
}
